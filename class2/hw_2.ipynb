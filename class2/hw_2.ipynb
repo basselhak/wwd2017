{
 "cells": [
  {
   "cell_type": "markdown",
   "metadata": {},
   "source": [
    "# Homework 2\n",
    "## Due date: Friday 16th 23:59\n",
    "- Write your own code in the blanks. It is okay to collaborate with other students, but both students must write their own code and write the name of the other student in this cell. In case you adapt code from other sources you also must give that user credit (a comment with the link to the source suffices)\n",
    "- Complete the blanks, adding comments to explain what you are doing\n",
    "- Each plot must have labels\n",
    "\n",
    "Collaborated with:"
   ]
  },
  {
   "cell_type": "code",
   "execution_count": 33,
   "metadata": {
    "collapsed": false
   },
   "outputs": [
    {
     "data": {
      "text/html": [
       "<style>.container { width:90% !important; }</style>"
      ],
      "text/plain": [
       "<IPython.core.display.HTML object>"
      ]
     },
     "metadata": {},
     "output_type": "display_data"
    }
   ],
   "source": [
    "##Some code to run at the beginning of the file, to be able to show images in the notebook\n",
    "##Don't worry about this cell but run it\n",
    "\n",
    "#Print the plots in this screen\n",
    "%matplotlib inline \n",
    "\n",
    "#Be able to plot images saved in the hard drive\n",
    "from IPython.display import Image,display\n",
    "\n",
    "#Make the notebook wider\n",
    "from IPython.core.display import display, HTML \n",
    "display(HTML(\"<style>.container { width:90% !important; }</style>\"))"
   ]
  },
  {
   "cell_type": "markdown",
   "metadata": {},
   "source": [
    "## Assignment 0 (ungraded but important). Read some tutorials\n",
    " Please play with the these ones (you should have them in the class1 folder if you downloaded them during the hw1):\n",
    "- Chapter 4 - Find out on which weekday people bike the most with groupby and aggregate.ipynb\n",
    "- Chapter 5 - Combining dataframes and scraping Canadian weather data.ipynb\n",
    "- Chapter 6 - String Operations- Which month was the snowiest.ipynb\n",
    "- Chapter 7 - Cleaning up messy data.ipynb\n"
   ]
  },
  {
   "cell_type": "markdown",
   "metadata": {},
   "source": [
    "## Assignment 1 \n",
    "- Create a dictionary of names and sizes usign two lists\n",
    "\n",
    "- Get the heights of \"Alice\" and \"Bob\" \n",
    "\n",
    "- Add the height of \"Holly\""
   ]
  },
  {
   "cell_type": "code",
   "execution_count": null,
   "metadata": {
    "collapsed": true
   },
   "outputs": [],
   "source": [
    "## Assingment 3 \n",
    "#Create a dictionary of names and sizes usign the following two lists (tip use dict() and zip())\n",
    "names = [\"Alice\",\"Bob\",\"Chris\",\"Dylan\",\"Esther\",\"Fred\",\"Greg\"]\n",
    "heights = [1.74,1.9,1.6,1.8,1.6,1.8,1.7]\n",
    "d_names2heights = \n",
    "\n",
    "#Get the heights of \"Alice\" and \"Bob\" \n",
    "\n",
    "\n",
    "#Add the height of \"Holly\" (1.98) \n"
   ]
  },
  {
   "cell_type": "markdown",
   "metadata": {
    "collapsed": true
   },
   "source": [
    "## Assignment 2\n",
    "- Create your own function called \"mean_column_stata\" of with the following inputs and outputs\n",
    "\n",
    "```\n",
    "input: \n",
    "filename: the filename of a stata file to read\n",
    "column: the column name to calculate the mean\n",
    "\n",
    "output: the mean of the values in that column```\n",
    "\n",
    "- Use as the name of the function mean_column_stata()\n",
    "- This function must use our own function (mean_ours())\n",
    "\n",
    "- Use this function to calculate the mean of the \"income\" column in the dataset \"data/alcohol.dta\"\n",
    "    - i.e. mean_column_stata(filename=\"data/alcohol.dta\",column=\"income\") must return 649.528\n",
    "    "
   ]
  },
  {
   "cell_type": "code",
   "execution_count": null,
   "metadata": {
    "collapsed": true
   },
   "outputs": [],
   "source": [
    "#define the function, with the arguments filename and column\n",
    "def mean_column_stata(filename,column):\n",
    "    \"\"\"\n",
    "    input: \n",
    "    filename: the filename of a stata file to read\n",
    "    column: the column name to calculate the mean\n",
    "\n",
    "    output: the mean of the values in that column\n",
    "    \"\"\"\n",
    "    #read stata file\n",
    "    df = \n",
    "    \n",
    "    #keep the values of the column \n",
    "    values_column = \n",
    "    \n",
    "    #calculate the mean of that column\n",
    "    mean_column = \n",
    "    \n",
    "    #return that mean\n",
    "    return\n",
    "\n",
    "mean = mean_column_stata(filename=\"data/alcohol.dta\",column=\"income\")\n",
    "print(mean)"
   ]
  },
  {
   "cell_type": "markdown",
   "metadata": {
    "collapsed": true
   },
   "source": [
    "## Assignment 3\n",
    "- Read the two dataframes: \"data/green_area_pc.csv\" and \"data/pop_dens.csv\"\n",
    "- Check their heads\n",
    "- Merge them using as an argument how=\"outer\" (this will keep missing values)\n",
    "- Create a new variable measuring the densitiy of green area (m^2 green)/(m^2 city). Think that the green_area_pc is (m^2 green)/population and pop_dens is population/(km^2 city)\n",
    "- Sort the dataset by this new variable (.sort_values(by= ,ascending=)) to find the city with the largest fraction of green area.\n",
    "- Sort the dataset by \"fraction_green\" (.sort_values(by= ,ascending=)) to find the city with the lowest fraction of green area. use the argument \"na_position\". To see its possible values run: `df.sort_values?`\n",
    "- Make a column with the country code\n",
    "- Keep the metropolitan areas in the Netherlands and Italy\n",
    "- Make a plot (choose the appropriate type) of \"GREEN_AREA_PC\" vs \"fraction_green\", colouring by country\n",
    "- Make a jointplot of \"GREEN_AREA_PC\" vs \"fraction_green\" in Italy, of the type hex\n",
    "- Plot the distribution of \"fraction_green\" for both countries"
   ]
  },
  {
   "cell_type": "code",
   "execution_count": 119,
   "metadata": {
    "collapsed": true
   },
   "outputs": [],
   "source": [
    "df.sort_values?"
   ]
  },
  {
   "cell_type": "code",
   "execution_count": null,
   "metadata": {
    "collapsed": true
   },
   "outputs": [],
   "source": [
    "#read the two dataframes\n",
    "\n",
    "#print their heads\n",
    "\n",
    "#merge the two files using as an argument how=\"outer\" (this will keep missing values)\n",
    "\n",
    "#Create a new variable \"fraction_green\" measuring the densitiy of green area (m^2 green)/(m^2 city)\n",
    "\n",
    "#Sort the dataset by \"fraction_green\" (.sort_values(by= ,ascending=)) to find the city with the largest fraction of green area.\n",
    "\n",
    "#Sort the dataset by \"fraction_green\" (.sort_values(by= ,ascending=)) to find the city with the lowest fraction of green area. Use the argument \"na_position\" to get rid of the na values. \n",
    "\n",
    "#Make a column with the country code\n",
    "\n",
    "#Keep the metropolitan areas in the Netherlands and Italy\n",
    "\n",
    "#Make a plot (choose the appropriate type) of year vs \"fraction_green\", colouring by country\n",
    "\n",
    "#Make a jointplot of \"GREEN_AREA_PC\" vs \"fraction_green\" in Italy, of the type hex\n",
    "\n",
    "#Plot the distribution of \"fraction_green\" for both countries"
   ]
  },
  {
   "cell_type": "markdown",
   "metadata": {},
   "source": [
    "**What are the plots telling us?**\n",
    "\n",
    "answer here"
   ]
  },
  {
   "cell_type": "markdown",
   "metadata": {},
   "source": [
    "## Assignment 4\n",
    "- Read the dataset on cities using read_our_csv() (don't forget to run it first)\n",
    "- Make a column with the country code\n",
    "- Keep the metropolitan areas in the following countries\n",
    "keep_countries = ['UK', 'AU', 'IT', 'NL', 'FR', 'PL', 'GR', 'HU', 'PO', 'PT', 'AT', 'DK', 'NO', 'EE', 'CZ', 'IE', 'DE', 'FI',  'ES',  'SW', 'CH', 'SK',  'US', 'GB', 'BE']\n",
    "- Keep the years 2000 and 2010\n",
    "- Create a dictionary matching those countries to a region: \"Anglosphere\", \"South_EU\", \"Eastern_EU\", \"Scandinavia\",\"Rest_EU\"\n",
    "- Make a column with the region of the country\n",
    "- Make a plot visualizing \"GDP_PC\" vs \"Year\" for each region. The plot must show the variability within region\n",
    "- Make a factorplot visualizing \"UNEMP_R\" vs \"Year\" for each region. Use ci=10 for the confidence intervals.\n"
   ]
  },
  {
   "cell_type": "code",
   "execution_count": null,
   "metadata": {
    "collapsed": true
   },
   "outputs": [],
   "source": [
    "def read_our_csv():\n",
    "    df = pd.read_csv(\"data/CITIES_19122016195113034.csv\",sep=\"\\t\")\n",
    "\n",
    "    cols = list(df.columns)\n",
    "    cols[0] = \"METRO_ID\"\n",
    "    df.columns = cols\n",
    "    df.head()\n",
    "\n",
    "    column_with_values = \"Value\"\n",
    "    column_to_split = [\"VAR\"]\n",
    "    variables_already_present = [\"METRO_ID\",\"Metropolitan areas\",\"Year\"]\n",
    "    df_fixed = df.pivot_table(column_with_values,\n",
    "                 variables_already_present,\n",
    "                 column_to_split).reset_index()\n",
    "    return df_fixed\n",
    "    "
   ]
  },
  {
   "cell_type": "code",
   "execution_count": null,
   "metadata": {
    "collapsed": true
   },
   "outputs": [],
   "source": [
    "#read the dataset on cities using read_our_csv()\n",
    "\n",
    "#Make a column with the country code\n",
    "\n",
    "#Keep the metropolitan areas in the following countries\n",
    "keep_countries = ['UK', 'AU', 'IT', 'NL', 'FR', 'PL', 'GR', 'HU', 'PO', 'PT', 'AT', 'DK', 'NO', 'EE', 'CZ', 'IE', 'DE', 'FI',  'ES',  'SW', 'CH', 'SK',  'US', 'GB', 'BE']\n",
    "\n",
    "#Keep the years 2000 and 2010\n",
    "\n",
    "#Create a dictionary matching those countries to a region: \"Anglosphere\", \"South_EU\", \"Eastern_EU\", \"Scandinavia\",\"Rest_EU\"\n",
    "\n",
    "#Make a column with the region of the country\n",
    "\n",
    "#Make a plot visualizing the distribution of \"GDP_PC\" for each region. The plot must show the variability within region\n",
    "\n",
    "#Make a factorplot visualizing \"UNEMP_R\" vs \"Year\" for each region. Use ci=10 for the confidence intervals.\n"
   ]
  },
  {
   "cell_type": "markdown",
   "metadata": {},
   "source": [
    "**What are the plots telling us?**\n",
    "\n",
    "answer here"
   ]
  },
  {
   "cell_type": "markdown",
   "metadata": {},
   "source": [
    "## Assignment 4\n",
    "We want to plot labour productivity vs unemployment as a function of the year. For this we are using a custom scatter plot where the color indicates the year.\n",
    "- Complete the cell starting with `#user read_our_csv() to read the csv`. \n",
    "- Complete the cell starting with `def plot_group(cities,data):`\n",
    "\n",
    "Then answer the following questions\n",
    "- Is there any relationship between unemployment and productivity?\n",
    "- Can you think of any circunstances where high unemployment causes high productivity next year?\n",
    "- Can you think of any circunstances where low unemployment causes high productivity next year?\n",
    "- Can you think of any circunstances where high productivity causes high unemployment next year?\n",
    "- Can you think of any circunstances where low productivity causes high unemployment next year?\n",
    "- Can you think of any way to distinguish the four alternatives? (don't dwell too much about this question)\n",
    "- Can you think of any reason for the differences between the Spanish and Italian cities?"
   ]
  },
  {
   "cell_type": "code",
   "execution_count": 90,
   "metadata": {
    "collapsed": true
   },
   "outputs": [],
   "source": [
    "def plot_group(cities,data):\n",
    "    \"\"\"\n",
    "    plots the labour productivity vs unemployment as a function of the year\n",
    "    \n",
    "    input\n",
    "    cities: list of cities\n",
    "    data: dataframe with the columns \"LABOUR_PRODUCTIVITY\",\"UNEMP_R\",\"Year\"\n",
    "    \n",
    "    \"\"\"\n",
    "    cmaps = [\"Blues\",\"Greens\",\"Reds\",\"Oranges\",\"Purples\"]\n",
    "\n",
    "    for i,city in enumerate(cities):\n",
    "        #keep the rows where the metropolitan areas == city\n",
    "        gr = \n",
    "\n",
    "        #make the plot\n",
    "        plt.plot(gr[\"LABOUR_PRODUCTIVITY\"],gr[\"UNEMP_R\"],color=\"gray\")\n",
    "        plt.scatter(gr[\"LABOUR_PRODUCTIVITY\"],gr[\"UNEMP_R\"],c=gr[\"Year\"],edgecolor=\"none\",cmap=cmaps[i])\n",
    "\n",
    "    #Add labels\n",
    "    \n",
    "    \n",
    "    #show the plot\n",
    "    plt.show()\n",
    "    "
   ]
  },
  {
   "cell_type": "code",
   "execution_count": null,
   "metadata": {
    "collapsed": false
   },
   "outputs": [],
   "source": [
    "#user read_our_csv() to read the csv\n",
    "\n",
    "\n",
    "#keep the years greater than 2004 and save it with the name data\n",
    "data =\n",
    "\n",
    "plot_group([\"Valencia\",\"Madrid\",\"Barcelona\",\"Zaragoza\",\"Las Palmas\"],data)\n",
    "plot_group([\"Rome\",\"Bari\",\"Genova\",\"Turin\"],data)\n"
   ]
  },
  {
   "cell_type": "markdown",
   "metadata": {},
   "source": [
    "## Assignment 5: Data visualization\n",
    "- Explain what do you think that is wrong with the following figure. Would you use a different type of visualization? There are many correct ways to answer and I'm not looking for a perfect critique since we haven't covered data visualization theory yet.\n",
    "\n",
    "Edit the cell below with the answer"
   ]
  },
  {
   "cell_type": "markdown",
   "metadata": {},
   "source": [
    "This figure is interesting, based on this figure the NASA decided that there was no relationship between temperature and the failure of one of the components of the Challenger. There were also 17 launches with no incidents between 65 and 75 degrees. Because of this \"no relationship\", they decided to launch even when the temperature was 31F (0C), the component failed and the shuttle exploded: https://en.wikipedia.org/wiki/Space_Shuttle_Challenger \n",
    "- What do you think this plot shows? \n",
    "\n",
    "answer here\n",
    "- What is wrong with the message it gives? (tip: this is all the data https://tamino.files.wordpress.com/2011/12/rogersfig7.jpg)\n",
    "\n",
    "answer here\n",
    "- What is wrong (or can be improved) with the type of plot?\n",
    "\n",
    "answer here\n"
   ]
  },
  {
   "cell_type": "code",
   "execution_count": 93,
   "metadata": {
    "collapsed": false
   },
   "outputs": [
    {
     "data": {
      "text/html": [
       "<img src=\"http://www.datavis.ca/gallery/images/nasa01.gif\"/>"
      ],
      "text/plain": [
       "<IPython.core.display.Image object>"
      ]
     },
     "metadata": {},
     "output_type": "display_data"
    }
   ],
   "source": [
    "display(Image(url=\"http://www.datavis.ca/gallery/images/nasa01.gif\"))\n"
   ]
  }
 ],
 "metadata": {
  "anaconda-cloud": {},
  "kernelspec": {
   "display_name": "Python [default]",
   "language": "python",
   "name": "python3"
  },
  "language_info": {
   "codemirror_mode": {
    "name": "ipython",
    "version": 3
   },
   "file_extension": ".py",
   "mimetype": "text/x-python",
   "name": "python",
   "nbconvert_exporter": "python",
   "pygments_lexer": "ipython3",
   "version": "3.5.2"
  }
 },
 "nbformat": 4,
 "nbformat_minor": 1
}
