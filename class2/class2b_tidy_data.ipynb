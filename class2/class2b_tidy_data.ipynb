{
 "cells": [
  {
   "cell_type": "markdown",
   "metadata": {
    "nbpresent": {
     "id": "4a9918d3-9a2c-4349-ad42-998f3129c4e7"
    }
   },
   "source": [
    "# Working with data 2017. Class 2 \n",
    "## Contact\n",
    "Javier Garcia-Bernardo\n",
    "garcia@uva.nl\n",
    "\n",
    "\n",
    "## 0. Structure\n",
    "1. Data types, structures and code II\n",
    "2. Tidy data: Pivoting and melting dataframes\n",
    "3. Merging and concatenating dataframes\n",
    "4. Working with missing data\n",
    "5. My second plots"
   ]
  },
  {
   "cell_type": "code",
   "execution_count": null,
   "metadata": {
    "collapsed": false,
    "nbpresent": {
     "id": "b6b4e6ff-033c-4b1d-8075-182285f4673a"
    }
   },
   "outputs": [],
   "source": [
    "#Normal inputs\n",
    "import pandas as pd\n",
    "import numpy as np\n",
    "import seaborn as sns\n",
    "import pylab as plt\n",
    "%matplotlib inline\n",
    "\n",
    "from IPython.display import Image, display\n",
    "\n",
    "#Make the notebook wider\n",
    "from IPython.core.display import display, HTML \n",
    "display(HTML(\"<style>.container { width:90% !important; }</style>\"))"
   ]
  },
  {
   "cell_type": "code",
   "execution_count": null,
   "metadata": {
    "collapsed": false
   },
   "outputs": [],
   "source": [
    "#Create a toy dataframe\n",
    "df = pd.DataFrame([[1,2,3],[1,2,3]],columns=[\"a\",\"b\",\"c\"])\n",
    "df"
   ]
  },
  {
   "cell_type": "markdown",
   "metadata": {},
   "source": [
    "## Save CSV to disk (df.to_csv())\n",
    "- path_or_buf = filename\n",
    "- sep = separator\n",
    "- na_rep (default \"\") = how do you want to represent missing values\n",
    "- header = do you want to save the column names?\n",
    "- index (default True) = is there an index to save? usually False"
   ]
  },
  {
   "cell_type": "code",
   "execution_count": null,
   "metadata": {
    "collapsed": true
   },
   "outputs": [],
   "source": [
    "#Saving the toy dataframe above\n",
    "df.to_csv(\"data/toy_df.csv\",sep=\"\\t\",index=False)"
   ]
  },
  {
   "cell_type": "markdown",
   "metadata": {
    "collapsed": true,
    "nbpresent": {
     "id": "cc97dec8-f639-4e91-8fd6-2bea6d825511"
    }
   },
   "source": [
    "## 2. Tidy data\n",
    "### 2.1 Observations and variables\n",
    "- A variable is any characteristics, number, or quantity that can be measured or counted: e.g. income, height, happiness\n",
    "    - Numeric: Numbers\n",
    "        - Continuous: Area, height, etc\n",
    "        - Discrete: The rolls of a die, many answers in surveys, etc\n",
    "        \n",
    "    - Categorical: Categories\n",
    "        - Ordinal: Can be ordered. E.g. \"high\", \"middle\" and \"low\" income countries\n",
    "        - Nominal: Cannot be ordered. E.g. \"blue\", \"red\" and \"yellow\" \n",
    "        \n",
    "- An observation is each of the values of a variable: e.g. 800, 1.93, 8, \"middle\""
   ]
  },
  {
   "cell_type": "code",
   "execution_count": null,
   "metadata": {
    "collapsed": false,
    "nbpresent": {
     "id": "162b5cc0-60d6-4af4-9648-36cbdfbb47de"
    }
   },
   "outputs": [],
   "source": [
    "Image(url=\"http://www.abs.gov.au/websitedbs/a3121120.nsf/4a256353001af3ed4b2562bb00121564/5869990518bbb7feca257b55002261e0/Body/3.109A!OpenElement&FieldElemFormat=gif\")"
   ]
  },
  {
   "cell_type": "markdown",
   "metadata": {
    "nbpresent": {
     "id": "c8ac9024-df37-4067-86f4-6c89cd5ee7cc"
    }
   },
   "source": [
    "### 2.2 What is tidy data?\n",
    "Based on: http://vita.had.co.nz/papers/tidy-data.pdf\n",
    "\n",
    "Tidy data is a standard way of mapping the meaning of a dataset to its structure.  [...] In\n",
    "tidy data:\n",
    "1.  Each variable forms a column.\n",
    "2.  Each observation forms a row.\n",
    "3.  Each type of observational unit forms a table.\n",
    "\n",
    "#### Advantages: Facilitate manipulation, visualisation and modelling\n",
    "- Combining tables (merging two tables by the year)\n",
    "- Plotting (df[\"x\"] vs df[\"y\"])\n",
    "- Statistical models (\"y\" ~ \"x\" + C(\"year\"))\n",
    "- Examples adapted from http://stat405.had.co.nz/lectures/18-tidy-data.pdf"
   ]
  },
  {
   "cell_type": "code",
   "execution_count": null,
   "metadata": {
    "collapsed": false,
    "nbpresent": {
     "id": "3397e12e-b029-4bf0-a888-855603c51a51"
    }
   },
   "outputs": [],
   "source": [
    "%%html\n",
    "<h3>There are three variables in this data set. What are they? </h3> \n",
    "<table>\n",
    "    <tr> <th></th> <th>2010</th> <th>2015</th> </tr>\n",
    "    <tr> <td>Male</td> <td>0</td> <td>5</td> </tr>\n",
    "    <tr> <td>Female</td> <td>1</td> <td>4</td> </tr>\n",
    "</table>\n",
    "\n",
    "\n"
   ]
  },
  {
   "cell_type": "code",
   "execution_count": null,
   "metadata": {
    "collapsed": false,
    "nbpresent": {
     "id": "f3b58f9a-6faa-4f34-a732-407e29d31fda"
    }
   },
   "outputs": [],
   "source": [
    "%%html\n",
    "<h3>Tidy data</h3> \n",
    "<table>\n",
    "    <tr> <th>year</th> <th>sex</th> <th>count</th> </tr>\n",
    "    <tr> <td>2010</td> <td>female</td> <td>4</td> </tr>\n",
    "    <tr> <td>2010</td> <td>male</td> <td>5</td> </tr>\n",
    "    <tr> <td>2015</td> <td>female</td> <td>1</td> </tr>\n",
    "    <tr> <td>2015</td> <td>male</td> <td>0</td> </tr>\n",
    "</table>"
   ]
  },
  {
   "cell_type": "markdown",
   "metadata": {
    "nbpresent": {
     "id": "6331b29e-321a-4d48-837f-33ccbf676644"
    }
   },
   "source": [
    "### 2.3 Tidying messy datasets\n",
    "Real datasets can, and often do, violate the three precepts of tidy data in almost every way\n",
    "imaginable. While occasionally you do get a dataset that you can start analysing immediately,\n",
    "this is the exception,  not the rule:\n",
    "- Column headers are values, not variable names --> Melt\n",
    "- Multiple variables are stored in one column --> Pivot\n",
    "- Variables are stored in both rows and columns --> Melt then pivot"
   ]
  },
  {
   "cell_type": "code",
   "execution_count": null,
   "metadata": {
    "collapsed": false,
    "nbpresent": {
     "id": "a08dee11-2dc6-4de8-8f5c-7ad2d49ae2d8"
    }
   },
   "outputs": [],
   "source": [
    "#Example of melting (columns to rows)\n",
    "print(\"Melting\")\n",
    "Image(\"figures/melt.png\",width=400)"
   ]
  },
  {
   "cell_type": "code",
   "execution_count": null,
   "metadata": {
    "collapsed": false,
    "nbpresent": {
     "id": "1ac125ae-1897-4640-b4f9-cac74786350f"
    }
   },
   "outputs": [],
   "source": [
    "#Example of pivoting (rows to columns)\n",
    "print(\"Pivoting\")\n",
    "Image(\"figures/pivot.png\",width=800)"
   ]
  },
  {
   "cell_type": "markdown",
   "metadata": {},
   "source": [
    "---\n",
    "\n",
    "**Data to study: variations of https://stats.oecd.org/Index.aspx?DataSetCode=CITIES (which has problem 2)**"
   ]
  },
  {
   "cell_type": "markdown",
   "metadata": {
    "nbpresent": {
     "id": "8156cffc-0db7-4371-82ee-25fbb8e1d194"
    }
   },
   "source": [
    "### 2.4 Column headers are values, not variable names: MELT"
   ]
  },
  {
   "cell_type": "code",
   "execution_count": null,
   "metadata": {
    "collapsed": false,
    "nbpresent": {
     "id": "c15db478-cb08-4557-8203-774840bc88b4"
    }
   },
   "outputs": [],
   "source": [
    "#Data on population density by year\n",
    "df = pd.read_csv(\"data/columns_headers.csv\")\n",
    "df.head()"
   ]
  },
  {
   "cell_type": "code",
   "execution_count": null,
   "metadata": {
    "collapsed": false,
    "nbpresent": {
     "id": "616f20a5-7fe2-4c0d-8966-7a5fd92273a7"
    },
    "scrolled": true
   },
   "outputs": [],
   "source": [
    "### Fix\n",
    "\n",
    "#Variables present in columns already\n",
    "variables_already_presents = ['METRO_ID', 'Metropolitan areas']\n",
    "\n",
    "#Variables to combine in one\n",
    "columns_combine = ['2000', '2001', '2002','2003', '2004', '2005', '2006', '2007', '2008', '2009', '2010', '2011','2012', '2013', '2014']\n",
    "\n",
    "#Fix\n",
    "fixed = pd.melt(df,id_vars=variables_already_presents,\n",
    "           value_vars=columns_combine,\n",
    "           var_name=\"Year\",\n",
    "           value_name=\"POP_DENS\")\n",
    "fixed.head()"
   ]
  },
  {
   "cell_type": "markdown",
   "metadata": {
    "nbpresent": {
     "id": "abf01f5f-811b-4277-adc2-2bb795e50eba"
    }
   },
   "source": [
    "### 2.5 Multiple variables are stored in one column: PIVOT_TABLE"
   ]
  },
  {
   "cell_type": "code",
   "execution_count": null,
   "metadata": {
    "collapsed": false,
    "nbpresent": {
     "id": "fff49a2e-b128-4339-a106-47e485efb6fc"
    }
   },
   "outputs": [],
   "source": [
    "#Actual data from OECD\n",
    "df = pd.read_csv(\"data/multiple_variables.csv\")\n",
    "df.head()"
   ]
  },
  {
   "cell_type": "code",
   "execution_count": null,
   "metadata": {
    "collapsed": false,
    "nbpresent": {
     "id": "7e793865-8cf6-4aa4-ad8a-c77cd6512b78"
    }
   },
   "outputs": [],
   "source": [
    "### Fix\n",
    "\n",
    "#Column with the values\n",
    "column_with_values = \"Value\"\n",
    "\n",
    "#Column with the variables\n",
    "column_to_split = [\"VAR\"]\n",
    "\n",
    "#Columns already present\n",
    "variables_already_present = [\"METRO_ID\",\"Metropolitan areas\",\"Year\"]\n",
    "\n",
    "#Fix\n",
    "df_fixed = df.pivot_table(column_with_values,\n",
    "               variables_already_present,\n",
    "               column_to_split)\n",
    "\n",
    "df_fixed.head()"
   ]
  },
  {
   "cell_type": "code",
   "execution_count": null,
   "metadata": {
    "collapsed": false
   },
   "outputs": [],
   "source": [
    "#use .reset_index() to convert index to columns\n",
    "df_fixed.reset_index().head()"
   ]
  },
  {
   "cell_type": "markdown",
   "metadata": {
    "nbpresent": {
     "id": "eca20c4b-c629-4cf6-a338-700907d0fb0e"
    }
   },
   "source": [
    "### 2.6 Variables are stored in both rows and columns: MELT then PIVOT"
   ]
  },
  {
   "cell_type": "code",
   "execution_count": null,
   "metadata": {
    "collapsed": false,
    "nbpresent": {
     "id": "2c8e2bc1-d259-4a33-a6b4-39cabbc7dd5d"
    }
   },
   "outputs": [],
   "source": [
    "df = pd.read_csv(\"data/multiple_variables_and_headers.csv\")\n",
    "df.head()"
   ]
  },
  {
   "cell_type": "code",
   "execution_count": null,
   "metadata": {
    "collapsed": false,
    "nbpresent": {
     "id": "003f1839-d6db-49e8-b78e-565271dbf62a"
    }
   },
   "outputs": [],
   "source": [
    "### Fix setp 1\n",
    "variables_already_presents = ['METRO_ID', 'Metropolitan areas','VAR']\n",
    "columns_combine = ['2000', '2001', '2002','2003', '2004', '2005', '2006', '2007', '2008', '2009', '2010', '2011','2012', '2013', '2014']\n",
    "df = pd.melt(df,\n",
    "           id_vars=variables_already_presents,\n",
    "           value_vars=columns_combine,\n",
    "           var_name=\"Year\",\n",
    "           value_name=\"Value\")\n",
    "df.head()"
   ]
  },
  {
   "cell_type": "code",
   "execution_count": null,
   "metadata": {
    "collapsed": false,
    "nbpresent": {
     "id": "11a9e7fb-d702-4866-aebe-d9d4a9d139b8"
    }
   },
   "outputs": [],
   "source": [
    "### Fix step 2\n",
    "column_with_values = \"Value\"\n",
    "column_to_split = [\"VAR\"]\n",
    "variables_already_present = [\"METRO_ID\",\"Metropolitan areas\",\"Year\"]\n",
    "df.pivot_table(column_with_values,\n",
    "               variables_already_present,\n",
    "               column_to_split).reset_index().head()"
   ]
  },
  {
   "cell_type": "markdown",
   "metadata": {
    "nbpresent": {
     "id": "c264c61e-18ba-444d-ae01-6e0e950290c6"
    }
   },
   "source": [
    "## 3. Merging and concatenating datasets\n",
    "Concatenate:\n",
    "- Some times you obtain more data (with the same variables or different)\n",
    "\n",
    "Merging:\n",
    "- Many times you have several datasets that you have to combine according to a shared variable"
   ]
  },
  {
   "cell_type": "markdown",
   "metadata": {},
   "source": [
    "### 3.1 Concatenate files (add more observations)"
   ]
  },
  {
   "cell_type": "code",
   "execution_count": null,
   "metadata": {
    "collapsed": false,
    "nbpresent": {
     "id": "90b6732a-ad1d-4cb3-9a7d-b1183c9490fd"
    }
   },
   "outputs": [],
   "source": [
    "#Add more observations\n",
    "Image(url=\"http://pandas.pydata.org/pandas-docs/stable/_images/merging_concat_basic.png\")"
   ]
  },
  {
   "cell_type": "code",
   "execution_count": null,
   "metadata": {
    "collapsed": false
   },
   "outputs": [],
   "source": [
    "madrid = pd.read_csv(\"data/mad_twovariables.csv\").head(2)\n",
    "amsterdam = pd.read_csv(\"data/ams_twovariables.csv\").head(2)\n",
    "print(madrid)\n",
    "print(amsterdam)\n",
    "\n"
   ]
  },
  {
   "cell_type": "code",
   "execution_count": null,
   "metadata": {
    "collapsed": false
   },
   "outputs": [],
   "source": [
    "combined = pd.concat([madrid,amsterdam])\n",
    "combined"
   ]
  },
  {
   "cell_type": "markdown",
   "metadata": {},
   "source": [
    "**Note that it's not a problem if the variables are not all the same**\n",
    "\n",
    "But in that case you'll have missing values"
   ]
  },
  {
   "cell_type": "code",
   "execution_count": null,
   "metadata": {
    "collapsed": false
   },
   "outputs": [],
   "source": [
    "a = pd.DataFrame([[1,2],[3,4]],columns=[\"a\",\"b\"])\n",
    "b = pd.DataFrame([[1,2],[3,4]],columns=[\"c\",\"b\"])\n",
    "display(a)\n",
    "display(b)\n"
   ]
  },
  {
   "cell_type": "code",
   "execution_count": null,
   "metadata": {
    "collapsed": true
   },
   "outputs": [],
   "source": [
    "pd.concat([a,b])"
   ]
  },
  {
   "cell_type": "markdown",
   "metadata": {},
   "source": [
    "### 3.2 Merge datasets"
   ]
  },
  {
   "cell_type": "code",
   "execution_count": null,
   "metadata": {
    "collapsed": false,
    "nbpresent": {
     "id": "e488f5db-b073-4a7b-b600-a94957ff7f71"
    }
   },
   "outputs": [],
   "source": [
    "Image(url=\"http://pandas.pydata.org/pandas-docs/stable/_images/merging_merge_on_key.png\",width=700)"
   ]
  },
  {
   "cell_type": "code",
   "execution_count": null,
   "metadata": {
    "collapsed": false
   },
   "outputs": [],
   "source": [
    "ams_green = pd.read_csv(\"data/ams_green.csv\")\n",
    "ams_pop = pd.read_csv(\"data/ams_popdens.csv\")\n",
    "display(ams_green.head(2))\n",
    "display(ams_pop.head(2))"
   ]
  },
  {
   "cell_type": "code",
   "execution_count": null,
   "metadata": {
    "collapsed": false
   },
   "outputs": [],
   "source": [
    "combined = pd.merge(ams_green,ams_pop,\n",
    "         left_on=[\"METRO_ID\",\"Metropolitan areas\",\"Year\"],\n",
    "         right_on=[\"METRO_ID\",\"Metropolitan areas\",\"Year\"],\n",
    "         how=\"inner\")\n",
    "combined.head()"
   ]
  },
  {
   "cell_type": "code",
   "execution_count": null,
   "metadata": {
    "collapsed": false,
    "nbpresent": {
     "id": "cd40c5ef-7b4a-49f2-93ef-b9fb3b95aff9"
    }
   },
   "outputs": [],
   "source": [
    "print(\"Inner join pd.merge(left_df,right_df,how=\\\"inner\\\")\")\n",
    "display(Image(url=\"http://pandas.pydata.org/pandas-docs/stable/_images/merging_merge_on_key_inner.png\"))\n",
    "print(\"Right join pd.merge(left_df,right_df,how=\\\"right\\\")\", \"The same with left\")\n",
    "display(Image(url=\"http://pandas.pydata.org/pandas-docs/stable/_images/merging_merge_on_key_right.png\"))\n",
    "print(\"Outer join pd.merge(left_df,right_df,how=\\\"outer\\\")\")\n",
    "display(Image(url=\"http://pandas.pydata.org/pandas-docs/stable/_images/merging_merge_on_key_outer.png\"))"
   ]
  },
  {
   "cell_type": "markdown",
   "metadata": {},
   "source": [
    "## 4. Change columns, replace and apply functions\n",
    "- Some times we want to replace some categories with numbers\n",
    "\n",
    "- This is especially important with text (and we'll talk more in the class about text)"
   ]
  },
  {
   "cell_type": "code",
   "execution_count": null,
   "metadata": {
    "collapsed": true
   },
   "outputs": [],
   "source": [
    "def read_our_csv():\n",
    "    #reading the raw data from oecd\n",
    "    df = pd.read_csv(\"data/CITIES_19122016195113034.csv\",sep=\"\\t\")\n",
    "\n",
    "    #fixing the columns (the first one is \"\"METRO_ID\"\" instead of \"METRO_ID\")\n",
    "    cols = list(df.columns)\n",
    "    cols[0] = \"METRO_ID\"\n",
    "    df.columns = cols\n",
    "    \n",
    "    #pivot the table\n",
    "    column_with_values = \"Value\"\n",
    "    column_to_split = [\"VAR\"]\n",
    "    variables_already_present = [\"METRO_ID\",\"Metropolitan areas\",\"Year\"]\n",
    "    df_fixed = df.pivot_table(column_with_values,\n",
    "                 variables_already_present,\n",
    "                 column_to_split).reset_index()\n",
    "    \n",
    "    return df_fixed\n",
    "    "
   ]
  },
  {
   "cell_type": "markdown",
   "metadata": {},
   "source": [
    "### 4.1 Multiply columns"
   ]
  },
  {
   "cell_type": "code",
   "execution_count": null,
   "metadata": {
    "collapsed": false
   },
   "outputs": [],
   "source": [
    "#Read and fix the data\n",
    "df_fixed = read_our_csv()\n",
    "df_fixed = df_fixed.loc[df_fixed[\"Year\"]==2000,[\"GREEN_AREA_PC\",\"POP_DENS\"]]    \n",
    "df_fixed.head()"
   ]
  },
  {
   "cell_type": "code",
   "execution_count": null,
   "metadata": {
    "collapsed": false
   },
   "outputs": [],
   "source": [
    "plt.figure(figsize=(6,4))\n",
    "plt.scatter(df_fixed[\"GREEN_AREA_PC\"],df_fixed[\"POP_DENS\"],edgecolor=\"none\",color=(70/255,140/255,210/255))\n",
    "plt.yscale(\"log\")\n",
    "plt.xscale(\"log\")\n",
    "plt.ylim(10,10000)\n",
    "plt.xlim(10,10000)\n",
    "plt.xlabel(\"Green area (m^2/million people)\")\n",
    "plt.ylabel(\"Density population (people/km^s)\")"
   ]
  },
  {
   "cell_type": "markdown",
   "metadata": {},
   "source": [
    "### Is there a relationship between green area per capita and population density? Why?"
   ]
  },
  {
   "cell_type": "markdown",
   "metadata": {},
   "source": [
    "---"
   ]
  },
  {
   "cell_type": "markdown",
   "metadata": {},
   "source": [
    "**Imagine we want to calculate the fraction of green area**\n",
    "\n",
    "$$\\frac{10^{6} m^2_{green}}{people} \\cdot \\frac{people}{km^2_{city}} = \\frac{10^{6} m^2_{green}}{km^2_{city}}$$"
   ]
  },
  {
   "cell_type": "code",
   "execution_count": null,
   "metadata": {
    "collapsed": false
   },
   "outputs": [],
   "source": [
    "#fraction of green area\n",
    "df_fixed[\"fraction_green\"] = df_fixed[\"GREEN_AREA_PC\"]*df_fixed[\"POP_DENS\"]/1E6"
   ]
  },
  {
   "cell_type": "code",
   "execution_count": null,
   "metadata": {
    "collapsed": false
   },
   "outputs": [],
   "source": [
    "#make the figure\n",
    "plt.figure(figsize=(6,4))\n",
    "plt.scatter(df_fixed[\"fraction_green\"],df_fixed[\"POP_DENS\"],edgecolor=\"none\",color=(70/255,140/255,210/255))\n",
    "plt.yscale(\"log\")\n",
    "plt.xscale(\"log\")\n",
    "plt.ylim(10,10000)\n",
    "plt.xlim(0.0001,1)\n",
    "plt.xlabel(\"Percentage green (m^2 green / km^2 land)\")\n",
    "plt.ylabel(\"Density population (population/km^2)\")"
   ]
  },
  {
   "cell_type": "markdown",
   "metadata": {},
   "source": [
    "### 4.2 Categories to numbers"
   ]
  },
  {
   "cell_type": "code",
   "execution_count": null,
   "metadata": {
    "collapsed": false
   },
   "outputs": [],
   "source": [
    "#Imagine we want to convert the income to a category\n",
    "df = pd.DataFrame({\"kids\": [2,3,3,1,3,1,4,4,2], \"income\": [\">100\",\">100\",\"<40\",\"<40\",\"40-100\",\"<40\",\"40-100\",\">100\",\"40-100\"]})\n",
    "df"
   ]
  },
  {
   "cell_type": "code",
   "execution_count": null,
   "metadata": {
    "collapsed": true
   },
   "outputs": [],
   "source": [
    "#First we need a dictionary\n",
    "d_cat2income = {\">100\": 100, \"40-100\": 70, \"<40\": 40}"
   ]
  },
  {
   "cell_type": "code",
   "execution_count": null,
   "metadata": {
    "collapsed": false
   },
   "outputs": [],
   "source": [
    "def category2income(value):\n",
    "    return d_cat2income.get(value)\n",
    "\n",
    "df = pd.DataFrame({\"kids\": [2,3,3,1,3,1,4,4,2], \"income\": [\">100\",\">100\",\"40-100\",\"<40\",\"40-100\",\"<40\",\"40-100\",\">100\",\"40-100\"]})\n",
    "df[\"income\"] = df[\"income\"].apply(category2income)\n",
    "df.head()"
   ]
  },
  {
   "cell_type": "code",
   "execution_count": null,
   "metadata": {
    "collapsed": false
   },
   "outputs": [],
   "source": [
    "#Or without creating a new function\n",
    "df = pd.DataFrame({\"kids\": [2,3,3,1,3,1,4,4,2], \"income\": [\">100\",\">100\",\"40-100\",\"<40\",\"40-100\",\"<40\",\"40-100\",\">100\",\"40-100\"]})\n",
    "df[\"income\"] = df[\"income\"].apply(lambda x: d_cat2income.get(x))\n",
    "df.head()"
   ]
  },
  {
   "cell_type": "markdown",
   "metadata": {},
   "source": [
    "### 4.2 Keeping part of a the values in a column (text)\n",
    "We'll talk more about this when we talk about text analysis"
   ]
  },
  {
   "cell_type": "code",
   "execution_count": null,
   "metadata": {
    "collapsed": false
   },
   "outputs": [],
   "source": [
    "df_fixed = read_our_csv().loc[:,[\"METRO_ID\",\"Year\"]]\n",
    "df_fixed.head()"
   ]
  },
  {
   "cell_type": "code",
   "execution_count": null,
   "metadata": {
    "collapsed": false
   },
   "outputs": [],
   "source": [
    "def keep_2_letters(value):\n",
    "    return value[:2]\n",
    "\n",
    "df_fixed[\"Country\"] = df_fixed[\"METRO_ID\"].apply(keep_2_letters)\n",
    "df_fixed.head()"
   ]
  },
  {
   "cell_type": "code",
   "execution_count": null,
   "metadata": {
    "collapsed": false
   },
   "outputs": [],
   "source": [
    "#or in one line\n",
    "df_fixed[\"Country\"] = df_fixed[\"METRO_ID\"].apply(lambda x: x[:2])\n",
    "df_fixed.head()"
   ]
  },
  {
   "cell_type": "markdown",
   "metadata": {},
   "source": [
    "### 4.3 Doing math with the column"
   ]
  },
  {
   "cell_type": "code",
   "execution_count": null,
   "metadata": {
    "collapsed": false
   },
   "outputs": [],
   "source": [
    "#for example doing the log of a column. This is useful when the distribution is lognormal (such as income, gdp).\n",
    "#But somehow confusing, the distribution of the income of many people IS LOGNORMAL.\n",
    "#The distribution of the mean income of many cities IS NOT LOGNORMAL.\n",
    "df_fixed = read_our_csv().loc[:,[\"METRO_ID\",\"Year\",\"GDP_PC\"]]\n",
    "df_fixed[\"GDP_PC_log\"] = np.log10(df_fixed[\"GDP_PC\"])\n",
    "df_fixed.head()"
   ]
  },
  {
   "cell_type": "markdown",
   "metadata": {},
   "source": [
    "## 5. Dealing with missing data\n",
    "Let's imagine we have a data of a survey, with age, income, education, political ideas, location, and if you will vote for Trump or Hillary.\n",
    "\n",
    "We may have some missing values. This missing values can be:\n",
    "- MCAR (missing completely at random), which means that we have a representative sample. \n",
    "    - This for example could happen if during the survey collection there were some IT problems.\n",
    "    - It is usually a strong assumption but it is usually made.\n",
    "    - However imagine if young voters of Trump are less likely to answer --> Then your data is MAR.\n",
    "    - Usually in surveys you make sure you ask to a percentage of people of age and location that correspond with the real population. But you may be missing an important variable (for example US pollsters didn't ask to a representative sample in terms of education). \n",
    "    - We can either ignore the rows or impute the values based on people that did answer. \n",
    "\n",
    "\n",
    "- MAR (missing at random), which means that we don't have a representative sample, but we can use another column to `impute` missing values. \n",
    "    - We can correct the data by using other people that did answer. For instance, two people living in the same area, with the same age, income, education and political ideas are likely to vote similar, so if you only know how one of them intends to vote you can say that the other one will vote the same (there are methods for this, don't do it by hand!)\n",
    "\n",
    "\n",
    "\n",
    "- MNAR (missing not at random), which means that we don't have a representative sample, and imputation is very very hard. This can happen for example if Trump voters are less likely to open the door, then they are not even in your sample.\n",
    "    - We are in trouble and the methods to correct for this are way beyond the scope of the class.\n",
    "\n",
    "\n",
    "### What are the strategies to correct for missing values?\n",
    "- 4.1 Ignore those values (only if your data is MCAR)\n",
    "- Impute those values (always better but more complicated)\n",
    "    - 4.2 Use the mean/median/mode as the value (only works well in MCAR)\n",
    "    - 4.3 Use similar values -> fancyimpute (another time)"
   ]
  },
  {
   "cell_type": "code",
   "execution_count": null,
   "metadata": {
    "collapsed": false
   },
   "outputs": [],
   "source": [
    "#Read and fix the data\n",
    "df_fixed = read_our_csv()\n",
    "\n",
    "#Remove rows with missing values\n",
    "cols = [\"LABOUR_PRODUCTIVITY\",\"UNEMP_R\",\"GDP_PC\"]\n",
    "df_fixed = df_fixed.dropna(subset=cols)\n",
    "\n",
    "#Creating a column for country\n",
    "df_fixed[\"C\"] = df_fixed[\"METRO_ID\"].apply(lambda x: x[:2])\n",
    "\n",
    "#Keeping italy\n",
    "df_fixed = df_fixed.loc[df_fixed[\"C\"]==\"IT\",[\"C\",\"METRO_ID\",\"Metropolitan areas\"] +cols]\n",
    "\n",
    "#We are going to normalize values dividing by the mean (so new values have a mean of 1)\n",
    "df_fixed.loc[:,cols] = df_fixed[cols]/np.nanmean(df_fixed[cols],0)\n",
    "\n",
    "#Make a copy of the data\n",
    "df_original = df_fixed.copy()\n",
    "\n",
    "#Take a random sample of 20 values of productivity\n",
    "sample = set(df_fixed.loc[:,\"LABOUR_PRODUCTIVITY\"].sample(20))\n",
    "\n",
    "#Deleting those values (saying that they are np.NaN (missing))\n",
    "df_fixed.loc[df_fixed[\"LABOUR_PRODUCTIVITY\"].isin(sample),\"LABOUR_PRODUCTIVITY\"] = np.NaN\n",
    "df_fixed.head()"
   ]
  },
  {
   "cell_type": "markdown",
   "metadata": {},
   "source": [
    "### 4.1 Ignoring data"
   ]
  },
  {
   "cell_type": "code",
   "execution_count": null,
   "metadata": {
    "collapsed": true
   },
   "outputs": [],
   "source": [
    "#How to fix by ignoring the rows\n",
    "ignoring = df_fixed.dropna(subset=[\"LABOUR_PRODUCTIVITY\"])"
   ]
  },
  {
   "cell_type": "markdown",
   "metadata": {},
   "source": [
    "### 4.3 Imputing with mean/median/mode"
   ]
  },
  {
   "cell_type": "code",
   "execution_count": null,
   "metadata": {
    "collapsed": false
   },
   "outputs": [],
   "source": [
    "#How to fix by imputing with mean/median/mode\n",
    "mean_inputed = df_fixed.fillna(df_fixed.mean())"
   ]
  },
  {
   "cell_type": "markdown",
   "metadata": {},
   "source": [
    "### 4.4 Imputing using neighbous\n",
    "- We may go over this another day, it's not an easy topic.\n",
    "- But the basic idea is that you are probably similar to your neighbors (variables are correlated)"
   ]
  },
  {
   "cell_type": "code",
   "execution_count": null,
   "metadata": {
    "collapsed": false
   },
   "outputs": [],
   "source": [
    "#Based on this. Similar points for unemployment have similar points for productivity\n",
    "sns.lmplot(x=\"LABOUR_PRODUCTIVITY\",y=\"UNEMP_R\",data=df_fixed,fit_reg=False)"
   ]
  },
  {
   "cell_type": "code",
   "execution_count": null,
   "metadata": {
    "collapsed": false
   },
   "outputs": [],
   "source": [
    "Image(\"figures/labels.png\")"
   ]
  },
  {
   "cell_type": "code",
   "execution_count": null,
   "metadata": {
    "collapsed": false
   },
   "outputs": [],
   "source": [
    "print(\"Using a random sample => MCAR DATA\")\n",
    "Image(\"figures/kmeans_vs_mean.png\")"
   ]
  },
  {
   "cell_type": "code",
   "execution_count": null,
   "metadata": {
    "collapsed": false
   },
   "outputs": [],
   "source": [
    "print(\"Using a biasad sample => MAR DATA\")\n",
    "Image(\"figures/kmeans_vs_mean_worst_case.png\")"
   ]
  },
  {
   "cell_type": "markdown",
   "metadata": {
    "collapsed": true
   },
   "source": [
    "## But first of all we need to make sure we have missing values instead of \"-9\" or other strings\n",
    "- The way to do it is to explore the file and then read it:\n",
    "\n",
    "pd.read_csv(filename,...,na_values=[`here the list of missing values`]"
   ]
  },
  {
   "cell_type": "markdown",
   "metadata": {
    "collapsed": true
   },
   "source": [
    "## 5. Dealing with outliers\n",
    "In short:\n",
    "- If the outlier is *obviously wrong* you should treat it as missing data. For instance if you record a value of 19 in a 0-10 scale (it was problably 1 or 9, but we don't know).\n",
    "- If the outlier is *not obviously wrong\", you should keep it. For instance if most people say 3 in a 0-10 scale but a couple say 9, then you need to keep it. You can use `robust` statistics, that are not so affected by outliers. \n",
    "\n",
    "\n",
    "More info at another time, but read this:\n",
    "http://www.theanalysisfactor.com/outliers-to-drop-or-not-to-drop/"
   ]
  },
  {
   "cell_type": "markdown",
   "metadata": {
    "collapsed": false
   },
   "source": [
    "## 6. Plotting\n",
    "- Another scatter plot\n",
    "- Histogram, violinplot and jointplot\n",
    "- Parallel coordinates\n",
    "- Factorplot"
   ]
  },
  {
   "cell_type": "code",
   "execution_count": null,
   "metadata": {
    "collapsed": false
   },
   "outputs": [],
   "source": [
    "#Read and fix the data. also drop missing values\n",
    "df = read_our_csv().loc[:,[\"METRO_ID\",\"Year\",\"Metropolitan areas\",\"LABOUR_PRODUCTIVITY\",\"UNEMP_R\"]]\n",
    "#Drop rows with missing values\n",
    "df = df.dropna()\n",
    "#Keep years 2000 and 2012\n",
    "df = df.loc[df[\"Year\"].isin([2000,2012])]\n",
    "#Add a column for country\n",
    "df[\"C\"] = df[\"METRO_ID\"].apply(lambda x: x[:2] if isinstance(x,str) else \"\")\n",
    "df.head()\n"
   ]
  },
  {
   "cell_type": "markdown",
   "metadata": {},
   "source": [
    "### 6.0 SCATTER using sns.lmplot\n",
    "Use to plot the relationship between two quantitative variables (and one qualitative variable using color)\n",
    "- x = x axis\n",
    "- y = y axis\n",
    "- h = separate using color qualitative variable\n",
    "- data = dataframe\n",
    "- fit_reg = True to fit regression lines\n",
    "- col = separate by another qualitative variable\n",
    "- row = separate by anoyther qualitative variable\n",
    "- size = size\n",
    "- aspect = aspect (1 = square)\n",
    "- sharex = share x axis\n",
    "- sharey = share y axis"
   ]
  },
  {
   "cell_type": "code",
   "execution_count": null,
   "metadata": {
    "collapsed": true
   },
   "outputs": [],
   "source": [
    "sns.lmplot?"
   ]
  },
  {
   "cell_type": "code",
   "execution_count": null,
   "metadata": {
    "collapsed": true
   },
   "outputs": [],
   "source": [
    "keep_countries = ['IT', 'NL',  'DE',  'ES', 'GR']"
   ]
  },
  {
   "cell_type": "code",
   "execution_count": null,
   "metadata": {
    "collapsed": false
   },
   "outputs": [],
   "source": [
    "sns.lmplot(x=\"LABOUR_PRODUCTIVITY\",y=\"UNEMP_R\",hue=\"C\",col=\"Year\"\n",
    "           ,data=df.loc[df[\"C\"].isin(keep_countries)],fit_reg=False,\n",
    "          size=3,aspect=1.4,sharex=True,sharey=True)\n",
    "plt.show()"
   ]
  },
  {
   "cell_type": "markdown",
   "metadata": {},
   "source": [
    "## 6.1a HISTOGRAM: sns.distplot\n",
    "Creates a histogram. Important to see the distribution of your data, to find outliers, etc.\n",
    "\n",
    "- x: required, the data\n",
    "- rug (default True): plot ticks indicating where the value exists \n",
    "- kde (default Ture): use kernel distribution estimator to plot the shape\n",
    "- hist_kws={\"edgecolor\":\"none\"}\n",
    "- kde_kws={\"cut\":0}\n",
    "- fit_kws={\"cut\":0,\"color\":\"gray\"})"
   ]
  },
  {
   "cell_type": "markdown",
   "metadata": {},
   "source": [
    "### What's a histogram?\n",
    "- A representation of the distribution of a variable\n",
    "- For example. If you draw two dice, then you will get a lot of 7s, many 6s and 8s, some 5s and 9s, a few 4s and 10st, very few32s and 11st and almost no 2s ans 12st.\n"
   ]
  },
  {
   "cell_type": "code",
   "execution_count": null,
   "metadata": {
    "collapsed": false,
    "scrolled": true
   },
   "outputs": [],
   "source": [
    "#Roll two dices 100 times\n",
    "dice_rolls = np.random.randint(1,7,1000) + np.random.randint(1,7,1000)\n",
    "dice_rolls"
   ]
  },
  {
   "cell_type": "code",
   "execution_count": null,
   "metadata": {
    "collapsed": false
   },
   "outputs": [],
   "source": [
    "#Count the number of each element to create the distribution\n",
    "from collections import Counter\n",
    "Counter(dice_rolls)"
   ]
  },
  {
   "cell_type": "code",
   "execution_count": null,
   "metadata": {
    "collapsed": false
   },
   "outputs": [],
   "source": [
    "#And we can visualize it with a histogram\n",
    "sns.distplot(dice_rolls, kde=False, rug=False)"
   ]
  },
  {
   "cell_type": "markdown",
   "metadata": {},
   "source": [
    "### A more useful example using OECD data"
   ]
  },
  {
   "cell_type": "code",
   "execution_count": null,
   "metadata": {
    "collapsed": false
   },
   "outputs": [],
   "source": [
    "#Read and fix the data. also drop missing values\n",
    "df = read_our_csv().loc[:,[\"METRO_ID\",\"Year\",\"Metropolitan areas\",\"LABOUR_PRODUCTIVITY\",\"UNEMP_R\"]]\n",
    "#Drop rows with missing values\n",
    "df = df.dropna()\n",
    "#Keep years 2000 and 2012\n",
    "df = df.loc[df[\"Year\"].isin([2000,2012])]\n",
    "#Add a column for country\n",
    "df[\"C\"] = df[\"METRO_ID\"].apply(lambda x: x[:2] if isinstance(x,str) else \"\")\n",
    "df.head()\n"
   ]
  },
  {
   "cell_type": "code",
   "execution_count": null,
   "metadata": {
    "collapsed": false,
    "nbpresent": {
     "id": "7b4d16ce-a00b-4340-a9fb-986159a682a2"
    }
   },
   "outputs": [],
   "source": [
    "#Keep x and y values\n",
    "x = df[\"LABOUR_PRODUCTIVITY\"]\n",
    "\n",
    "#Make plot\n",
    "plt.figure(figsize=(6,4))\n",
    "sns.distplot(x, kde=True, rug=False,hist_kws={\"edgecolor\":\"none\"},kde_kws={\"cut\":0})\n",
    "plt.ylabel(\"Frequency\")\n",
    "plt.xlabel(\"Labour productivity\")"
   ]
  },
  {
   "cell_type": "code",
   "execution_count": null,
   "metadata": {
    "collapsed": false
   },
   "outputs": [],
   "source": [
    "#fitting a distribution\n",
    "from scipy.stats import norm,lognorm,expon\n",
    "#Keep x and y values\n",
    "x = df[\"LABOUR_PRODUCTIVITY\"]\n",
    "\n",
    "#Make plot\n",
    "plt.figure(figsize=(6,4))\n",
    "sns.distplot(x, kde=False, fit=norm, rug=False, \n",
    "             hist_kws={\"edgecolor\":\"none\",\"normed\":True},fit_kws={\"cut\":0,\"color\":\"gray\"})\n",
    "plt.ylabel(\"Frequency\")\n",
    "plt.xlabel(\"Labour productivity\")"
   ]
  },
  {
   "cell_type": "markdown",
   "metadata": {},
   "source": [
    "## 6.1b TWO HISTOGRAMS: sns.jointplot\n",
    "Creates two histogrmams one vs the other. Important to see the distribution of your data, to find outliers, etc.\n",
    "Also important when plotting events in a map\n",
    "- x: required, the data\n",
    "- y: required, the other data\n",
    "- kind (default \"scatter\"): kind of plot to draw, scatter and hex are nice\n",
    "- marginal_kws=dict(bins=20, rug=True, kde=True) -> To modify the outside number of bins    \n",
    "- gridsize = 10 -> To modify the inside number of bins\n",
    "\n",
    "http://seaborn.pydata.org/generated/seaborn.jointplot.html"
   ]
  },
  {
   "cell_type": "code",
   "execution_count": null,
   "metadata": {
    "collapsed": true
   },
   "outputs": [],
   "source": [
    "sns.jointplot?"
   ]
  },
  {
   "cell_type": "code",
   "execution_count": null,
   "metadata": {
    "collapsed": false,
    "nbpresent": {
     "id": "c8f026b1-b1c4-4cc4-ad07-52d0e771def5"
    }
   },
   "outputs": [],
   "source": [
    "#Make plot\n",
    "sns.jointplot(x=\"LABOUR_PRODUCTIVITY\", y=\"UNEMP_R\", data=df,size=6)\n",
    "plt.ylabel(\"Frequency\")\n",
    "plt.xlabel(\"Labour productivity\")\n",
    "plt.show()"
   ]
  },
  {
   "cell_type": "code",
   "execution_count": null,
   "metadata": {
    "collapsed": false,
    "nbpresent": {
     "id": "e94fd8e9-fa81-4bb2-91d7-a3778f4e1dff"
    }
   },
   "outputs": [],
   "source": [
    "sns.jointplot(x=\"LABOUR_PRODUCTIVITY\", y=\"UNEMP_R\", data=df,kind=\"hex\",\n",
    "              marginal_kws=dict(bins=20, rug=False, kde=True, kde_kws={\"cut\":0}), gridsize = 15,size=6)"
   ]
  },
  {
   "cell_type": "markdown",
   "metadata": {},
   "source": [
    "### 6.1c sns.violinplot\n",
    "Plot many histograms vis-a-vis\n",
    "- x = x scale\n",
    "- y = variable to measure\n",
    "- hue (optional) = divide violin in two parts\n",
    "- data = data\n",
    "- width = size of violin\n",
    "- inner = show quartiles or boxplot or all data\n",
    "\n",
    "http://seaborn.pydata.org/generated/seaborn.violinplot.html\n"
   ]
  },
  {
   "cell_type": "code",
   "execution_count": null,
   "metadata": {
    "collapsed": false
   },
   "outputs": [],
   "source": [
    "cols_get = [\"METRO_ID\",\"Metropolitan areas\",\"Year\",\"UNEMP_R\",'GDP_PC',\"LABOUR_PRODUCTIVITY\"]\n",
    "df_fixed = read_our_csv().loc[:,cols_get]\n",
    "df_fixed[\"C\"] = df_fixed[\"METRO_ID\"].apply(lambda x: x[:2] if isinstance(x,str) else \"\")\n",
    "south = df_fixed.loc[df_fixed[\"C\"].isin([\"IT\",\"ES\",\"GR\",\"DE\"])]\n",
    "south.head()\n",
    "\n",
    "\n",
    "plt.figure(figsize=(6,4))\n",
    "sns.violinplot(x=\"C\", y=\"LABOUR_PRODUCTIVITY\", data=south,width=1,inner=\"quartiles\")"
   ]
  },
  {
   "cell_type": "markdown",
   "metadata": {},
   "source": [
    "## 6.2 parallel coordinates\n",
    "To plot how many quantitative variables relate to each other.\n",
    "- frame: the data\n",
    "- class_column: column containing the labels (for different colors)\n",
    "- cols: The list of columns to use\n",
    "- colormap: colormap to use\n"
   ]
  },
  {
   "cell_type": "code",
   "execution_count": null,
   "metadata": {
    "collapsed": true
   },
   "outputs": [],
   "source": [
    "from pandas.tools.plotting import parallel_coordinates\n"
   ]
  },
  {
   "cell_type": "code",
   "execution_count": null,
   "metadata": {
    "collapsed": false
   },
   "outputs": [],
   "source": [
    "cols_get = [\"METRO_ID\",\"Metropolitan areas\",\"Year\",\"UNEMP_R\",'GDP_PC',\"LABOUR_PRODUCTIVITY\"]\n",
    "df_fixed = read_our_csv().loc[:,cols_get]\n",
    "df_fixed[\"C\"] = df_fixed[\"METRO_ID\"].apply(lambda x: x[:2] if isinstance(x,str) else \"\")\n",
    "italy = df_fixed.loc[df_fixed[\"C\"].isin([\"IT\"])]\n",
    "italy = italy.loc[italy[\"Year\"].isin([2001])]\n",
    "italy.head()"
   ]
  },
  {
   "cell_type": "markdown",
   "metadata": {},
   "source": [
    "**We are going to normalize values using standard scores**\n",
    "\n",
    "https://en.wikipedia.org/wiki/Standard_score\n",
    "\n",
    "- A series of values have a mean `m` and a standard deviation `d`\n",
    "- If you substract all values by `m` and divide them by `d` ($\\frac{x - mean(x)}{std(x)}$) your new values have a mean of 0 and a standard deviation of 1 \n"
   ]
  },
  {
   "cell_type": "code",
   "execution_count": null,
   "metadata": {
    "collapsed": false
   },
   "outputs": [],
   "source": [
    "#Here we normalize the variables so th\n",
    "cols = [\"UNEMP_R\",'GDP_PC',\"LABOUR_PRODUCTIVITY\"]\n",
    "for c in cols: \n",
    "    italy[c] = (italy[c]- np.mean(italy[c]))/np.std(italy[c]) \n",
    "    \n",
    "parallel_coordinates(italy.loc[(italy[\"Metropolitan areas\"] !=\"Italy\")],\"Year\",cols=cols,colormap=\"Paired\")"
   ]
  },
  {
   "cell_type": "code",
   "execution_count": null,
   "metadata": {
    "collapsed": false,
    "scrolled": true
   },
   "outputs": [],
   "source": [
    "d_city2regio = {\"Bari\": \"S\",\n",
    "\"Bologna\": \"C\",\n",
    "\"Catania\": \"S\",\n",
    "\"Florence\": \"C\",\n",
    "\"Genova\": \"N\",\n",
    "\"Milan\": \"N\",\n",
    "\"Naples\": \"S\",\n",
    "\"Palermo\": \"S\",\n",
    "\"Rome\": \"C\",\n",
    "\"Turin\": \"N\",\n",
    "\"Venice\": \"N\"}\n",
    "italy[\"Area\"] = italy[\"Metropolitan areas\"].apply(lambda x: d_city2regio.get(x))\n",
    "\n",
    "parallel_coordinates(italy.loc[(italy[\"Metropolitan areas\"] !=\"Italy\")],\"Area\",cols=cols,colormap=\"Paired\")"
   ]
  },
  {
   "cell_type": "markdown",
   "metadata": {
    "collapsed": true
   },
   "source": [
    "## 6.3 Factorplot\n",
    "http://seaborn.pydata.org/generated/seaborn.factorplot.html\n",
    "To visualize interactions between variables, as well as many distributions.\n",
    "- x = x axis\n",
    "- y = y axis\n",
    "- data = dataframe\n",
    "- hue = divide into several lines\n",
    "- size = size of figure\n",
    "- aspect = aspect of figure (1 = square)\n",
    "- ci = size of confidence intervals (0 for no confidence intervals)\n",
    "\n",
    "- See examples for documentation"
   ]
  },
  {
   "cell_type": "code",
   "execution_count": null,
   "metadata": {
    "collapsed": false
   },
   "outputs": [],
   "source": [
    "cols_get = [\"METRO_ID\",\"Metropolitan areas\",\"Year\",\"UNEMP_R\",'GDP_PC',\"LABOUR_PRODUCTIVITY\"]\n",
    "df_fixed = read_our_csv().loc[:,cols_get]\n",
    "df_fixed[\"C\"] = df_fixed[\"METRO_ID\"].apply(lambda x: x[:2] if isinstance(x,str) else \"\")\n",
    "south = df_fixed.loc[df_fixed[\"C\"].isin([\"IT\",\"ES\",\"GR\",\"DE\"])]\n",
    "south.head()\n"
   ]
  },
  {
   "cell_type": "code",
   "execution_count": null,
   "metadata": {
    "collapsed": false,
    "nbpresent": {
     "id": "ebca7182-62b4-4893-a4ec-76e171089764"
    }
   },
   "outputs": [],
   "source": [
    "sns.factorplot(x=\"Year\", y=\"UNEMP_R\", hue=\"C\", size=4,aspect=1.8,data=south,ci=95)"
   ]
  },
  {
   "cell_type": "code",
   "execution_count": null,
   "metadata": {
    "collapsed": false
   },
   "outputs": [],
   "source": [
    "sns.factorplot(x=\"Year\", y=\"UNEMP_R\", hue=\"C\", size=4,aspect=3,\n",
    "               data=south.loc[south[\"Year\"].isin([2000,2010])],kind=\"violin\",width=0.9,inner=\"quartiles\")\n"
   ]
  },
  {
   "cell_type": "code",
   "execution_count": null,
   "metadata": {
    "collapsed": true
   },
   "outputs": [],
   "source": []
  },
  {
   "cell_type": "markdown",
   "metadata": {},
   "source": [
    "## Plan for next class\n",
    "- Learn how to group our dataframe by a variable without iterating.\n",
    "- Learn about data visualization theory (which plot works for what kind of data, what to do, what not to do)\n",
    "- Learn inkscape\n",
    "- Learn some statistics"
   ]
  }
 ],
 "metadata": {
  "anaconda-cloud": {},
  "kernelspec": {
   "display_name": "Python [default]",
   "language": "python",
   "name": "python3"
  },
  "language_info": {
   "codemirror_mode": {
    "name": "ipython",
    "version": 3
   },
   "file_extension": ".py",
   "mimetype": "text/x-python",
   "name": "python",
   "nbconvert_exporter": "python",
   "pygments_lexer": "ipython3",
   "version": "3.5.2"
  },
  "nbpresent": {
   "slides": {
    "0618d23c-c892-426d-a7db-6e30a749b411": {
     "id": "0618d23c-c892-426d-a7db-6e30a749b411",
     "prev": "e04edbf3-e6a3-47ee-a93e-b6b72218a72b",
     "regions": {
      "ab64aa3f-c2c2-42bc-b9cf-fb40ee48ca55": {
       "attrs": {
        "height": 0.8,
        "width": 0.8,
        "x": 0.1,
        "y": 0.1
       },
       "content": {
        "cell": "ae46cc6e-7ca6-4082-a2b0-93e39ad03804",
        "part": "whole"
       },
       "id": "ab64aa3f-c2c2-42bc-b9cf-fb40ee48ca55"
      }
     }
    },
    "07d94af0-619e-4749-9beb-d5b03ca8fbe6": {
     "id": "07d94af0-619e-4749-9beb-d5b03ca8fbe6",
     "prev": "71957f46-ddf0-4af0-aebf-3b39629cced1",
     "regions": {
      "e0a08477-0545-4daf-ad69-8d484302a96f": {
       "attrs": {
        "height": 0.8,
        "width": 0.8,
        "x": 0.1,
        "y": 0.1
       },
       "content": {
        "cell": "915f5768-0b26-4581-b73d-c28c4799c3fb",
        "part": "whole"
       },
       "id": "e0a08477-0545-4daf-ad69-8d484302a96f"
      }
     }
    },
    "0d606407-dc80-41b6-bf14-fdf1295edc80": {
     "id": "0d606407-dc80-41b6-bf14-fdf1295edc80",
     "prev": "5ad83b98-ce59-4b10-abdd-12c3a72fdc8c",
     "regions": {
      "127a05cb-909a-47f1-9251-5bebe6a4018b": {
       "attrs": {
        "height": 0.8,
        "width": 0.8,
        "x": 0.1,
        "y": 0.1
       },
       "content": {
        "cell": "5e968e3f-0693-4cc5-98f0-f3592da1de9c",
        "part": "whole"
       },
       "id": "127a05cb-909a-47f1-9251-5bebe6a4018b"
      }
     }
    },
    "0e158e58-4214-4a59-97e4-bbab1859f608": {
     "id": "0e158e58-4214-4a59-97e4-bbab1859f608",
     "prev": "fb564439-51b4-49db-8548-096a9800512f",
     "regions": {
      "a87f64e4-43a0-4205-ac60-3557e1d30a02": {
       "attrs": {
        "height": 0.8,
        "width": 0.8,
        "x": 0.1,
        "y": 0.1
       },
       "content": {
        "cell": "abf01f5f-811b-4277-adc2-2bb795e50eba",
        "part": "whole"
       },
       "id": "a87f64e4-43a0-4205-ac60-3557e1d30a02"
      }
     }
    },
    "14f4a7ab-6424-46d4-b10a-dcac6a3bb847": {
     "id": "14f4a7ab-6424-46d4-b10a-dcac6a3bb847",
     "prev": "43e129b8-c7a6-490f-bbc9-a03d8ce967d8",
     "regions": {
      "0d609f72-85b2-4247-aa1d-6de093864f36": {
       "attrs": {
        "height": 0.8,
        "width": 0.8,
        "x": 0.1,
        "y": 0.1
       },
       "content": {
        "cell": "c264c61e-18ba-444d-ae01-6e0e950290c6",
        "part": "whole"
       },
       "id": "0d609f72-85b2-4247-aa1d-6de093864f36"
      }
     }
    },
    "1804328b-3589-4f9e-b76a-77efd092a115": {
     "id": "1804328b-3589-4f9e-b76a-77efd092a115",
     "prev": "aba92d82-d6f9-4c58-9ffa-640d63847dae",
     "regions": {
      "2dfb1ec5-af2a-4f98-b309-3c7a7afe3d18": {
       "attrs": {
        "height": 0.8,
        "width": 0.8,
        "x": 0.1,
        "y": 0.1
       },
       "content": {
        "cell": "1ee1e602-8e94-418e-bbf7-a69024fcb237",
        "part": "whole"
       },
       "id": "2dfb1ec5-af2a-4f98-b309-3c7a7afe3d18"
      }
     }
    },
    "18eecfe8-270e-499a-aa86-74f6f453daaf": {
     "id": "18eecfe8-270e-499a-aa86-74f6f453daaf",
     "prev": "5db6c74d-29f5-49a9-a4e2-b68a533b7c9c",
     "regions": {
      "d67b892f-9ffe-4a87-9292-ba9b56dad3db": {
       "attrs": {
        "height": 0.8,
        "width": 0.8,
        "x": 0.1,
        "y": 0.1
       },
       "content": {
        "cell": "7e793865-8cf6-4aa4-ad8a-c77cd6512b78",
        "part": "whole"
       },
       "id": "d67b892f-9ffe-4a87-9292-ba9b56dad3db"
      }
     }
    },
    "1a57b8da-9f7f-42ff-b5d6-87699429f892": {
     "id": "1a57b8da-9f7f-42ff-b5d6-87699429f892",
     "prev": "fe905394-ec36-4ca6-aea9-81e139c6b9c7",
     "regions": {
      "fd84a8eb-4e14-41fc-927d-c2ba345d16c4": {
       "attrs": {
        "height": 0.8,
        "width": 0.8,
        "x": 0.1,
        "y": 0.1
       },
       "content": {
        "cell": "1ac125ae-1897-4640-b4f9-cac74786350f",
        "part": "whole"
       },
       "id": "fd84a8eb-4e14-41fc-927d-c2ba345d16c4"
      }
     }
    },
    "27809539-0830-4a28-94fb-dc6f1d062f92": {
     "id": "27809539-0830-4a28-94fb-dc6f1d062f92",
     "prev": "9118163e-0b58-4743-86b3-70866482295b",
     "regions": {
      "2f3a16bc-c328-4b42-8f90-cf02b9ddfb9b": {
       "attrs": {
        "height": 0.8,
        "width": 0.8,
        "x": 0.1,
        "y": 0.1
       },
       "content": {
        "cell": "4e3ca13f-9bcc-415f-84a6-42a650c74d32",
        "part": "whole"
       },
       "id": "2f3a16bc-c328-4b42-8f90-cf02b9ddfb9b"
      }
     }
    },
    "2be8c82c-69c9-48c6-980e-a0c207fefc1b": {
     "id": "2be8c82c-69c9-48c6-980e-a0c207fefc1b",
     "prev": "5065e9cf-db59-436b-bf3b-960667a2e66d",
     "regions": {
      "acbd8be5-238e-4bd2-a642-0a5698673869": {
       "attrs": {
        "height": 0.8,
        "width": 0.8,
        "x": 0.1,
        "y": 0.1
       },
       "content": {
        "cell": "003f1839-d6db-49e8-b78e-565271dbf62a",
        "part": "whole"
       },
       "id": "acbd8be5-238e-4bd2-a642-0a5698673869"
      }
     }
    },
    "35d9b895-a6d6-45a6-a7ac-6bbfac8613de": {
     "id": "35d9b895-a6d6-45a6-a7ac-6bbfac8613de",
     "prev": null,
     "regions": {
      "475066f6-ceea-44a6-83ab-39d567ed5ea4": {
       "attrs": {
        "height": 0.8,
        "width": 0.8,
        "x": 0.1,
        "y": 0.1
       },
       "content": {
        "cell": "4a9918d3-9a2c-4349-ad42-998f3129c4e7",
        "part": "whole"
       },
       "id": "475066f6-ceea-44a6-83ab-39d567ed5ea4"
      }
     }
    },
    "38f901c4-b627-4b6b-b571-4087dc05324f": {
     "id": "38f901c4-b627-4b6b-b571-4087dc05324f",
     "prev": "4e602973-a4da-4931-9e62-766c0f3d5f20",
     "regions": {
      "75e7ef9a-ce64-4151-a97c-f646228c1345": {
       "attrs": {
        "height": 0.8,
        "width": 0.8,
        "x": 0.1,
        "y": 0.1
       },
       "content": {
        "cell": "746622aa-9fec-4ffe-966e-df2d2ed37096",
        "part": "whole"
       },
       "id": "75e7ef9a-ce64-4151-a97c-f646228c1345"
      }
     }
    },
    "39e99dc6-f92c-4c0e-b742-fef3709dfc4b": {
     "id": "39e99dc6-f92c-4c0e-b742-fef3709dfc4b",
     "prev": "50c798a1-36e8-4255-9e5e-e7b49ff0ee5c",
     "regions": {
      "6be171d1-1ca6-4cf7-adcc-efe3ab60fd86": {
       "attrs": {
        "height": 0.8,
        "width": 0.8,
        "x": 0.1,
        "y": 0.1
       },
       "content": {
        "cell": "6331b29e-321a-4d48-837f-33ccbf676644",
        "part": "whole"
       },
       "id": "6be171d1-1ca6-4cf7-adcc-efe3ab60fd86"
      }
     }
    },
    "43e129b8-c7a6-490f-bbc9-a03d8ce967d8": {
     "id": "43e129b8-c7a6-490f-bbc9-a03d8ce967d8",
     "prev": "2be8c82c-69c9-48c6-980e-a0c207fefc1b",
     "regions": {
      "db985c0f-7fd7-4812-95ad-aad6f3fa5f37": {
       "attrs": {
        "height": 0.8,
        "width": 0.8,
        "x": 0.1,
        "y": 0.1
       },
       "content": {
        "cell": "11a9e7fb-d702-4866-aebe-d9d4a9d139b8",
        "part": "whole"
       },
       "id": "db985c0f-7fd7-4812-95ad-aad6f3fa5f37"
      }
     }
    },
    "49e840c7-5789-4242-a304-b211229133af": {
     "id": "49e840c7-5789-4242-a304-b211229133af",
     "prev": "5876636b-e171-4c97-b389-988703396b1d",
     "regions": {
      "c59d201c-7d63-4322-bd19-29bc19b7775c": {
       "attrs": {
        "height": 0.8,
        "width": 0.8,
        "x": 0.1,
        "y": 0.1
       },
       "content": {
        "cell": "72f562b0-6ab1-47a1-a643-3ade99f6f859",
        "part": "whole"
       },
       "id": "c59d201c-7d63-4322-bd19-29bc19b7775c"
      }
     }
    },
    "4e602973-a4da-4931-9e62-766c0f3d5f20": {
     "id": "4e602973-a4da-4931-9e62-766c0f3d5f20",
     "prev": "0d606407-dc80-41b6-bf14-fdf1295edc80",
     "regions": {
      "b5ad80f7-6f15-4c43-b0bb-de0251bd4b18": {
       "attrs": {
        "height": 0.8,
        "width": 0.8,
        "x": 0.1,
        "y": 0.1
       },
       "content": {
        "cell": "a4e6360d-6d00-4509-b69a-2cf78778e566",
        "part": "whole"
       },
       "id": "b5ad80f7-6f15-4c43-b0bb-de0251bd4b18"
      }
     }
    },
    "5065e9cf-db59-436b-bf3b-960667a2e66d": {
     "id": "5065e9cf-db59-436b-bf3b-960667a2e66d",
     "prev": "673fc687-4c3b-44b2-9e63-72e81cd1edbd",
     "regions": {
      "e951937a-2b1e-48a3-9fc3-58e8b24c034f": {
       "attrs": {
        "height": 0.8,
        "width": 0.8,
        "x": 0.1,
        "y": 0.1
       },
       "content": {
        "cell": "2c8e2bc1-d259-4a33-a6b4-39cabbc7dd5d",
        "part": "whole"
       },
       "id": "e951937a-2b1e-48a3-9fc3-58e8b24c034f"
      }
     }
    },
    "50c798a1-36e8-4255-9e5e-e7b49ff0ee5c": {
     "id": "50c798a1-36e8-4255-9e5e-e7b49ff0ee5c",
     "prev": "b0071f3d-6e6c-4cf3-8f23-6f066988781f",
     "regions": {
      "a2419463-bb02-4b5e-be14-081ab7593397": {
       "attrs": {
        "height": 0.8,
        "width": 0.8,
        "x": 0.1,
        "y": 0.1
       },
       "content": {
        "cell": "f3b58f9a-6faa-4f34-a732-407e29d31fda",
        "part": "whole"
       },
       "id": "a2419463-bb02-4b5e-be14-081ab7593397"
      }
     }
    },
    "53f9caee-0cc1-4a29-8018-d0056bd23462": {
     "id": "53f9caee-0cc1-4a29-8018-d0056bd23462",
     "prev": "f2295faf-af43-4a94-a14f-4886ca61c34e",
     "regions": {
      "c7f9f315-9fe3-4319-bcc5-6ecd87d56571": {
       "attrs": {
        "height": 0.8,
        "width": 0.8,
        "x": 0.1,
        "y": 0.1
       },
       "content": {
        "cell": "1b1dd6c9-3357-49ef-89c8-f0b991e11d84",
        "part": "whole"
       },
       "id": "c7f9f315-9fe3-4319-bcc5-6ecd87d56571"
      }
     }
    },
    "5876636b-e171-4c97-b389-988703396b1d": {
     "id": "5876636b-e171-4c97-b389-988703396b1d",
     "prev": "d7fd0ec8-e9f3-44c5-983f-442a2f66f7a0",
     "regions": {
      "799ff53e-501a-47c4-bd62-1fc493ab0ada": {
       "attrs": {
        "height": 0.8,
        "width": 0.8,
        "x": 0.1,
        "y": 0.1
       },
       "content": {
        "cell": "6ecc029b-9ae7-489d-a701-e440888bb585",
        "part": "whole"
       },
       "id": "799ff53e-501a-47c4-bd62-1fc493ab0ada"
      }
     }
    },
    "5ad83b98-ce59-4b10-abdd-12c3a72fdc8c": {
     "id": "5ad83b98-ce59-4b10-abdd-12c3a72fdc8c",
     "prev": "c6150651-2eaa-43e2-8501-5576a6e92feb",
     "regions": {
      "139ad334-3674-44a9-bbbe-4477cabc4b9b": {
       "attrs": {
        "height": 0.8,
        "width": 0.8,
        "x": 0.1,
        "y": 0.1
       },
       "content": {
        "cell": "d78d908a-527d-4d79-bf4d-02714dea13f5",
        "part": "whole"
       },
       "id": "139ad334-3674-44a9-bbbe-4477cabc4b9b"
      }
     }
    },
    "5cae63cb-9e2a-4e54-8705-d6b1ef39c497": {
     "id": "5cae63cb-9e2a-4e54-8705-d6b1ef39c497",
     "prev": "1a57b8da-9f7f-42ff-b5d6-87699429f892",
     "regions": {
      "59e82220-60e9-4e99-9321-ba3cb3b7a4af": {
       "attrs": {
        "height": 0.8,
        "width": 0.8,
        "x": 0.1,
        "y": 0.1
       },
       "content": {
        "cell": "8156cffc-0db7-4371-82ee-25fbb8e1d194",
        "part": "whole"
       },
       "id": "59e82220-60e9-4e99-9321-ba3cb3b7a4af"
      }
     }
    },
    "5db6c74d-29f5-49a9-a4e2-b68a533b7c9c": {
     "id": "5db6c74d-29f5-49a9-a4e2-b68a533b7c9c",
     "prev": "0e158e58-4214-4a59-97e4-bbab1859f608",
     "regions": {
      "359b6955-84bc-4bdf-8590-aa5806fd4add": {
       "attrs": {
        "height": 0.8,
        "width": 0.8,
        "x": 0.1,
        "y": 0.1
       },
       "content": {
        "cell": "fff49a2e-b128-4339-a106-47e485efb6fc",
        "part": "whole"
       },
       "id": "359b6955-84bc-4bdf-8590-aa5806fd4add"
      }
     }
    },
    "60d19718-d135-4f8a-b50f-841286b94113": {
     "id": "60d19718-d135-4f8a-b50f-841286b94113",
     "prev": "5cae63cb-9e2a-4e54-8705-d6b1ef39c497",
     "regions": {
      "d82c2b7d-7b8b-4ce8-9fab-6d6bf083defd": {
       "attrs": {
        "height": 0.8,
        "width": 0.8,
        "x": 0.1,
        "y": 0.1
       },
       "content": {
        "cell": "c15db478-cb08-4557-8203-774840bc88b4",
        "part": "whole"
       },
       "id": "d82c2b7d-7b8b-4ce8-9fab-6d6bf083defd"
      }
     }
    },
    "65d113c8-eba2-4e59-82af-661be1d6b7cb": {
     "id": "65d113c8-eba2-4e59-82af-661be1d6b7cb",
     "prev": "e6d39e5a-9590-4fd6-b662-14ea83a6c782",
     "regions": {
      "1d787b2c-fab0-4dc1-915c-93a63b5a5260": {
       "attrs": {
        "height": 0.8,
        "width": 0.8,
        "x": 0.1,
        "y": 0.1
       },
       "content": {
        "cell": "cd40c5ef-7b4a-49f2-93ef-b9fb3b95aff9",
        "part": "whole"
       },
       "id": "1d787b2c-fab0-4dc1-915c-93a63b5a5260"
      }
     }
    },
    "673fc687-4c3b-44b2-9e63-72e81cd1edbd": {
     "id": "673fc687-4c3b-44b2-9e63-72e81cd1edbd",
     "prev": "18eecfe8-270e-499a-aa86-74f6f453daaf",
     "regions": {
      "dea4d96a-c9a9-4e21-9590-45292d559d5d": {
       "attrs": {
        "height": 0.8,
        "width": 0.8,
        "x": 0.1,
        "y": 0.1
       },
       "content": {
        "cell": "eca20c4b-c629-4cf6-a338-700907d0fb0e",
        "part": "whole"
       },
       "id": "dea4d96a-c9a9-4e21-9590-45292d559d5d"
      }
     }
    },
    "68096391-b39c-4ea4-bf07-f0fc6c50fa7a": {
     "id": "68096391-b39c-4ea4-bf07-f0fc6c50fa7a",
     "prev": "38f901c4-b627-4b6b-b571-4087dc05324f",
     "regions": {
      "bcbe9308-8c48-42c5-a550-01b8cbf3c9a2": {
       "attrs": {
        "height": 0.8,
        "width": 0.8,
        "x": 0.1,
        "y": 0.1
       },
       "content": {
        "cell": "1e8f214d-122e-4c68-a44c-18bd682f8dd6",
        "part": "whole"
       },
       "id": "bcbe9308-8c48-42c5-a550-01b8cbf3c9a2"
      }
     }
    },
    "685bedae-3a16-469b-bf48-773b63cd3976": {
     "id": "685bedae-3a16-469b-bf48-773b63cd3976",
     "prev": "e633ab2c-80db-4a74-8448-340813c0a173",
     "regions": {
      "492c28a0-3379-4f73-a26a-88dc0f2cc91b": {
       "attrs": {
        "height": 0.8,
        "width": 0.8,
        "x": 0.1,
        "y": 0.1
       },
       "content": {
        "cell": "a1c307e2-934c-4881-9f5f-ab1495c1bb94",
        "part": "whole"
       },
       "id": "492c28a0-3379-4f73-a26a-88dc0f2cc91b"
      }
     }
    },
    "6ba02286-9f90-4cfd-abc0-cb85b6111445": {
     "id": "6ba02286-9f90-4cfd-abc0-cb85b6111445",
     "prev": "35d9b895-a6d6-45a6-a7ac-6bbfac8613de",
     "regions": {
      "39d2370e-ad14-42c6-be61-e449ef445729": {
       "attrs": {
        "height": 0.8,
        "width": 0.8,
        "x": 0.1,
        "y": 0.1
       },
       "content": {
        "cell": "b6b4e6ff-033c-4b1d-8075-182285f4673a",
        "part": "whole"
       },
       "id": "39d2370e-ad14-42c6-be61-e449ef445729"
      }
     }
    },
    "6c1d18e7-9beb-4c2a-aa0a-769af264472f": {
     "id": "6c1d18e7-9beb-4c2a-aa0a-769af264472f",
     "prev": "8b049477-9556-4796-867c-55b42c083028",
     "regions": {
      "9581bb3b-c462-4cf5-99d0-f565db47ae2a": {
       "attrs": {
        "height": 0.8,
        "width": 0.8,
        "x": 0.1,
        "y": 0.1
       },
       "content": {
        "cell": "162b5cc0-60d6-4af4-9648-36cbdfbb47de",
        "part": "whole"
       },
       "id": "9581bb3b-c462-4cf5-99d0-f565db47ae2a"
      }
     }
    },
    "71957f46-ddf0-4af0-aebf-3b39629cced1": {
     "id": "71957f46-ddf0-4af0-aebf-3b39629cced1",
     "prev": "84869f1d-d606-4d25-aef3-fd49449dd31e",
     "regions": {
      "a73710d6-5d0b-4162-8c2c-0c3f72606d88": {
       "attrs": {
        "height": 0.8,
        "width": 0.8,
        "x": 0.1,
        "y": 0.1
       },
       "content": {
        "cell": "dfa3ba22-a84d-4b42-bd08-a5a2c504855d",
        "part": "whole"
       },
       "id": "a73710d6-5d0b-4162-8c2c-0c3f72606d88"
      }
     }
    },
    "84869f1d-d606-4d25-aef3-fd49449dd31e": {
     "id": "84869f1d-d606-4d25-aef3-fd49449dd31e",
     "prev": "b208bf3e-32b0-4118-9d41-0177aa5ea2bc",
     "regions": {
      "c63fd2e0-61d9-4439-9f7e-cc03e2b6aa4f": {
       "attrs": {
        "height": 0.8,
        "width": 0.8,
        "x": 0.1,
        "y": 0.1
       },
       "content": {
        "cell": "cb7289de-a2de-4a85-966f-dde2c7aa3a13",
        "part": "whole"
       },
       "id": "c63fd2e0-61d9-4439-9f7e-cc03e2b6aa4f"
      }
     }
    },
    "8b049477-9556-4796-867c-55b42c083028": {
     "id": "8b049477-9556-4796-867c-55b42c083028",
     "prev": "6ba02286-9f90-4cfd-abc0-cb85b6111445",
     "regions": {
      "9d68a531-afcb-44ca-82af-21c9df643c4d": {
       "attrs": {
        "height": 0.8,
        "width": 0.8,
        "x": 0.1,
        "y": 0.1
       },
       "content": {
        "cell": "cc97dec8-f639-4e91-8fd6-2bea6d825511",
        "part": "whole"
       },
       "id": "9d68a531-afcb-44ca-82af-21c9df643c4d"
      }
     }
    },
    "9118163e-0b58-4743-86b3-70866482295b": {
     "id": "9118163e-0b58-4743-86b3-70866482295b",
     "prev": "faa9a62b-d635-466f-8a5f-595e67c63ec8",
     "regions": {
      "36157c4c-0267-4adc-a9b3-2425c6f88957": {
       "attrs": {
        "height": 0.8,
        "width": 0.8,
        "x": 0.1,
        "y": 0.1
       },
       "content": {
        "cell": "c8f026b1-b1c4-4cc4-ad07-52d0e771def5",
        "part": "whole"
       },
       "id": "36157c4c-0267-4adc-a9b3-2425c6f88957"
      }
     }
    },
    "a3e5b3a1-0b5d-45dd-ac21-0d68e99fa3aa": {
     "id": "a3e5b3a1-0b5d-45dd-ac21-0d68e99fa3aa",
     "prev": "c31dfdcc-f2b1-469a-a46e-6c4ab0b528d5",
     "regions": {
      "c4b7eab3-6be7-46ce-b9fe-8818655ba53f": {
       "attrs": {
        "height": 0.8,
        "width": 0.8,
        "x": 0.1,
        "y": 0.1
       },
       "content": {
        "cell": "cf35c8cf-ea28-4827-8434-b745930d4977",
        "part": "whole"
       },
       "id": "c4b7eab3-6be7-46ce-b9fe-8818655ba53f"
      }
     }
    },
    "aba92d82-d6f9-4c58-9ffa-640d63847dae": {
     "id": "aba92d82-d6f9-4c58-9ffa-640d63847dae",
     "prev": "685bedae-3a16-469b-bf48-773b63cd3976",
     "regions": {
      "2c9dfbed-499e-49c9-b163-6363bcd88fa1": {
       "attrs": {
        "height": 0.8,
        "width": 0.8,
        "x": 0.1,
        "y": 0.1
       },
       "content": {
        "cell": "3b3e68f1-9d9e-4ed9-bc5e-dd73124bb593",
        "part": "whole"
       },
       "id": "2c9dfbed-499e-49c9-b163-6363bcd88fa1"
      }
     }
    },
    "af5f902b-0a69-4251-9139-38b0f3fcbb3f": {
     "id": "af5f902b-0a69-4251-9139-38b0f3fcbb3f",
     "prev": "68096391-b39c-4ea4-bf07-f0fc6c50fa7a",
     "regions": {
      "90205097-637e-4b7e-a46d-b71e37db9248": {
       "attrs": {
        "height": 0.8,
        "width": 0.8,
        "x": 0.1,
        "y": 0.1
       },
       "content": {
        "cell": "8a1d7be6-04a8-48d7-8cf9-be3a494e07e1",
        "part": "whole"
       },
       "id": "90205097-637e-4b7e-a46d-b71e37db9248"
      }
     }
    },
    "b0071f3d-6e6c-4cf3-8f23-6f066988781f": {
     "id": "b0071f3d-6e6c-4cf3-8f23-6f066988781f",
     "prev": "d79b5089-0961-49cc-b63f-e4ab1f185ee4",
     "regions": {
      "94c3ca1a-37ae-4727-8d60-7fc842e9b04d": {
       "attrs": {
        "height": 0.8,
        "width": 0.8,
        "x": 0.1,
        "y": 0.1
       },
       "content": {
        "cell": "3397e12e-b029-4bf0-a888-855603c51a51",
        "part": "whole"
       },
       "id": "94c3ca1a-37ae-4727-8d60-7fc842e9b04d"
      }
     }
    },
    "b208bf3e-32b0-4118-9d41-0177aa5ea2bc": {
     "id": "b208bf3e-32b0-4118-9d41-0177aa5ea2bc",
     "prev": "b4006456-b797-49fd-a57f-e4f52bf6ffa9",
     "regions": {
      "b2493d7f-96ba-4d56-94c9-7012c4ac3794": {
       "attrs": {
        "height": 0.8,
        "width": 0.8,
        "x": 0.1,
        "y": 0.1
       },
       "content": {
        "cell": "e94fd8e9-fa81-4bb2-91d7-a3778f4e1dff",
        "part": "whole"
       },
       "id": "b2493d7f-96ba-4d56-94c9-7012c4ac3794"
      }
     }
    },
    "b4006456-b797-49fd-a57f-e4f52bf6ffa9": {
     "id": "b4006456-b797-49fd-a57f-e4f52bf6ffa9",
     "prev": "27809539-0830-4a28-94fb-dc6f1d062f92",
     "regions": {
      "24e03f5a-83d0-46c3-bedc-69e6dc9a8169": {
       "attrs": {
        "height": 0.8,
        "width": 0.8,
        "x": 0.1,
        "y": 0.1
       },
       "content": {
        "cell": "13256b2d-7e22-4d17-b3be-e3a2538ee185",
        "part": "whole"
       },
       "id": "24e03f5a-83d0-46c3-bedc-69e6dc9a8169"
      }
     }
    },
    "c31dfdcc-f2b1-469a-a46e-6c4ab0b528d5": {
     "id": "c31dfdcc-f2b1-469a-a46e-6c4ab0b528d5",
     "prev": "07d94af0-619e-4749-9beb-d5b03ca8fbe6",
     "regions": {
      "f641018a-c0b3-4686-b823-8aa0e58a90e3": {
       "attrs": {
        "height": 0.8,
        "width": 0.8,
        "x": 0.1,
        "y": 0.1
       },
       "content": {
        "cell": "17be665c-5960-400e-9758-15d3e109f1eb",
        "part": "whole"
       },
       "id": "f641018a-c0b3-4686-b823-8aa0e58a90e3"
      }
     }
    },
    "c6150651-2eaa-43e2-8501-5576a6e92feb": {
     "id": "c6150651-2eaa-43e2-8501-5576a6e92feb",
     "prev": "ee94d7a2-6520-4665-9c43-34e44be53bc1",
     "regions": {
      "d532d6f0-999a-4d31-8827-99d4c854c48d": {
       "attrs": {
        "height": 0.8,
        "width": 0.8,
        "x": 0.1,
        "y": 0.1
       },
       "content": {
        "cell": "ebca7182-62b4-4893-a4ec-76e171089764",
        "part": "whole"
       },
       "id": "d532d6f0-999a-4d31-8827-99d4c854c48d"
      }
     }
    },
    "c9133d81-4597-4cc4-87e7-7c00373de447": {
     "id": "c9133d81-4597-4cc4-87e7-7c00373de447",
     "prev": "53f9caee-0cc1-4a29-8018-d0056bd23462",
     "regions": {
      "2e50e8bc-ffbd-40f3-8a58-5cc3546847b3": {
       "attrs": {
        "height": 0.8,
        "width": 0.8,
        "x": 0.1,
        "y": 0.1
       },
       "content": {
        "cell": "a86510eb-5b8a-4ebf-8267-157573174fae",
        "part": "whole"
       },
       "id": "2e50e8bc-ffbd-40f3-8a58-5cc3546847b3"
      }
     }
    },
    "d79b5089-0961-49cc-b63f-e4ab1f185ee4": {
     "id": "d79b5089-0961-49cc-b63f-e4ab1f185ee4",
     "prev": "6c1d18e7-9beb-4c2a-aa0a-769af264472f",
     "regions": {
      "f27ed292-4d0b-49be-b340-bd6b303331a2": {
       "attrs": {
        "height": 0.8,
        "width": 0.8,
        "x": 0.1,
        "y": 0.1
       },
       "content": {
        "cell": "c8ac9024-df37-4067-86f4-6c89cd5ee7cc",
        "part": "whole"
       },
       "id": "f27ed292-4d0b-49be-b340-bd6b303331a2"
      }
     }
    },
    "d7fd0ec8-e9f3-44c5-983f-442a2f66f7a0": {
     "id": "d7fd0ec8-e9f3-44c5-983f-442a2f66f7a0",
     "prev": "a3e5b3a1-0b5d-45dd-ac21-0d68e99fa3aa",
     "regions": {
      "ce47f272-3008-4677-93f3-3a3ddeb60886": {
       "attrs": {
        "height": 0.8,
        "width": 0.8,
        "x": 0.1,
        "y": 0.1
       },
       "content": {
        "cell": "9bdf51a8-fb13-4f5b-9d5e-9ae676c5402e",
        "part": "whole"
       },
       "id": "ce47f272-3008-4677-93f3-3a3ddeb60886"
      }
     }
    },
    "e04edbf3-e6a3-47ee-a93e-b6b72218a72b": {
     "id": "e04edbf3-e6a3-47ee-a93e-b6b72218a72b",
     "prev": "1804328b-3589-4f9e-b76a-77efd092a115",
     "regions": {
      "cbe8741a-c6de-4380-9a08-d44e54679603": {
       "attrs": {
        "height": 0.8,
        "width": 0.8,
        "x": 0.1,
        "y": 0.1
       },
       "content": {
        "cell": "b692072a-c1d3-44c5-a3c8-fdb94c8ae8a8",
        "part": "whole"
       },
       "id": "cbe8741a-c6de-4380-9a08-d44e54679603"
      }
     }
    },
    "e633ab2c-80db-4a74-8448-340813c0a173": {
     "id": "e633ab2c-80db-4a74-8448-340813c0a173",
     "prev": "65d113c8-eba2-4e59-82af-661be1d6b7cb",
     "regions": {
      "922bd306-5a42-4063-b8c9-e2444206f6cf": {
       "attrs": {
        "height": 0.8,
        "width": 0.8,
        "x": 0.1,
        "y": 0.1
       },
       "content": {
        "cell": "773645fb-07d6-44d2-9f18-eb935498e6f0",
        "part": "whole"
       },
       "id": "922bd306-5a42-4063-b8c9-e2444206f6cf"
      }
     }
    },
    "e6d39e5a-9590-4fd6-b662-14ea83a6c782": {
     "id": "e6d39e5a-9590-4fd6-b662-14ea83a6c782",
     "prev": "ebd3c65b-8103-4690-ac31-9ba6cdd2e0c1",
     "regions": {
      "6e34be5b-65c7-464e-8fb6-e6ee88609666": {
       "attrs": {
        "height": 0.8,
        "width": 0.8,
        "x": 0.1,
        "y": 0.1
       },
       "content": {
        "cell": "e488f5db-b073-4a7b-b600-a94957ff7f71",
        "part": "whole"
       },
       "id": "6e34be5b-65c7-464e-8fb6-e6ee88609666"
      }
     }
    },
    "ebd3c65b-8103-4690-ac31-9ba6cdd2e0c1": {
     "id": "ebd3c65b-8103-4690-ac31-9ba6cdd2e0c1",
     "prev": "14f4a7ab-6424-46d4-b10a-dcac6a3bb847",
     "regions": {
      "7adfde6a-3a73-481e-a094-62b63d0ac575": {
       "attrs": {
        "height": 0.8,
        "width": 0.8,
        "x": 0.1,
        "y": 0.1
       },
       "content": {
        "cell": "90b6732a-ad1d-4cb3-9a7d-b1183c9490fd",
        "part": "whole"
       },
       "id": "7adfde6a-3a73-481e-a094-62b63d0ac575"
      }
     }
    },
    "ee94d7a2-6520-4665-9c43-34e44be53bc1": {
     "id": "ee94d7a2-6520-4665-9c43-34e44be53bc1",
     "prev": "49e840c7-5789-4242-a304-b211229133af",
     "regions": {
      "12d66648-cdf1-45ef-9149-efd82ef48c6e": {
       "attrs": {
        "height": 0.8,
        "width": 0.8,
        "x": 0.1,
        "y": 0.1
       },
       "content": {
        "cell": "9fef5948-bcb4-48c2-aa09-8a9234b8f54b",
        "part": "whole"
       },
       "id": "12d66648-cdf1-45ef-9149-efd82ef48c6e"
      }
     }
    },
    "f2295faf-af43-4a94-a14f-4886ca61c34e": {
     "id": "f2295faf-af43-4a94-a14f-4886ca61c34e",
     "prev": "0618d23c-c892-426d-a7db-6e30a749b411",
     "regions": {
      "0e60d90c-dc8a-4fcb-aafa-1539452efe36": {
       "attrs": {
        "height": 0.8,
        "width": 0.8,
        "x": 0.1,
        "y": 0.1
       },
       "content": {
        "cell": "11243896-6c2d-4f55-bb2d-016ea7c6bbfe",
        "part": "whole"
       },
       "id": "0e60d90c-dc8a-4fcb-aafa-1539452efe36"
      }
     }
    },
    "faa9a62b-d635-466f-8a5f-595e67c63ec8": {
     "id": "faa9a62b-d635-466f-8a5f-595e67c63ec8",
     "prev": "c9133d81-4597-4cc4-87e7-7c00373de447",
     "regions": {
      "7e33a06c-b5da-4311-b67e-42f4c212d776": {
       "attrs": {
        "height": 0.8,
        "width": 0.8,
        "x": 0.1,
        "y": 0.1
       },
       "content": {
        "cell": "7b4d16ce-a00b-4340-a9fb-986159a682a2",
        "part": "whole"
       },
       "id": "7e33a06c-b5da-4311-b67e-42f4c212d776"
      }
     }
    },
    "fb564439-51b4-49db-8548-096a9800512f": {
     "id": "fb564439-51b4-49db-8548-096a9800512f",
     "prev": "60d19718-d135-4f8a-b50f-841286b94113",
     "regions": {
      "64b213ca-19e5-4368-b6e6-58ed088f3152": {
       "attrs": {
        "height": 0.8,
        "width": 0.8,
        "x": 0.1,
        "y": 0.1
       },
       "content": {
        "cell": "616f20a5-7fe2-4c0d-8966-7a5fd92273a7",
        "part": "whole"
       },
       "id": "64b213ca-19e5-4368-b6e6-58ed088f3152"
      }
     }
    },
    "fe905394-ec36-4ca6-aea9-81e139c6b9c7": {
     "id": "fe905394-ec36-4ca6-aea9-81e139c6b9c7",
     "prev": "39e99dc6-f92c-4c0e-b742-fef3709dfc4b",
     "regions": {
      "9343f200-5b6e-47a4-ab26-01949c7f0b3f": {
       "attrs": {
        "height": 0.8,
        "width": 0.8,
        "x": 0.1,
        "y": 0.1
       },
       "content": {
        "cell": "a08dee11-2dc6-4de8-8f5c-7ad2d49ae2d8",
        "part": "whole"
       },
       "id": "9343f200-5b6e-47a4-ab26-01949c7f0b3f"
      }
     }
    }
   },
   "themes": {}
  }
 },
 "nbformat": 4,
 "nbformat_minor": 0
}
