{
 "cells": [
  {
   "cell_type": "code",
   "execution_count": null,
   "metadata": {
    "collapsed": true
   },
   "outputs": [],
   "source": [
    "import numpy as np\n",
    "from sklearn.cluster import KMeans\n",
    "\n",
    "def kmeans_missing(X, n_clusters, max_iter=10):\n",
    "    \"\"\"Perform K-Means clustering on data with missing values.\n",
    "\n",
    "    Args:\n",
    "      X: An [n_samples, n_features] array of data to cluster.\n",
    "      n_clusters: Number of clusters to form.\n",
    "      max_iter: Maximum number of EM iterations to perform.\n",
    "\n",
    "    Returns:\n",
    "      labels: An [n_samples] vector of integer labels.\n",
    "      centroids: An [n_clusters, n_features] array of cluster centroids.\n",
    "      X_hat: Copy of X with the missing values filled in.\n",
    "      \n",
    "    From: http://stackoverflow.com/questions/35611465/python-scikit-learn-clustering-with-missing-data\n",
    "    \"\"\"\n",
    "\n",
    "    # Initialize missing values to their column means\n",
    "    missing = ~np.isfinite(X)\n",
    "    mu = np.nanmean(X, 0, keepdims=1)\n",
    "    X_hat = np.where(missing, mu, X)\n",
    "\n",
    "    for i in range(max_iter):\n",
    "        if i > 0:\n",
    "            # initialize KMeans with the previous set of centroids. this is much\n",
    "            # faster and makes it easier to check convergence (since labels\n",
    "            # won't be permuted on every iteration), but might be more prone to\n",
    "            # getting stuck in local minima.\n",
    "            cls = KMeans(n_clusters, init=prev_centroids)\n",
    "        else:\n",
    "            # do multiple random initializations in parallel\n",
    "            cls = KMeans(n_clusters, n_jobs=-1,n_init=100)\n",
    "\n",
    "        # perform clustering on the filled-in data\n",
    "        labels = cls.fit_predict(X_hat)\n",
    "        centroids = cls.cluster_centers_\n",
    "\n",
    "        # fill in the missing values based on their cluster centroids\n",
    "        X_hat[missing] = centroids[labels][missing]\n",
    "\n",
    "        # when the labels have stopped changing then we have converged\n",
    "        if i > 0 and np.all(labels == prev_labels):\n",
    "            break\n",
    "\n",
    "        prev_labels = labels\n",
    "        prev_centroids = cls.cluster_centers_\n",
    "\n",
    "    return labels, centroids, X_hat"
   ]
  },
  {
   "cell_type": "code",
   "execution_count": null,
   "metadata": {
    "collapsed": true
   },
   "outputs": [],
   "source": [
    "conda install tensorflow\n",
    "pip install fancyimpute"
   ]
  },
  {
   "cell_type": "code",
   "execution_count": null,
   "metadata": {
    "collapsed": true
   },
   "outputs": [],
   "source": [
    "#copy the df\n",
    "df_kmeans = df_fixed.copy()\n",
    "\n",
    "#keep the values\n",
    "X = np.array(df_kmeans.loc[:,cols])\n",
    "\n",
    "#Calculate hte groups\n",
    "labels,centroids,kmeans_imputed = kmeans_missing(X,n_clusters=9,max_iter=100)\n",
    "\n",
    "#Copy back the values (now imputed)\n",
    "df_kmeans.loc[:,cols] = kmeans_imputed\n",
    "\n",
    "#Create a column with labels (group number)\n",
    "df_kmeans[\"label\"] = labels\n",
    "df_kmeans.head()"
   ]
  },
  {
   "cell_type": "code",
   "execution_count": null,
   "metadata": {
    "collapsed": true
   },
   "outputs": [],
   "source": [
    "#Make a plot to see how well we did\n",
    "\n",
    "#First, make a list of booleans to keep only the missing values\n",
    "values = np.isnan(df_fixed[\"LABOUR_PRODUCTIVITY\"])\n",
    "\n",
    "#Make plot only of missing values\n",
    "plt.figure(figsize=(6,4))\n",
    "plt.scatter(df_original.loc[values,[\"LABOUR_PRODUCTIVITY\"]],df_kmeans.loc[values,[\"LABOUR_PRODUCTIVITY\"]],label=\"KMEANS\")\n",
    "plt.scatter(df_original.loc[values,[\"LABOUR_PRODUCTIVITY\"]],mean_inputed.loc[values,[\"LABOUR_PRODUCTIVITY\"]],color=\"r\",label=\"MEAN\")\n",
    "plt.plot([0.75,1.19],[0.75,1.19],label=\"Perfect match near this line\")\n",
    "plt.xlim((0.75,1.2))\n",
    "plt.ylim((0.75,1.2))\n",
    "plt.legend(loc=0)\n",
    "plt.xlabel(\"Original productivity\")\n",
    "plt.ylabel(\"Imputed productivity\")\n",
    "plt.savefig(\"figures/kmeans_vs_mean_worst_case.png\")"
   ]
  },
  {
   "cell_type": "code",
   "execution_count": null,
   "metadata": {
    "collapsed": true
   },
   "outputs": [],
   "source": []
  },
  {
   "cell_type": "code",
   "execution_count": null,
   "metadata": {
    "collapsed": true
   },
   "outputs": [],
   "source": []
  }
 ],
 "metadata": {
  "anaconda-cloud": {},
  "kernelspec": {
   "display_name": "Python [conda root]",
   "language": "python",
   "name": "conda-root-py"
  },
  "language_info": {
   "codemirror_mode": {
    "name": "ipython",
    "version": 3
   },
   "file_extension": ".py",
   "mimetype": "text/x-python",
   "name": "python",
   "nbconvert_exporter": "python",
   "pygments_lexer": "ipython3",
   "version": "3.5.2"
  }
 },
 "nbformat": 4,
 "nbformat_minor": 1
}
