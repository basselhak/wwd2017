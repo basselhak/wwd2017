{
 "cells": [
  {
   "cell_type": "code",
   "execution_count": null,
   "metadata": {
    "collapsed": true
   },
   "outputs": [],
   "source": [
    "a = pd.crosstab(df[\"colpaz1a\"],df[\"q10new\"])\n",
    "a"
   ]
  },
  {
   "cell_type": "code",
   "execution_count": 1,
   "metadata": {
    "collapsed": false
   },
   "outputs": [
    {
     "name": "stdout",
     "output_type": "stream",
     "text": [
      "Cloning into 'Stats_Python'...\n",
      "remote: Counting objects: 34, done.\u001b[K\n",
      "remote: Total 34 (delta 0), reused 0 (delta 0), pack-reused 34\u001b[K\n",
      "Unpacking objects: 100% (34/34), done.\n"
     ]
    }
   ],
   "source": [
    "!git clone https://github.com/jgarciab/Stats_Python.git"
   ]
  },
  {
   "cell_type": "code",
   "execution_count": null,
   "metadata": {
    "collapsed": true
   },
   "outputs": [],
   "source": [
    "# Working with data 2017. Class 3\n",
    "## Contact\n",
    "Javier Garcia-Bernardo\n",
    "garcia@uva.nl\n",
    "\n",
    "\n",
    "## 0. Structure\n",
    "1. Regression / mixed models\n",
    "2. LAPOP data (http://www.vanderbilt.edu/lapop/survey-data.php)\n",
    "3. CSES data (http://www.cses.org/datacenter/module4/module4.htm)\n",
    "4. COMTRADE data (https://comtrade.un.org/data/)\n",
    "5. Economic data (http://orbis.bvdinfo.com/ip/)\n",
    "5. Others (EU Social survey, Afrobarometer, http://www.paulhensel.org/compendium.html)\n",
    "6. Plotting according to similarity / dendogram \n",
    "7. Inkscape\n",
    "\n",
    "Assignment:\n",
    "- HW_3 (deadline Monday): Download LAPOP data, tidy, merge, fix missing values, plot and regression\n",
    "\n",
    "    \n",
    "    Compare many groups\n",
    "Limited dependent variable\n",
    "Fitting distributions\n",
    "* Stats recap I: Normality assumptions / t-test / Correlations / Anova / Non-parametric methods / Regression / Mixed models: 2 hours\n",
    "Network analysus\n",
    "* Correlation plots, heatmaps and autocorrelation: 0.5 hours"
   ]
  },
  {
   "cell_type": "code",
   "execution_count": null,
   "metadata": {
    "collapsed": true
   },
   "outputs": [],
   "source": []
  },
  {
   "cell_type": "code",
   "execution_count": null,
   "metadata": {
    "collapsed": true
   },
   "outputs": [],
   "source": [
    "df[\"q10new\"] = df[\"q10new\"].apply(d_cat2salary.get)\n",
    "neg = df.loc[df[\"colpaz1a\"]==\"Negociación\",\"q10new\"].values\n",
    "mil = df.loc[df[\"colpaz1a\"]==\"Uso de la fuerza militar\",\"q10new\"].values\n",
    "d_cat2salary = {\"nan\": np.NaN,\n",
    " 'Entre 420.001 \\x96 480.000':420,\n",
    " 'Entre 540.001 \\x96 590.000': 540,\n",
    " 'Más de 3.200.000':3200,\n",
    " 'Entre 250.001 \\x96 340.000':250,\n",
    " 'Entre 1.100.001 \\x96 1.400.000':1100,\n",
    " 'Entre 720.001 \\x96 810.000':720,\n",
    " 'Entre 160.000 \\x96 250.000':160,\n",
    " 'Entre 1.900.001 \\x96 3.200.000':1900,\n",
    " 'Entre 960.001 \\x96 1.100.000':960,\n",
    " 'Entre 480.001 \\x96 540.000':480,\n",
    " 'Entre 810.001 \\x96 960.000':810,\n",
    " 'Entre 340.001 \\x96 420.000':340,\n",
    " 'Menos de 160.000':80,\n",
    " 'Entre 590.001 \\x96 650.000':590,\n",
    " 'Entre 650.001 \\x96 720.000':650,\n",
    " 'Entre 1.400.001 \\x96 1.900.000':1400,\n",
    " 'Ningún ingreso':0}"
   ]
  },
  {
   "cell_type": "code",
   "execution_count": null,
   "metadata": {
    "collapsed": true
   },
   "outputs": [],
   "source": [
    "ttest_ind(neg[np.isfinite(neg)],mil[np.isfinite(mil)])"
   ]
  },
  {
   "cell_type": "code",
   "execution_count": null,
   "metadata": {
    "collapsed": true
   },
   "outputs": [],
   "source": [
    "n = np.log10(neg[np.isfinite(neg)])\n",
    "m = np.log10(mil[np.isfinite(mil)])"
   ]
  },
  {
   "cell_type": "code",
   "execution_count": null,
   "metadata": {
    "collapsed": true
   },
   "outputs": [],
   "source": [
    "np.mean(neg[np.isfinite(neg)]),np.mean(mil[np.isfinite(mil)])"
   ]
  },
  {
   "cell_type": "code",
   "execution_count": null,
   "metadata": {
    "collapsed": true
   },
   "outputs": [],
   "source": [
    "plt.histogram(n[np.isfinite(n)])\n"
   ]
  },
  {
   "cell_type": "code",
   "execution_count": null,
   "metadata": {
    "collapsed": true
   },
   "outputs": [],
   "source": [
    "plt.histogram(m[np.isfinite(m)])"
   ]
  },
  {
   "cell_type": "code",
   "execution_count": null,
   "metadata": {
    "collapsed": true
   },
   "outputs": [],
   "source": [
    "ttest_ind(n[np.isfinite(n)],m[np.isfinite(m)])"
   ]
  },
  {
   "cell_type": "code",
   "execution_count": null,
   "metadata": {
    "collapsed": true
   },
   "outputs": [],
   "source": [
    "## 1. Independence between variables using contingency tables:\n",
    "`In statistics, a contingency table (also known as a cross tabulation or crosstab) is a type of table in a matrix format that displays the (multivariate) frequency distribution of the variables. They are heavily used in survey research, business intelligence, engineering and scientific research. They provide a basic picture of the interrelation between two variables and can help find interactions between them.`\n",
    "- Visualize interaction between **categorical data**\n",
    "- We can use the $\\chi^2$ (chi-square) test to see if the interactions are significant."
   ]
  },
  {
   "cell_type": "code",
   "execution_count": null,
   "metadata": {
    "collapsed": true
   },
   "outputs": [],
   "source": [
    "#chi2,p,dof,expected \n",
    "d = chi2_contingency(df)"
   ]
  },
  {
   "cell_type": "code",
   "execution_count": null,
   "metadata": {
    "collapsed": true
   },
   "outputs": [],
   "source": [
    "%load_ext rpy2.ipython"
   ]
  },
  {
   "cell_type": "code",
   "execution_count": null,
   "metadata": {
    "collapsed": true
   },
   "outputs": [],
   "source": [
    "%load_ext rpy2.ipython\n",
    "%%R -i df \n",
    "fisher.test(df)"
   ]
  },
  {
   "cell_type": "code",
   "execution_count": null,
   "metadata": {
    "collapsed": true
   },
   "outputs": [],
   "source": [
    "\n",
    "Compare 2 independent samples\n",
    "Each observation of the dependent variable is independent of the other observations of the dependent variable (its probability distribution isn't affected by their values). Exception: For the paired t-test, we only require that the pair-differences (Ai - Bi) be independent from each other (across i). [Note: \"independent\" and \"dependent\" are used in two different senses here. Just think of a \"dependent variable\" as one thing, and \"observations that are dependent\" as another thing.]\n",
    "Dependent variable has a normal distribution, with the same variance, σ2, in each group (as though the distribution for group A were merely shifted over to become the distribution for group B, without changing shape):"
   ]
  },
  {
   "cell_type": "code",
   "execution_count": null,
   "metadata": {
    "collapsed": true
   },
   "outputs": [],
   "source": [
    "\n",
    "\n",
    "    x = [np.random.randn() for _ in range(200)]\n",
    "    y = [np.random.randn()+0.6 for _ in range(200)]\n",
    "    ax = plt.subplot(1,1,1)\n",
    "    ax.hist(x,bins=np.linspace(np.min(x+y),np.max(x+y),25),alpha=0.3,histtype='stepfilled')\n",
    "    ax.hist(y,bins=np.linspace(np.min(x+y),np.max(x+y),25),alpha=0.3,histtype='stepfilled')\n",
    "    ax.set_xlabel('Value',size=20)\n",
    "    ax.set_ylabel('Freq',size=20)\n",
    "    customaxis(ax, c_left='k', c_bottom='k', c_right='none', c_top='none', lw=2, size=20, pad=8)\n",
    "    plt.show()\n",
    "    \n",
    "\n"
   ]
  },
  {
   "cell_type": "code",
   "execution_count": null,
   "metadata": {
    "collapsed": true
   },
   "outputs": [],
   "source": []
  },
  {
   "cell_type": "code",
   "execution_count": null,
   "metadata": {
    "collapsed": true
   },
   "outputs": [],
   "source": []
  },
  {
   "cell_type": "code",
   "execution_count": null,
   "metadata": {
    "collapsed": true
   },
   "outputs": [],
   "source": []
  }
 ],
 "metadata": {
  "anaconda-cloud": {},
  "kernelspec": {
   "display_name": "Python [default]",
   "language": "python",
   "name": "python3"
  },
  "language_info": {
   "codemirror_mode": {
    "name": "ipython",
    "version": 3
   },
   "file_extension": ".py",
   "mimetype": "text/x-python",
   "name": "python",
   "nbconvert_exporter": "python",
   "pygments_lexer": "ipython3",
   "version": "3.5.2"
  }
 },
 "nbformat": 4,
 "nbformat_minor": 1
}
