{
 "cells": [
  {
   "cell_type": "code",
   "execution_count": null,
   "metadata": {
    "collapsed": true
   },
   "outputs": [],
   "source": [
    "Pandas IV: Operations with text: 0.5 hours\n",
    "Regular expression: 1 hour\n",
    "OCR (pdf reading): 0.5 hours (http://www.onlineocr.net/)\n",
    "    \n",
    "Words -> Numbers: using LexisNexis (or manifesto)\n",
    "     ^ Word counting\n",
    "     ^ Classifying text into categories\n",
    "        - We give the words: 1 hour\n",
    "        - We give some already classified data: 1 hour\n",
    "        - We give nothing (0.1667 hours overview)\n",
    "     \n",
    "     ^ Sentiment analysis: 0.5 hours\n",
    "\n",
    "Assignment: \n",
    "-HW_4 (deadline Friday): Download news, count wording, classify into two topics and plot over time"
   ]
  },
  {
   "cell_type": "code",
   "execution_count": 66,
   "metadata": {
    "collapsed": true
   },
   "outputs": [],
   "source": [
    "from sklearn import datasets, linear_model\n",
    "http://scikit-learn.org/stable/modules/cross_validation.html"
   ]
  },
  {
   "cell_type": "code",
   "execution_count": 67,
   "metadata": {
    "collapsed": true
   },
   "outputs": [],
   "source": [
    "linear_model.LinearRegression?"
   ]
  },
  {
   "cell_type": "code",
   "execution_count": null,
   "metadata": {
    "collapsed": false
   },
   "outputs": [],
   "source": [
    "# Working with data 2017. Class 3\n",
    "## Contact\n",
    "Javier Garcia-Bernardo\n",
    "garcia@uva.nl\n",
    "\n",
    "\n",
    "## 0. Structure\n",
    "1. Regression / mixed models\n",
    "2. LAPOP data (http://www.vanderbilt.edu/lapop/survey-data.php)\n",
    "3. CSES data (http://www.cses.org/datacenter/module4/module4.htm)\n",
    "4. COMTRADE data (https://comtrade.un.org/data/)\n",
    "5. Economic data (http://orbis.bvdinfo.com/ip/)\n",
    "5. Others (EU Social survey, Afrobarometer, http://www.paulhensel.org/compendium.html)\n",
    "6. Plotting according to similarity / dendogram \n",
    "7. Inkscape\n",
    "\n",
    "Assignment:\n",
    "- HW_3 (deadline Monday): Download LAPOP data, tidy, merge, fix missing values, plot and regression\n",
    "\n",
    "    \n",
    "    Compare many groups\n",
    "Limited dependent variable\n",
    "Fitting distributions\n",
    "* Stats recap I: Normality assumptions / t-test / Correlations / Anova / Non-parametric methods / Regression / Mixed models: 2 hours\n",
    "Network analysus\n",
    "* Correlation plots, heatmaps and autocorrelation: 0.5 hours"
   ]
  },
  {
   "cell_type": "code",
   "execution_count": 4,
   "metadata": {
    "collapsed": false
   },
   "outputs": [
    {
     "name": "stderr",
     "output_type": "stream",
     "text": [
      "/opt/anaconda/anaconda3/lib/python3.5/site-packages/bs4/__init__.py:181: UserWarning: No parser was explicitly specified, so I'm using the best available HTML parser for this system (\"lxml\"). This usually isn't a problem, but if you run this code on another system, or in a different virtual environment, it may use a different parser and behave differently.\n",
      "\n",
      "The code that caused this warning is on line 184 of the file /opt/anaconda/anaconda3/lib/python3.5/runpy.py. To get rid of this warning, change code that looks like this:\n",
      "\n",
      " BeautifulSoup([your markup])\n",
      "\n",
      "to this:\n",
      "\n",
      " BeautifulSoup([your markup], \"lxml\")\n",
      "\n",
      "  markup_type=markup_type))\n"
     ]
    }
   ],
   "source": []
  },
  {
   "cell_type": "code",
   "execution_count": null,
   "metadata": {
    "collapsed": true
   },
   "outputs": [],
   "source": []
  },
  {
   "cell_type": "code",
   "execution_count": 21,
   "metadata": {
    "collapsed": false
   },
   "outputs": [],
   "source": []
  },
  {
   "cell_type": "code",
   "execution_count": 50,
   "metadata": {
    "collapsed": true
   },
   "outputs": [],
   "source": []
  },
  {
   "cell_type": "code",
   "execution_count": 64,
   "metadata": {
    "collapsed": false
   },
   "outputs": [
    {
     "data": {
      "text/plain": [
       "[-9098788.74873477, -470925.801417778, -7441952.86242454, 1504357.43158095]"
      ]
     },
     "execution_count": 64,
     "metadata": {},
     "output_type": "execute_result"
    }
   ],
   "source": []
  },
  {
   "cell_type": "code",
   "execution_count": 65,
   "metadata": {
    "collapsed": false
   },
   "outputs": [
    {
     "name": "stdout",
     "output_type": "stream",
     "text": [
      "[91, 'Amazonas', 200, 102995]\n",
      "[5, 'Antioquia', 13718, 102995]\n",
      "[81, 'Arauca', 632, 102995]\n",
      "[8, 'Atlántico', 9137, 102995]\n",
      "[13, 'Bolívar', 4016, 102995]\n",
      "[15, 'Boyacá', 2012, 102995]\n",
      "[17, 'Caldas', 2572, 102995]\n",
      "[18, 'Caquetá', 1016, 102995]\n",
      "[85, 'Casanare', 160, 102995]\n",
      "[19, 'Cauca', 2854, 102995]\n",
      "[20, 'Cesar', 3900, 102995]\n",
      "[27, 'Chocó', 2099, 102995]\n",
      "[23, 'Córdoba', 6070, 102995]\n",
      "[25, 'Cundinamarca', 4162, 102995]\n",
      "[94, 'Guainía', 244, 102995]\n",
      "[95, 'Guaviare', 182, 102995]\n",
      "[41, 'Huila', 3469, 102995]\n",
      "[44, 'La Guajira', 2954, 102995]\n",
      "[47, 'Magdalena', 5514, 102995]\n",
      "[50, 'Meta', 1598, 102995]\n",
      "[52, 'Nariño', 4344, 102995]\n",
      "[54, 'Norte de Santander', 4344, 102995]\n",
      "[86, 'Putumayo', 692, 102995]\n",
      "[63, 'Quindío', 465, 102995]\n",
      "[66, 'Risaralda', 2170, 102995]\n",
      "[999, 'San Andrés y Providencia', 174, 102995]\n",
      "[68, 'Santander', 4046, 102995]\n",
      "[70, 'Sucre', 4068, 102995]\n",
      "[73, 'Tolima', 2205, 102995]\n",
      "[76, 'Valle del Cauca', 8941, 102995]\n",
      "[97, 'Vaupés', 0, 102995]\n",
      "[99, 'Vichada', 200, 102995]\n"
     ]
    },
    {
     "ename": "ValueError",
     "evalue": "llcrnrlon must be between -360.000000 and 720.000000 degrees",
     "output_type": "error",
     "traceback": [
      "\u001b[0;31m---------------------------------------------------------------------------\u001b[0m",
      "\u001b[0;31mValueError\u001b[0m                                Traceback (most recent call last)",
      "\u001b[0;32m<ipython-input-65-838c75a6051d>\u001b[0m in \u001b[0;36m<module>\u001b[0;34m()\u001b[0m\n\u001b[1;32m     10\u001b[0m \u001b[0;34m\u001b[0m\u001b[0m\n\u001b[1;32m     11\u001b[0m map = Basemap(llcrnrlon=sf.bbox[0],llcrnrlat=sf.bbox[1],urcrnrlon=sf.bbox[2],urcrnrlat=sf.bbox[3],\n\u001b[0;32m---> 12\u001b[0;31m      resolution='i', projection='tmerc', lat_0 = 39.5, lon_0 = 1)\n\u001b[0m\u001b[1;32m     13\u001b[0m \u001b[0;34m\u001b[0m\u001b[0m\n\u001b[1;32m     14\u001b[0m \u001b[0mmap\u001b[0m\u001b[0;34m.\u001b[0m\u001b[0mdrawmapboundary\u001b[0m\u001b[0;34m(\u001b[0m\u001b[0mfill_color\u001b[0m\u001b[0;34m=\u001b[0m\u001b[0;34m'aqua'\u001b[0m\u001b[0;34m)\u001b[0m\u001b[0;34m\u001b[0m\u001b[0m\n",
      "\u001b[0;32m/opt/anaconda/anaconda3/lib/python3.5/site-packages/mpl_toolkits/basemap/__init__.py\u001b[0m in \u001b[0;36m__init__\u001b[0;34m(self, llcrnrlon, llcrnrlat, urcrnrlon, urcrnrlat, llcrnrx, llcrnry, urcrnrx, urcrnry, width, height, projection, resolution, area_thresh, rsphere, ellps, lat_ts, lat_1, lat_2, lat_0, lon_0, lon_1, lon_2, o_lon_p, o_lat_p, k_0, no_rot, suppress_ticks, satellite_height, boundinglat, fix_aspect, anchor, celestial, round, epsg, ax)\u001b[0m\n\u001b[1;32m    691\u001b[0m         \u001b[0mlon_1\u001b[0m \u001b[0;34m=\u001b[0m \u001b[0m_validated_or_none\u001b[0m\u001b[0;34m(\u001b[0m\u001b[0mlon_1\u001b[0m\u001b[0;34m,\u001b[0m \u001b[0;34m'lon_1'\u001b[0m\u001b[0;34m,\u001b[0m \u001b[0;34m-\u001b[0m\u001b[0;36m360\u001b[0m\u001b[0;34m,\u001b[0m \u001b[0;36m720\u001b[0m\u001b[0;34m)\u001b[0m\u001b[0;34m\u001b[0m\u001b[0m\n\u001b[1;32m    692\u001b[0m         \u001b[0mlon_2\u001b[0m \u001b[0;34m=\u001b[0m \u001b[0m_validated_or_none\u001b[0m\u001b[0;34m(\u001b[0m\u001b[0mlon_2\u001b[0m\u001b[0;34m,\u001b[0m \u001b[0;34m'lon_2'\u001b[0m\u001b[0;34m,\u001b[0m \u001b[0;34m-\u001b[0m\u001b[0;36m360\u001b[0m\u001b[0;34m,\u001b[0m \u001b[0;36m720\u001b[0m\u001b[0;34m)\u001b[0m\u001b[0;34m\u001b[0m\u001b[0m\n\u001b[0;32m--> 693\u001b[0;31m         \u001b[0mllcrnrlon\u001b[0m \u001b[0;34m=\u001b[0m \u001b[0m_validated_or_none\u001b[0m\u001b[0;34m(\u001b[0m\u001b[0mllcrnrlon\u001b[0m\u001b[0;34m,\u001b[0m \u001b[0;34m'llcrnrlon'\u001b[0m\u001b[0;34m,\u001b[0m \u001b[0;34m-\u001b[0m\u001b[0;36m360\u001b[0m\u001b[0;34m,\u001b[0m \u001b[0;36m720\u001b[0m\u001b[0;34m)\u001b[0m\u001b[0;34m\u001b[0m\u001b[0m\n\u001b[0m\u001b[1;32m    694\u001b[0m         \u001b[0murcrnrlon\u001b[0m \u001b[0;34m=\u001b[0m \u001b[0m_validated_or_none\u001b[0m\u001b[0;34m(\u001b[0m\u001b[0murcrnrlon\u001b[0m\u001b[0;34m,\u001b[0m \u001b[0;34m'urcrnrlon'\u001b[0m\u001b[0;34m,\u001b[0m \u001b[0;34m-\u001b[0m\u001b[0;36m360\u001b[0m\u001b[0;34m,\u001b[0m \u001b[0;36m720\u001b[0m\u001b[0;34m)\u001b[0m\u001b[0;34m\u001b[0m\u001b[0m\n\u001b[1;32m    695\u001b[0m         \u001b[0mllcrnrlat\u001b[0m \u001b[0;34m=\u001b[0m \u001b[0m_validated_or_none\u001b[0m\u001b[0;34m(\u001b[0m\u001b[0mllcrnrlat\u001b[0m\u001b[0;34m,\u001b[0m \u001b[0;34m'llcrnrlat'\u001b[0m\u001b[0;34m,\u001b[0m \u001b[0;34m-\u001b[0m\u001b[0;36m90\u001b[0m\u001b[0;34m,\u001b[0m \u001b[0;36m90\u001b[0m\u001b[0;34m)\u001b[0m\u001b[0;34m\u001b[0m\u001b[0m\n",
      "\u001b[0;32m/opt/anaconda/anaconda3/lib/python3.5/site-packages/mpl_toolkits/basemap/__init__.py\u001b[0m in \u001b[0;36m_validated_or_none\u001b[0;34m(param, name, minval, maxval)\u001b[0m\n\u001b[1;32m    513\u001b[0m     \u001b[0;32mif\u001b[0m \u001b[0mparam\u001b[0m \u001b[0;32mis\u001b[0m \u001b[0;32mNone\u001b[0m\u001b[0;34m:\u001b[0m\u001b[0;34m\u001b[0m\u001b[0m\n\u001b[1;32m    514\u001b[0m         \u001b[0;32mreturn\u001b[0m \u001b[0;32mNone\u001b[0m\u001b[0;34m\u001b[0m\u001b[0m\n\u001b[0;32m--> 515\u001b[0;31m     \u001b[0;32mreturn\u001b[0m \u001b[0m_validated_ll\u001b[0m\u001b[0;34m(\u001b[0m\u001b[0mparam\u001b[0m\u001b[0;34m,\u001b[0m \u001b[0mname\u001b[0m\u001b[0;34m,\u001b[0m \u001b[0mminval\u001b[0m\u001b[0;34m,\u001b[0m \u001b[0mmaxval\u001b[0m\u001b[0;34m)\u001b[0m\u001b[0;34m\u001b[0m\u001b[0m\n\u001b[0m\u001b[1;32m    516\u001b[0m \u001b[0;34m\u001b[0m\u001b[0m\n\u001b[1;32m    517\u001b[0m \u001b[0;34m\u001b[0m\u001b[0m\n",
      "\u001b[0;32m/opt/anaconda/anaconda3/lib/python3.5/site-packages/mpl_toolkits/basemap/__init__.py\u001b[0m in \u001b[0;36m_validated_ll\u001b[0;34m(param, name, minval, maxval)\u001b[0m\n\u001b[1;32m    506\u001b[0m     \u001b[0;32mif\u001b[0m \u001b[0mparam\u001b[0m \u001b[0;34m>\u001b[0m \u001b[0mmaxval\u001b[0m \u001b[0;32mor\u001b[0m \u001b[0mparam\u001b[0m \u001b[0;34m<\u001b[0m \u001b[0mminval\u001b[0m\u001b[0;34m:\u001b[0m\u001b[0;34m\u001b[0m\u001b[0m\n\u001b[1;32m    507\u001b[0m         raise ValueError('%s must be between %f and %f degrees' %\n\u001b[0;32m--> 508\u001b[0;31m                                            (name, minval, maxval))\n\u001b[0m\u001b[1;32m    509\u001b[0m     \u001b[0;32mreturn\u001b[0m \u001b[0mparam\u001b[0m\u001b[0;34m\u001b[0m\u001b[0m\n\u001b[1;32m    510\u001b[0m \u001b[0;34m\u001b[0m\u001b[0m\n",
      "\u001b[0;31mValueError\u001b[0m: llcrnrlon must be between -360.000000 and 720.000000 degrees"
     ]
    },
    {
     "data": {
      "image/png": "[encoded data removed]",
      "text/plain": [
       "<matplotlib.figure.Figure at 0x7fdffe50e978>"
      ]
     },
     "metadata": {},
     "output_type": "display_data"
    }
   ],
   "source": []
  },
  {
   "cell_type": "code",
   "execution_count": 19,
   "metadata": {
    "collapsed": false
   },
   "outputs": [],
   "source": [
    "from mpl_toolkits.basemap import Basemap\n",
    "import matplotlib.pyplot as plt"
   ]
  },
  {
   "cell_type": "code",
   "execution_count": null,
   "metadata": {
    "collapsed": true
   },
   "outputs": [],
   "source": []
  },
  {
   "cell_type": "code",
   "execution_count": 27,
   "metadata": {
    "collapsed": false
   },
   "outputs": [
    {
     "ename": "ValueError",
     "evalue": "shapefile must have lat/lon vertices  - it looks like this one has vertices\nin map projection coordinates. You can convert the shapefile to geographic\ncoordinates using the shpproj utility from the shapelib tools\n(http://shapelib.maptools.org/shapelib-tools.html)",
     "output_type": "error",
     "traceback": [
      "\u001b[0;31m---------------------------------------------------------------------------\u001b[0m",
      "\u001b[0;31mValueError\u001b[0m                                Traceback (most recent call last)",
      "\u001b[0;32m<ipython-input-27-4dc36087b7c3>\u001b[0m in \u001b[0;36m<module>\u001b[0;34m()\u001b[0m\n\u001b[1;32m      3\u001b[0m             urcrnrlon=180. ,urcrnrlat=80.)\n\u001b[1;32m      4\u001b[0m \u001b[0;31m# read the shapefile archive\u001b[0m\u001b[0;34m\u001b[0m\u001b[0;34m\u001b[0m\u001b[0m\n\u001b[0;32m----> 5\u001b[0;31m \u001b[0ms\u001b[0m \u001b[0;34m=\u001b[0m \u001b[0mm\u001b[0m\u001b[0;34m.\u001b[0m\u001b[0mreadshapefile\u001b[0m\u001b[0;34m(\u001b[0m\u001b[0;34m'data/Departamentos'\u001b[0m\u001b[0;34m,\u001b[0m\u001b[0;34m'depart'\u001b[0m\u001b[0;34m)\u001b[0m\u001b[0;34m\u001b[0m\u001b[0m\n\u001b[0m\u001b[1;32m      6\u001b[0m \u001b[0ms\u001b[0m\u001b[0;34m\u001b[0m\u001b[0m\n",
      "\u001b[0;32m/opt/anaconda/anaconda3/lib/python3.5/site-packages/mpl_toolkits/basemap/__init__.py\u001b[0m in \u001b[0;36mreadshapefile\u001b[0;34m(self, shapefile, name, drawbounds, zorder, linewidth, color, antialiased, ax, default_encoding)\u001b[0m\n\u001b[1;32m   2174\u001b[0m                     \u001b[0mlons\u001b[0m\u001b[0;34m,\u001b[0m \u001b[0mlats\u001b[0m \u001b[0;34m=\u001b[0m \u001b[0mlist\u001b[0m\u001b[0;34m(\u001b[0m\u001b[0mzip\u001b[0m\u001b[0;34m(\u001b[0m\u001b[0;34m*\u001b[0m\u001b[0mverts\u001b[0m\u001b[0;34m[\u001b[0m\u001b[0mindx1\u001b[0m\u001b[0;34m:\u001b[0m\u001b[0mindx2\u001b[0m\u001b[0;34m]\u001b[0m\u001b[0;34m)\u001b[0m\u001b[0;34m)\u001b[0m\u001b[0;34m\u001b[0m\u001b[0m\n\u001b[1;32m   2175\u001b[0m                     \u001b[0;32mif\u001b[0m \u001b[0mmax\u001b[0m\u001b[0;34m(\u001b[0m\u001b[0mlons\u001b[0m\u001b[0;34m)\u001b[0m \u001b[0;34m>\u001b[0m \u001b[0;36m721.\u001b[0m \u001b[0;32mor\u001b[0m \u001b[0mmin\u001b[0m\u001b[0;34m(\u001b[0m\u001b[0mlons\u001b[0m\u001b[0;34m)\u001b[0m \u001b[0;34m<\u001b[0m \u001b[0;34m-\u001b[0m\u001b[0;36m721.\u001b[0m \u001b[0;32mor\u001b[0m \u001b[0mmax\u001b[0m\u001b[0;34m(\u001b[0m\u001b[0mlats\u001b[0m\u001b[0;34m)\u001b[0m \u001b[0;34m>\u001b[0m \u001b[0;36m90.01\u001b[0m \u001b[0;32mor\u001b[0m \u001b[0mmin\u001b[0m\u001b[0;34m(\u001b[0m\u001b[0mlats\u001b[0m\u001b[0;34m)\u001b[0m \u001b[0;34m<\u001b[0m \u001b[0;34m-\u001b[0m\u001b[0;36m90.01\u001b[0m\u001b[0;34m:\u001b[0m\u001b[0;34m\u001b[0m\u001b[0m\n\u001b[0;32m-> 2176\u001b[0;31m                         \u001b[0;32mraise\u001b[0m \u001b[0mValueError\u001b[0m\u001b[0;34m(\u001b[0m\u001b[0mmsg\u001b[0m\u001b[0;34m)\u001b[0m\u001b[0;34m\u001b[0m\u001b[0m\n\u001b[0m\u001b[1;32m   2177\u001b[0m                     \u001b[0;31m# if latitude is slightly greater than 90, truncate to 90\u001b[0m\u001b[0;34m\u001b[0m\u001b[0;34m\u001b[0m\u001b[0m\n\u001b[1;32m   2178\u001b[0m                     \u001b[0mlats\u001b[0m \u001b[0;34m=\u001b[0m \u001b[0;34m[\u001b[0m\u001b[0mmax\u001b[0m\u001b[0;34m(\u001b[0m\u001b[0mmin\u001b[0m\u001b[0;34m(\u001b[0m\u001b[0mlat\u001b[0m\u001b[0;34m,\u001b[0m \u001b[0;36m90.0\u001b[0m\u001b[0;34m)\u001b[0m\u001b[0;34m,\u001b[0m \u001b[0;34m-\u001b[0m\u001b[0;36m90.0\u001b[0m\u001b[0;34m)\u001b[0m \u001b[0;32mfor\u001b[0m \u001b[0mlat\u001b[0m \u001b[0;32min\u001b[0m \u001b[0mlats\u001b[0m\u001b[0;34m]\u001b[0m\u001b[0;34m\u001b[0m\u001b[0m\n",
      "\u001b[0;31mValueError\u001b[0m: shapefile must have lat/lon vertices  - it looks like this one has vertices\nin map projection coordinates. You can convert the shapefile to geographic\ncoordinates using the shpproj utility from the shapelib tools\n(http://shapelib.maptools.org/shapelib-tools.html)"
     ]
    }
   ],
   "source": []
  },
  {
   "cell_type": "code",
   "execution_count": 25,
   "metadata": {
    "collapsed": false
   },
   "outputs": [],
   "source": [
    "m.readshapefile?"
   ]
  }
 ],
 "metadata": {
  "anaconda-cloud": {},
  "kernelspec": {
   "display_name": "Python [conda root]",
   "language": "python",
   "name": "conda-root-py"
  },
  "language_info": {
   "codemirror_mode": {
    "name": "ipython",
    "version": 3
   },
   "file_extension": ".py",
   "mimetype": "text/x-python",
   "name": "python",
   "nbconvert_exporter": "python",
   "pygments_lexer": "ipython3",
   "version": "3.5.2"
  }
 },
 "nbformat": 4,
 "nbformat_minor": 1
}
