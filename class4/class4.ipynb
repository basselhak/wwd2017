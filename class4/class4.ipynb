{
 "cells": [
  {
   "cell_type": "code",
   "execution_count": null,
   "metadata": {
    "collapsed": true
   },
   "outputs": [],
   "source": [
    "# Working with data 2017. Class 3\n",
    "## Contact\n",
    "Javier Garcia-Bernardo\n",
    "garcia@uva.nl\n",
    "\n",
    "\n",
    "## 0. Structure\n",
    "1. Regression / mixed models\n",
    "2. LAPOP data (http://www.vanderbilt.edu/lapop/survey-data.php)\n",
    "3. CSES data (http://www.cses.org/datacenter/module4/module4.htm)\n",
    "4. COMTRADE data (https://comtrade.un.org/data/)\n",
    "5. Economic data (http://orbis.bvdinfo.com/ip/)\n",
    "5. Others (EU Social survey, Afrobarometer, http://www.paulhensel.org/compendium.html)\n",
    "6. Plotting according to similarity / dendogram \n",
    "7. Inkscape\n",
    "\n",
    "Assignment:\n",
    "- HW_3 (deadline Monday): Download LAPOP data, tidy, merge, fix missing values, plot and regression\n"
   ]
  },
  {
   "cell_type": "code",
   "execution_count": null,
   "metadata": {
    "collapsed": true
   },
   "outputs": [],
   "source": []
  },
  {
   "cell_type": "code",
   "execution_count": null,
   "metadata": {
    "collapsed": true
   },
   "outputs": [],
   "source": [
    "\n",
    "sns.barplot(x=\"Year\",y=\"UNEMP_R\",hue=\"C\",data=south,edgecolor=\"none\",errcolor=\"none\")#,palette=\"Set3\")\n",
    "#More: http://seaborn.pydata.org/generated/seaborn.factorplot.html\n",
    "\n",
    "n_countries = 6\n",
    "i = 0\n",
    "for year, frame in south.groupby(\"Year\"):\n",
    "    j = 0\n",
    "    i += 1\n",
    "    for country,subframe in frame.groupby(\"C\"):\n",
    "        \n",
    "        j += 1\n",
    "        \n",
    "        mean_unemp = np.mean(subframe[\"UNEMP_R\"])\n",
    "        \n",
    "    \n",
    "        plt.bar(i*(n_countries+1)+j-2,height = mean_unemp,width=1,edgecolor=\"white\",alpha=0.8)\n",
    "    \n",
    "\n",
    "plt.xticks(range(8,7*(i+1),7),range(2000,2000+i))\n",
    "plt.xlim(5,7*(i+1))\n",
    "plt.show()\n",
    "\n",
    "n_countries = 6\n",
    "i = 0\n",
    "for year, frame in south.groupby(\"Year\"):    \n",
    "    i += 1\n",
    "    acc = 0\n",
    "    for country,subframe in frame.groupby(\"C\"):\n",
    "        mean_unemp = np.mean(subframe[\"UNEMP_R\"])        \n",
    "    \n",
    "        plt.bar(i,height = mean_unemp,bottom=acc,width=0.8,edgecolor=\"white\",alpha=0.8)\n",
    "        acc += mean_unemp\n",
    "\n",
    "plt.xticks(0.5+np.arange(i),range(2000,2000+i))\n",
    "plt.xlim(1,i)\n",
    "plt.show()"
   ]
  },
  {
   "cell_type": "code",
   "execution_count": null,
   "metadata": {
    "collapsed": true
   },
   "outputs": [],
   "source": []
  }
 ],
 "metadata": {
  "anaconda-cloud": {},
  "kernelspec": {
   "display_name": "Python [conda root]",
   "language": "python",
   "name": "conda-root-py"
  },
  "language_info": {
   "codemirror_mode": {
    "name": "ipython",
    "version": 3
   },
   "file_extension": ".py",
   "mimetype": "text/x-python",
   "name": "python",
   "nbconvert_exporter": "python",
   "pygments_lexer": "ipython3",
   "version": "3.5.2"
  }
 },
 "nbformat": 4,
 "nbformat_minor": 1
}
