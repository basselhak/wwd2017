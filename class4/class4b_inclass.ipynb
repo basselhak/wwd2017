{
 "cells": [
  {
   "cell_type": "markdown",
   "metadata": {
    "collapsed": true
   },
   "source": [
    "# Working with data 2017. Class 3\n",
    "## Contact\n",
    "Javier Garcia-Bernardo\n",
    "garcia@uva.nl\n",
    "\n",
    "## 0. Structure\n",
    "1. Stats\n",
    "    - Definitions\n",
    "    - What's a p-value?\n",
    "    - One-tailed test vs two-tailed test\n",
    "    - Count vs expected count (binomial test)\n",
    "    - Independence between factors: ($\\chi^2$ test)      \n",
    "2. In-class exercises to melt, pivot, concat, merge, groupby and plot.\n",
    "3. Read data from websited\n",
    "4. Time series          "
   ]
  },
  {
   "cell_type": "code",
   "execution_count": 1,
   "metadata": {
    "collapsed": false
   },
   "outputs": [
    {
     "data": {
      "text/html": [
       "<style>.container { width:90% !important; }</style>"
      ],
      "text/plain": [
       "<IPython.core.display.HTML object>"
      ]
     },
     "metadata": {},
     "output_type": "display_data"
    }
   ],
   "source": [
    "##Some code to run at the beginning of the file, to be able to show images in the notebook\n",
    "##Don't worry about this cell\n",
    "\n",
    "#Print the plots in this screen\n",
    "%matplotlib inline \n",
    "\n",
    "#Be able to plot images saved in the hard drive\n",
    "from IPython.display import Image \n",
    "\n",
    "#Make the notebook wider\n",
    "from IPython.core.display import display, HTML \n",
    "display(HTML(\"<style>.container { width:90% !important; }</style>\"))\n",
    "\n",
    "import seaborn as sns\n",
    "import pylab as plt\n",
    "import pandas as pd\n",
    "import numpy as np\n",
    "\n",
    "def read_our_csv():\n",
    "    #reading the raw data from oecd\n",
    "    df = pd.read_csv(\"../class2/data/CITIES_19122016195113034.csv\",sep=\"\\t\")\n",
    "\n",
    "    #fixing the columns (the first one is \"\"METRO_ID\"\" instead of \"METRO_ID\")\n",
    "    cols = list(df.columns)\n",
    "    cols[0] = \"METRO_ID\"\n",
    "    df.columns = cols\n",
    "    \n",
    "    #pivot the table\n",
    "    column_with_values = \"Value\"\n",
    "    column_to_split = [\"VAR\"]\n",
    "    variables_already_present = [\"METRO_ID\",\"Metropolitan areas\",\"Year\"]\n",
    "    df_fixed = df.pivot_table(column_with_values,\n",
    "                 variables_already_present,\n",
    "                 column_to_split).reset_index()\n",
    "    \n",
    "    return df_fixed\n",
    "    "
   ]
  },
  {
   "cell_type": "code",
   "execution_count": 2,
   "metadata": {
    "collapsed": false
   },
   "outputs": [
    {
     "data": {
      "text/html": [
       "<style>.container { width:90% !important; }</style>"
      ],
      "text/plain": [
       "<IPython.core.display.HTML object>"
      ]
     },
     "metadata": {},
     "output_type": "display_data"
    }
   ],
   "source": [
    "import pandas as pd\n",
    "import numpy as np\n",
    "import pylab as plt\n",
    "import seaborn as sns\n",
    "from scipy.stats import chi2_contingency,ttest_ind\n",
    "\n",
    "#This allows us to use R\n",
    "%load_ext rpy2.ipython\n",
    "\n",
    "#Visualize in line\n",
    "%matplotlib inline\n",
    "\n",
    "\n",
    "#Be able to plot images saved in the hard drive\n",
    "from IPython.display import Image,display\n",
    "\n",
    "#Make the notebook wider\n",
    "from IPython.core.display import display, HTML \n",
    "display(HTML(\"<style>.container { width:90% !important; }</style>\"))\n"
   ]
  },
  {
   "cell_type": "markdown",
   "metadata": {},
   "source": [
    "## 0. Mental note: Inkscape"
   ]
  },
  {
   "cell_type": "markdown",
   "metadata": {},
   "source": [
    "## 0. Mental note 2: Heatmap\n",
    "- Represent one quantitative variable as color, two qualitative (or binned quantitative) in the sides."
   ]
  },
  {
   "cell_type": "code",
   "execution_count": 3,
   "metadata": {
    "collapsed": false
   },
   "outputs": [
    {
     "data": {
      "text/html": [
       "<div>\n",
       "<table border=\"1\" class=\"dataframe\">\n",
       "  <thead>\n",
       "    <tr style=\"text-align: right;\">\n",
       "      <th></th>\n",
       "      <th>0</th>\n",
       "      <th>1</th>\n",
       "      <th>2</th>\n",
       "      <th>3</th>\n",
       "      <th>4</th>\n",
       "      <th>5</th>\n",
       "      <th>6</th>\n",
       "      <th>7</th>\n",
       "      <th>8</th>\n",
       "      <th>9</th>\n",
       "    </tr>\n",
       "  </thead>\n",
       "  <tbody>\n",
       "    <tr>\n",
       "      <th>0</th>\n",
       "      <td>0.792125</td>\n",
       "      <td>4.328658</td>\n",
       "      <td>9.011651</td>\n",
       "      <td>16.121389</td>\n",
       "      <td>18.150970</td>\n",
       "      <td>25.275589</td>\n",
       "      <td>40.135320</td>\n",
       "      <td>62.847962</td>\n",
       "      <td>65.262676</td>\n",
       "      <td>88.728721</td>\n",
       "    </tr>\n",
       "    <tr>\n",
       "      <th>1</th>\n",
       "      <td>1.555186</td>\n",
       "      <td>4.519362</td>\n",
       "      <td>10.829786</td>\n",
       "      <td>17.984566</td>\n",
       "      <td>33.347034</td>\n",
       "      <td>33.818201</td>\n",
       "      <td>53.992404</td>\n",
       "      <td>64.667989</td>\n",
       "      <td>74.147056</td>\n",
       "      <td>90.539389</td>\n",
       "    </tr>\n",
       "    <tr>\n",
       "      <th>2</th>\n",
       "      <td>2.147616</td>\n",
       "      <td>5.542409</td>\n",
       "      <td>12.883115</td>\n",
       "      <td>29.073379</td>\n",
       "      <td>33.405091</td>\n",
       "      <td>35.228187</td>\n",
       "      <td>57.395627</td>\n",
       "      <td>65.448382</td>\n",
       "      <td>74.892115</td>\n",
       "      <td>92.175600</td>\n",
       "    </tr>\n",
       "    <tr>\n",
       "      <th>3</th>\n",
       "      <td>4.570947</td>\n",
       "      <td>12.380003</td>\n",
       "      <td>23.304360</td>\n",
       "      <td>31.620259</td>\n",
       "      <td>41.491721</td>\n",
       "      <td>52.669751</td>\n",
       "      <td>61.816225</td>\n",
       "      <td>68.006430</td>\n",
       "      <td>77.918513</td>\n",
       "      <td>93.245446</td>\n",
       "    </tr>\n",
       "    <tr>\n",
       "      <th>4</th>\n",
       "      <td>4.682917</td>\n",
       "      <td>13.388454</td>\n",
       "      <td>28.881512</td>\n",
       "      <td>33.754225</td>\n",
       "      <td>41.969067</td>\n",
       "      <td>52.720898</td>\n",
       "      <td>62.035348</td>\n",
       "      <td>72.354987</td>\n",
       "      <td>80.207993</td>\n",
       "      <td>96.620716</td>\n",
       "    </tr>\n",
       "  </tbody>\n",
       "</table>\n",
       "</div>"
      ],
      "text/plain": [
       "          0          1          2          3          4          5          6  \\\n",
       "0  0.792125   4.328658   9.011651  16.121389  18.150970  25.275589  40.135320   \n",
       "1  1.555186   4.519362  10.829786  17.984566  33.347034  33.818201  53.992404   \n",
       "2  2.147616   5.542409  12.883115  29.073379  33.405091  35.228187  57.395627   \n",
       "3  4.570947  12.380003  23.304360  31.620259  41.491721  52.669751  61.816225   \n",
       "4  4.682917  13.388454  28.881512  33.754225  41.969067  52.720898  62.035348   \n",
       "\n",
       "           7          8          9  \n",
       "0  62.847962  65.262676  88.728721  \n",
       "1  64.667989  74.147056  90.539389  \n",
       "2  65.448382  74.892115  92.175600  \n",
       "3  68.006430  77.918513  93.245446  \n",
       "4  72.354987  80.207993  96.620716  "
      ]
     },
     "execution_count": 3,
     "metadata": {},
     "output_type": "execute_result"
    }
   ],
   "source": [
    "data = pd.read_csv(\"data/random.csv\",sep=\"\\t\",index_col=0)*100\n",
    "data.head()"
   ]
  },
  {
   "cell_type": "code",
   "execution_count": 24,
   "metadata": {
    "collapsed": false
   },
   "outputs": [
    {
     "data": {
      "image/png": "[encoded data removed]",
      "text/plain": [
       "<matplotlib.figure.Figure at 0x7f2eb6bc1f60>"
      ]
     },
     "metadata": {},
     "output_type": "display_data"
    }
   ],
   "source": [
    "sns.heatmap(data,cbar_kws={\"label\":\"Body temperature\"},cmap=\"YlOrRd\")\n",
    "plt.ylabel(\"Pizzas eaten\")\n",
    "plt.xlabel(\"Outside temperature\")\n",
    "plt.show()"
   ]
  },
  {
   "cell_type": "code",
   "execution_count": 25,
   "metadata": {
    "collapsed": false
   },
   "outputs": [
    {
     "data": {
      "image/png": "[encoded data removed]",
      "text/plain": [
       "<matplotlib.figure.Figure at 0x7f2eb7757828>"
      ]
     },
     "metadata": {},
     "output_type": "display_data"
    }
   ],
   "source": [
    "sns.heatmap(data,cbar_kws={\"label\":\"Body temperature\"},cmap=\"YlOrRd\")\n",
    "plt.ylabel(\"Pizzas eaten\")\n",
    "plt.xlabel(\"Outside temperature\")\n",
    "plt.xticks(range(10),[\"10-20\",\"20-30\",\"30-40\",\"40-50\",\"50-60\",\"60-70\",\"80-90\",\"90-100\",\"100-110\",\"110-120\"],rotation=90)\n",
    "plt.show()"
   ]
  },
  {
   "cell_type": "markdown",
   "metadata": {},
   "source": [
    "Conclusion: Pizzas make you lekker warm\n",
    "\n",
    "Lesson of the day: Eat more pizza"
   ]
  },
  {
   "cell_type": "markdown",
   "metadata": {},
   "source": [
    "## 1. In-class exercises\n"
   ]
  },
  {
   "cell_type": "markdown",
   "metadata": {},
   "source": [
    "## 1.1 Read the data from the world bank (inside class3 folder, then folder data, subfolder world_bank), and save it with name df\n"
   ]
  },
  {
   "cell_type": "code",
   "execution_count": 28,
   "metadata": {
    "collapsed": false
   },
   "outputs": [
    {
     "data": {
      "text/html": [
       "<div>\n",
       "<table border=\"1\" class=\"dataframe\">\n",
       "  <thead>\n",
       "    <tr style=\"text-align: right;\">\n",
       "      <th></th>\n",
       "      <th>Country Name</th>\n",
       "      <th>Country Code</th>\n",
       "      <th>Series Name</th>\n",
       "      <th>Series Code</th>\n",
       "      <th>1967 [YR1967]</th>\n",
       "      <th>1968 [YR1968]</th>\n",
       "      <th>1969 [YR1969]</th>\n",
       "      <th>1970 [YR1970]</th>\n",
       "      <th>1971 [YR1971]</th>\n",
       "      <th>1972 [YR1972]</th>\n",
       "      <th>...</th>\n",
       "      <th>2007 [YR2007]</th>\n",
       "      <th>2008 [YR2008]</th>\n",
       "      <th>2009 [YR2009]</th>\n",
       "      <th>2010 [YR2010]</th>\n",
       "      <th>2011 [YR2011]</th>\n",
       "      <th>2012 [YR2012]</th>\n",
       "      <th>2013 [YR2013]</th>\n",
       "      <th>2014 [YR2014]</th>\n",
       "      <th>2015 [YR2015]</th>\n",
       "      <th>2016 [YR2016]</th>\n",
       "    </tr>\n",
       "  </thead>\n",
       "  <tbody>\n",
       "    <tr>\n",
       "      <th>0</th>\n",
       "      <td>Netherlands</td>\n",
       "      <td>NLD</td>\n",
       "      <td>Health expenditure, private (% of GDP)</td>\n",
       "      <td>SH.XPD.PRIV.ZS</td>\n",
       "      <td>NaN</td>\n",
       "      <td>NaN</td>\n",
       "      <td>NaN</td>\n",
       "      <td>NaN</td>\n",
       "      <td>NaN</td>\n",
       "      <td>NaN</td>\n",
       "      <td>...</td>\n",
       "      <td>1.376684</td>\n",
       "      <td>1.361519</td>\n",
       "      <td>1.388759</td>\n",
       "      <td>1.394426</td>\n",
       "      <td>1.441308</td>\n",
       "      <td>1.483926</td>\n",
       "      <td>1.427731</td>\n",
       "      <td>1.416160</td>\n",
       "      <td>NaN</td>\n",
       "      <td>NaN</td>\n",
       "    </tr>\n",
       "    <tr>\n",
       "      <th>1</th>\n",
       "      <td>Netherlands</td>\n",
       "      <td>NLD</td>\n",
       "      <td>Health expenditure, public (% of GDP)</td>\n",
       "      <td>SH.XPD.PUBL.ZS</td>\n",
       "      <td>NaN</td>\n",
       "      <td>NaN</td>\n",
       "      <td>NaN</td>\n",
       "      <td>NaN</td>\n",
       "      <td>NaN</td>\n",
       "      <td>NaN</td>\n",
       "      <td>...</td>\n",
       "      <td>7.980489</td>\n",
       "      <td>8.209741</td>\n",
       "      <td>8.901517</td>\n",
       "      <td>9.081296</td>\n",
       "      <td>9.085858</td>\n",
       "      <td>9.528422</td>\n",
       "      <td>9.617135</td>\n",
       "      <td>9.481133</td>\n",
       "      <td>NaN</td>\n",
       "      <td>NaN</td>\n",
       "    </tr>\n",
       "    <tr>\n",
       "      <th>2</th>\n",
       "      <td>Netherlands</td>\n",
       "      <td>NLD</td>\n",
       "      <td>Life expectancy at birth, total (years)</td>\n",
       "      <td>SP.DYN.LE00.IN</td>\n",
       "      <td>73.804146</td>\n",
       "      <td>73.612683</td>\n",
       "      <td>73.539512</td>\n",
       "      <td>73.58561</td>\n",
       "      <td>73.809512</td>\n",
       "      <td>73.727073</td>\n",
       "      <td>...</td>\n",
       "      <td>80.097561</td>\n",
       "      <td>80.251220</td>\n",
       "      <td>80.548780</td>\n",
       "      <td>80.702439</td>\n",
       "      <td>81.204878</td>\n",
       "      <td>81.104878</td>\n",
       "      <td>81.304878</td>\n",
       "      <td>81.304878</td>\n",
       "      <td>NaN</td>\n",
       "      <td>NaN</td>\n",
       "    </tr>\n",
       "    <tr>\n",
       "      <th>3</th>\n",
       "      <td>Colombia</td>\n",
       "      <td>COL</td>\n",
       "      <td>Health expenditure, private (% of GDP)</td>\n",
       "      <td>SH.XPD.PRIV.ZS</td>\n",
       "      <td>NaN</td>\n",
       "      <td>NaN</td>\n",
       "      <td>NaN</td>\n",
       "      <td>NaN</td>\n",
       "      <td>NaN</td>\n",
       "      <td>NaN</td>\n",
       "      <td>...</td>\n",
       "      <td>1.713840</td>\n",
       "      <td>1.921929</td>\n",
       "      <td>1.864133</td>\n",
       "      <td>1.781872</td>\n",
       "      <td>1.619624</td>\n",
       "      <td>1.655958</td>\n",
       "      <td>1.624282</td>\n",
       "      <td>1.791355</td>\n",
       "      <td>NaN</td>\n",
       "      <td>NaN</td>\n",
       "    </tr>\n",
       "    <tr>\n",
       "      <th>4</th>\n",
       "      <td>Colombia</td>\n",
       "      <td>COL</td>\n",
       "      <td>Health expenditure, public (% of GDP)</td>\n",
       "      <td>SH.XPD.PUBL.ZS</td>\n",
       "      <td>NaN</td>\n",
       "      <td>NaN</td>\n",
       "      <td>NaN</td>\n",
       "      <td>NaN</td>\n",
       "      <td>NaN</td>\n",
       "      <td>NaN</td>\n",
       "      <td>...</td>\n",
       "      <td>4.539527</td>\n",
       "      <td>4.698007</td>\n",
       "      <td>5.148274</td>\n",
       "      <td>4.975653</td>\n",
       "      <td>5.016165</td>\n",
       "      <td>5.277512</td>\n",
       "      <td>5.218918</td>\n",
       "      <td>5.409943</td>\n",
       "      <td>NaN</td>\n",
       "      <td>NaN</td>\n",
       "    </tr>\n",
       "  </tbody>\n",
       "</table>\n",
       "<p>5 rows × 54 columns</p>\n",
       "</div>"
      ],
      "text/plain": [
       "  Country Name Country Code                              Series Name  \\\n",
       "0  Netherlands          NLD   Health expenditure, private (% of GDP)   \n",
       "1  Netherlands          NLD    Health expenditure, public (% of GDP)   \n",
       "2  Netherlands          NLD  Life expectancy at birth, total (years)   \n",
       "3     Colombia          COL   Health expenditure, private (% of GDP)   \n",
       "4     Colombia          COL    Health expenditure, public (% of GDP)   \n",
       "\n",
       "      Series Code  1967 [YR1967]  1968 [YR1968]  1969 [YR1969]  1970 [YR1970]  \\\n",
       "0  SH.XPD.PRIV.ZS            NaN            NaN            NaN            NaN   \n",
       "1  SH.XPD.PUBL.ZS            NaN            NaN            NaN            NaN   \n",
       "2  SP.DYN.LE00.IN      73.804146      73.612683      73.539512       73.58561   \n",
       "3  SH.XPD.PRIV.ZS            NaN            NaN            NaN            NaN   \n",
       "4  SH.XPD.PUBL.ZS            NaN            NaN            NaN            NaN   \n",
       "\n",
       "   1971 [YR1971]  1972 [YR1972]      ...        2007 [YR2007]  2008 [YR2008]  \\\n",
       "0            NaN            NaN      ...             1.376684       1.361519   \n",
       "1            NaN            NaN      ...             7.980489       8.209741   \n",
       "2      73.809512      73.727073      ...            80.097561      80.251220   \n",
       "3            NaN            NaN      ...             1.713840       1.921929   \n",
       "4            NaN            NaN      ...             4.539527       4.698007   \n",
       "\n",
       "   2009 [YR2009]  2010 [YR2010]  2011 [YR2011]  2012 [YR2012]  2013 [YR2013]  \\\n",
       "0       1.388759       1.394426       1.441308       1.483926       1.427731   \n",
       "1       8.901517       9.081296       9.085858       9.528422       9.617135   \n",
       "2      80.548780      80.702439      81.204878      81.104878      81.304878   \n",
       "3       1.864133       1.781872       1.619624       1.655958       1.624282   \n",
       "4       5.148274       4.975653       5.016165       5.277512       5.218918   \n",
       "\n",
       "   2014 [YR2014]  2015 [YR2015]  2016 [YR2016]  \n",
       "0       1.416160            NaN            NaN  \n",
       "1       9.481133            NaN            NaN  \n",
       "2      81.304878            NaN            NaN  \n",
       "3       1.791355            NaN            NaN  \n",
       "4       5.409943            NaN            NaN  \n",
       "\n",
       "[5 rows x 54 columns]"
      ]
     },
     "execution_count": 28,
     "metadata": {},
     "output_type": "execute_result"
    }
   ],
   "source": [
    "#Read data and print the head to see how it looks like\n",
    "df = pd.read_csv(\"../class3/data/world_bank/data.csv\",na_values=\"..\")\n",
    "df.head()"
   ]
  },
  {
   "cell_type": "code",
   "execution_count": null,
   "metadata": {
    "collapsed": true
   },
   "outputs": [],
   "source": [
    "#We could fix the column names with: df.columns = [\"Country Name\",\"Country Code\",\"Series Name\",\"Series Code\",1967,1968,1969,...]"
   ]
  },
  {
   "cell_type": "code",
   "execution_count": 29,
   "metadata": {
    "collapsed": false
   },
   "outputs": [
    {
     "data": {
      "text/html": [
       "<div>\n",
       "<table border=\"1\" class=\"dataframe\">\n",
       "  <thead>\n",
       "    <tr style=\"text-align: right;\">\n",
       "      <th></th>\n",
       "      <th>Country Name</th>\n",
       "      <th>Country Code</th>\n",
       "      <th>Series Name</th>\n",
       "      <th>Series Code</th>\n",
       "      <th>1967</th>\n",
       "      <th>1968</th>\n",
       "      <th>1969</th>\n",
       "      <th>1970</th>\n",
       "      <th>1971</th>\n",
       "      <th>1972</th>\n",
       "      <th>...</th>\n",
       "      <th>2007</th>\n",
       "      <th>2008</th>\n",
       "      <th>2009</th>\n",
       "      <th>2010</th>\n",
       "      <th>2011</th>\n",
       "      <th>2012</th>\n",
       "      <th>2013</th>\n",
       "      <th>2014</th>\n",
       "      <th>2015</th>\n",
       "      <th>2016</th>\n",
       "    </tr>\n",
       "  </thead>\n",
       "  <tbody>\n",
       "    <tr>\n",
       "      <th>0</th>\n",
       "      <td>Netherlands</td>\n",
       "      <td>NLD</td>\n",
       "      <td>Health expenditure, private (% of GDP)</td>\n",
       "      <td>SH.XPD.PRIV.ZS</td>\n",
       "      <td>NaN</td>\n",
       "      <td>NaN</td>\n",
       "      <td>NaN</td>\n",
       "      <td>NaN</td>\n",
       "      <td>NaN</td>\n",
       "      <td>NaN</td>\n",
       "      <td>...</td>\n",
       "      <td>1.376684</td>\n",
       "      <td>1.361519</td>\n",
       "      <td>1.388759</td>\n",
       "      <td>1.394426</td>\n",
       "      <td>1.441308</td>\n",
       "      <td>1.483926</td>\n",
       "      <td>1.427731</td>\n",
       "      <td>1.416160</td>\n",
       "      <td>NaN</td>\n",
       "      <td>NaN</td>\n",
       "    </tr>\n",
       "    <tr>\n",
       "      <th>1</th>\n",
       "      <td>Netherlands</td>\n",
       "      <td>NLD</td>\n",
       "      <td>Health expenditure, public (% of GDP)</td>\n",
       "      <td>SH.XPD.PUBL.ZS</td>\n",
       "      <td>NaN</td>\n",
       "      <td>NaN</td>\n",
       "      <td>NaN</td>\n",
       "      <td>NaN</td>\n",
       "      <td>NaN</td>\n",
       "      <td>NaN</td>\n",
       "      <td>...</td>\n",
       "      <td>7.980489</td>\n",
       "      <td>8.209741</td>\n",
       "      <td>8.901517</td>\n",
       "      <td>9.081296</td>\n",
       "      <td>9.085858</td>\n",
       "      <td>9.528422</td>\n",
       "      <td>9.617135</td>\n",
       "      <td>9.481133</td>\n",
       "      <td>NaN</td>\n",
       "      <td>NaN</td>\n",
       "    </tr>\n",
       "    <tr>\n",
       "      <th>2</th>\n",
       "      <td>Netherlands</td>\n",
       "      <td>NLD</td>\n",
       "      <td>Life expectancy at birth, total (years)</td>\n",
       "      <td>SP.DYN.LE00.IN</td>\n",
       "      <td>73.804146</td>\n",
       "      <td>73.612683</td>\n",
       "      <td>73.539512</td>\n",
       "      <td>73.58561</td>\n",
       "      <td>73.809512</td>\n",
       "      <td>73.727073</td>\n",
       "      <td>...</td>\n",
       "      <td>80.097561</td>\n",
       "      <td>80.251220</td>\n",
       "      <td>80.548780</td>\n",
       "      <td>80.702439</td>\n",
       "      <td>81.204878</td>\n",
       "      <td>81.104878</td>\n",
       "      <td>81.304878</td>\n",
       "      <td>81.304878</td>\n",
       "      <td>NaN</td>\n",
       "      <td>NaN</td>\n",
       "    </tr>\n",
       "    <tr>\n",
       "      <th>3</th>\n",
       "      <td>Colombia</td>\n",
       "      <td>COL</td>\n",
       "      <td>Health expenditure, private (% of GDP)</td>\n",
       "      <td>SH.XPD.PRIV.ZS</td>\n",
       "      <td>NaN</td>\n",
       "      <td>NaN</td>\n",
       "      <td>NaN</td>\n",
       "      <td>NaN</td>\n",
       "      <td>NaN</td>\n",
       "      <td>NaN</td>\n",
       "      <td>...</td>\n",
       "      <td>1.713840</td>\n",
       "      <td>1.921929</td>\n",
       "      <td>1.864133</td>\n",
       "      <td>1.781872</td>\n",
       "      <td>1.619624</td>\n",
       "      <td>1.655958</td>\n",
       "      <td>1.624282</td>\n",
       "      <td>1.791355</td>\n",
       "      <td>NaN</td>\n",
       "      <td>NaN</td>\n",
       "    </tr>\n",
       "    <tr>\n",
       "      <th>4</th>\n",
       "      <td>Colombia</td>\n",
       "      <td>COL</td>\n",
       "      <td>Health expenditure, public (% of GDP)</td>\n",
       "      <td>SH.XPD.PUBL.ZS</td>\n",
       "      <td>NaN</td>\n",
       "      <td>NaN</td>\n",
       "      <td>NaN</td>\n",
       "      <td>NaN</td>\n",
       "      <td>NaN</td>\n",
       "      <td>NaN</td>\n",
       "      <td>...</td>\n",
       "      <td>4.539527</td>\n",
       "      <td>4.698007</td>\n",
       "      <td>5.148274</td>\n",
       "      <td>4.975653</td>\n",
       "      <td>5.016165</td>\n",
       "      <td>5.277512</td>\n",
       "      <td>5.218918</td>\n",
       "      <td>5.409943</td>\n",
       "      <td>NaN</td>\n",
       "      <td>NaN</td>\n",
       "    </tr>\n",
       "  </tbody>\n",
       "</table>\n",
       "<p>5 rows × 54 columns</p>\n",
       "</div>"
      ],
      "text/plain": [
       "  Country Name Country Code                              Series Name  \\\n",
       "0  Netherlands          NLD   Health expenditure, private (% of GDP)   \n",
       "1  Netherlands          NLD    Health expenditure, public (% of GDP)   \n",
       "2  Netherlands          NLD  Life expectancy at birth, total (years)   \n",
       "3     Colombia          COL   Health expenditure, private (% of GDP)   \n",
       "4     Colombia          COL    Health expenditure, public (% of GDP)   \n",
       "\n",
       "      Series Code       1967       1968       1969      1970       1971  \\\n",
       "0  SH.XPD.PRIV.ZS        NaN        NaN        NaN       NaN        NaN   \n",
       "1  SH.XPD.PUBL.ZS        NaN        NaN        NaN       NaN        NaN   \n",
       "2  SP.DYN.LE00.IN  73.804146  73.612683  73.539512  73.58561  73.809512   \n",
       "3  SH.XPD.PRIV.ZS        NaN        NaN        NaN       NaN        NaN   \n",
       "4  SH.XPD.PUBL.ZS        NaN        NaN        NaN       NaN        NaN   \n",
       "\n",
       "        1972  ...        2007       2008       2009       2010       2011  \\\n",
       "0        NaN  ...    1.376684   1.361519   1.388759   1.394426   1.441308   \n",
       "1        NaN  ...    7.980489   8.209741   8.901517   9.081296   9.085858   \n",
       "2  73.727073  ...   80.097561  80.251220  80.548780  80.702439  81.204878   \n",
       "3        NaN  ...    1.713840   1.921929   1.864133   1.781872   1.619624   \n",
       "4        NaN  ...    4.539527   4.698007   5.148274   4.975653   5.016165   \n",
       "\n",
       "        2012       2013       2014  2015  2016  \n",
       "0   1.483926   1.427731   1.416160   NaN   NaN  \n",
       "1   9.528422   9.617135   9.481133   NaN   NaN  \n",
       "2  81.104878  81.304878  81.304878   NaN   NaN  \n",
       "3   1.655958   1.624282   1.791355   NaN   NaN  \n",
       "4   5.277512   5.218918   5.409943   NaN   NaN  \n",
       "\n",
       "[5 rows x 54 columns]"
      ]
     },
     "execution_count": 29,
     "metadata": {},
     "output_type": "execute_result"
    }
   ],
   "source": [
    "## 4.1b Fix the year of the column (make it numbers)\n",
    "df = pd.read_csv(\"../class3/data/world_bank/data.csv\",na_values=\"..\")\n",
    "old_columns = list(df.columns)\n",
    "\n",
    "new_columns = []\n",
    "for index,column_name in enumerate(old_columns):\n",
    "    if index < 4: \n",
    "        new_columns.append(column_name)\n",
    "    else:\n",
    "        year_column = int(column_name[:4])\n",
    "        new_columns.append(year_column)\n",
    "\n",
    "df.columns = new_columns\n",
    "\n",
    "#We could save our data with: df.to_csv(\"data/new_columns.csv\",sep=\"\\t\")\n",
    "df.head()"
   ]
  },
  {
   "cell_type": "markdown",
   "metadata": {},
   "source": [
    "## 4.2 Fix the format and save it with name df_fixed\n",
    "Remember, this was the code that we use to fix the file of the \n",
    "`\n",
    "    ### Fix setp 1: Melt\n",
    "    variables_already_presents = ['METRO_ID', 'Metropolitan areas','VAR']\n",
    "    columns_combine = cols\n",
    "    df = pd.melt(df,\n",
    "               id_vars=variables_already_presents,\n",
    "               value_vars=columns_combine,\n",
    "               var_name=\"Year\",\n",
    "               value_name=\"Value\")\n",
    "    df.head()\n",
    "\n",
    "    ### Fix step 2: Pivot\n",
    "    column_with_values = \"Value\"\n",
    "    column_to_split = [\"VAR\"]\n",
    "    variables_already_present = [\"METRO_ID\",\"Metropolitan areas\",\"Year\"]\n",
    "    df.pivot_table(column_with_values,\n",
    "                   variables_already_present,\n",
    "                   column_to_split).reset_index().head()\n",
    "`"
   ]
  },
  {
   "cell_type": "code",
   "execution_count": null,
   "metadata": {
    "collapsed": true
   },
   "outputs": [],
   "source": [
    "#code\n",
    "\n"
   ]
  },
  {
   "cell_type": "markdown",
   "metadata": {},
   "source": [
    "## 4.3 Create two dataframes with names df_NL and df_CO.\n",
    "- The first with the data for the Netherlands\n",
    "- The second with the data for Colombia"
   ]
  },
  {
   "cell_type": "code",
   "execution_count": null,
   "metadata": {
    "collapsed": true
   },
   "outputs": [],
   "source": [
    "#code\n",
    "df_NL = \n",
    "df_CO = "
   ]
  },
  {
   "cell_type": "markdown",
   "metadata": {},
   "source": [
    "## 4.4 Concatenate/Merge (the appropriate one) the two dataframes"
   ]
  },
  {
   "cell_type": "code",
   "execution_count": null,
   "metadata": {
    "collapsed": true
   },
   "outputs": [],
   "source": []
  },
  {
   "cell_type": "markdown",
   "metadata": {},
   "source": [
    "## 4.5 Create two dataframes with names df_pri and df_pu.\n",
    "- The first with the data for all rows and columns \"country\", \"year\" and indicator \"SH.XPD.PRIV.ZS\" (expenditure in health care as %GDP) \n",
    "- The second with the data for all rows and columns \"country\", \"year\" and indicator \"SH.XPD.PUBL.ZS\""
   ]
  },
  {
   "cell_type": "code",
   "execution_count": null,
   "metadata": {
    "collapsed": true
   },
   "outputs": [],
   "source": [
    "df_pri = \n",
    "df_pu = "
   ]
  },
  {
   "cell_type": "markdown",
   "metadata": {},
   "source": [
    "## 4.6 Concatenate/Merge (the appropriate one) the two dataframes (how = \"outer\")"
   ]
  },
  {
   "cell_type": "code",
   "execution_count": null,
   "metadata": {
    "collapsed": true
   },
   "outputs": [],
   "source": []
  },
  {
   "cell_type": "markdown",
   "metadata": {},
   "source": [
    "## 4.7 Groupby the last dataframe (step 4.6) by country code and describe\n",
    "- If you don't remember check class3c_groupby.ipynb"
   ]
  },
  {
   "cell_type": "code",
   "execution_count": null,
   "metadata": {
    "collapsed": true
   },
   "outputs": [],
   "source": []
  },
  {
   "cell_type": "markdown",
   "metadata": {},
   "source": [
    "## 4.8 Groupby  the last dataframe (step 4.6) by country code and find skewness\n",
    "- A skewness value > 0 means that there is more weight in the left tail of the distribution.\n",
    "- If you don't remember check class3c_groupby.ipynb"
   ]
  },
  {
   "cell_type": "code",
   "execution_count": 31,
   "metadata": {
    "collapsed": false,
    "scrolled": true
   },
   "outputs": [
    {
     "data": {
      "text/html": [
       "<div>\n",
       "<table border=\"1\" class=\"dataframe\">\n",
       "  <thead>\n",
       "    <tr style=\"text-align: right;\">\n",
       "      <th></th>\n",
       "      <th>1967</th>\n",
       "      <th>1968</th>\n",
       "      <th>1969</th>\n",
       "      <th>1970</th>\n",
       "      <th>1971</th>\n",
       "      <th>1972</th>\n",
       "      <th>1973</th>\n",
       "      <th>1974</th>\n",
       "      <th>1975</th>\n",
       "      <th>1976</th>\n",
       "      <th>...</th>\n",
       "      <th>2007</th>\n",
       "      <th>2008</th>\n",
       "      <th>2009</th>\n",
       "      <th>2010</th>\n",
       "      <th>2011</th>\n",
       "      <th>2012</th>\n",
       "      <th>2013</th>\n",
       "      <th>2014</th>\n",
       "      <th>2015</th>\n",
       "      <th>2016</th>\n",
       "    </tr>\n",
       "    <tr>\n",
       "      <th>Country Code</th>\n",
       "      <th></th>\n",
       "      <th></th>\n",
       "      <th></th>\n",
       "      <th></th>\n",
       "      <th></th>\n",
       "      <th></th>\n",
       "      <th></th>\n",
       "      <th></th>\n",
       "      <th></th>\n",
       "      <th></th>\n",
       "      <th></th>\n",
       "      <th></th>\n",
       "      <th></th>\n",
       "      <th></th>\n",
       "      <th></th>\n",
       "      <th></th>\n",
       "      <th></th>\n",
       "      <th></th>\n",
       "      <th></th>\n",
       "      <th></th>\n",
       "      <th></th>\n",
       "    </tr>\n",
       "  </thead>\n",
       "  <tbody>\n",
       "    <tr>\n",
       "      <th>COL</th>\n",
       "      <td>NaN</td>\n",
       "      <td>NaN</td>\n",
       "      <td>NaN</td>\n",
       "      <td>NaN</td>\n",
       "      <td>NaN</td>\n",
       "      <td>NaN</td>\n",
       "      <td>NaN</td>\n",
       "      <td>NaN</td>\n",
       "      <td>NaN</td>\n",
       "      <td>NaN</td>\n",
       "      <td>...</td>\n",
       "      <td>1.722427</td>\n",
       "      <td>1.722766</td>\n",
       "      <td>1.719063</td>\n",
       "      <td>1.719874</td>\n",
       "      <td>1.718376</td>\n",
       "      <td>1.716521</td>\n",
       "      <td>1.716847</td>\n",
       "      <td>1.716647</td>\n",
       "      <td>NaN</td>\n",
       "      <td>NaN</td>\n",
       "    </tr>\n",
       "    <tr>\n",
       "      <th>ESP</th>\n",
       "      <td>NaN</td>\n",
       "      <td>NaN</td>\n",
       "      <td>NaN</td>\n",
       "      <td>NaN</td>\n",
       "      <td>NaN</td>\n",
       "      <td>NaN</td>\n",
       "      <td>NaN</td>\n",
       "      <td>NaN</td>\n",
       "      <td>NaN</td>\n",
       "      <td>NaN</td>\n",
       "      <td>...</td>\n",
       "      <td>1.717436</td>\n",
       "      <td>1.714439</td>\n",
       "      <td>1.708323</td>\n",
       "      <td>1.709427</td>\n",
       "      <td>1.712325</td>\n",
       "      <td>1.715990</td>\n",
       "      <td>1.717601</td>\n",
       "      <td>1.718622</td>\n",
       "      <td>NaN</td>\n",
       "      <td>NaN</td>\n",
       "    </tr>\n",
       "    <tr>\n",
       "      <th>NLD</th>\n",
       "      <td>NaN</td>\n",
       "      <td>NaN</td>\n",
       "      <td>NaN</td>\n",
       "      <td>NaN</td>\n",
       "      <td>NaN</td>\n",
       "      <td>NaN</td>\n",
       "      <td>NaN</td>\n",
       "      <td>NaN</td>\n",
       "      <td>NaN</td>\n",
       "      <td>NaN</td>\n",
       "      <td>...</td>\n",
       "      <td>1.687594</td>\n",
       "      <td>1.684330</td>\n",
       "      <td>1.674628</td>\n",
       "      <td>1.672061</td>\n",
       "      <td>1.673447</td>\n",
       "      <td>1.666647</td>\n",
       "      <td>1.664623</td>\n",
       "      <td>1.666758</td>\n",
       "      <td>NaN</td>\n",
       "      <td>NaN</td>\n",
       "    </tr>\n",
       "  </tbody>\n",
       "</table>\n",
       "<p>3 rows × 50 columns</p>\n",
       "</div>"
      ],
      "text/plain": [
       "              1967  1968  1969  1970  1971  1972  1973  1974  1975  1976  \\\n",
       "Country Code                                                               \n",
       "COL            NaN   NaN   NaN   NaN   NaN   NaN   NaN   NaN   NaN   NaN   \n",
       "ESP            NaN   NaN   NaN   NaN   NaN   NaN   NaN   NaN   NaN   NaN   \n",
       "NLD            NaN   NaN   NaN   NaN   NaN   NaN   NaN   NaN   NaN   NaN   \n",
       "\n",
       "              ...       2007      2008      2009      2010      2011  \\\n",
       "Country Code  ...                                                      \n",
       "COL           ...   1.722427  1.722766  1.719063  1.719874  1.718376   \n",
       "ESP           ...   1.717436  1.714439  1.708323  1.709427  1.712325   \n",
       "NLD           ...   1.687594  1.684330  1.674628  1.672061  1.673447   \n",
       "\n",
       "                  2012      2013      2014  2015  2016  \n",
       "Country Code                                            \n",
       "COL           1.716521  1.716847  1.716647   NaN   NaN  \n",
       "ESP           1.715990  1.717601  1.718622   NaN   NaN  \n",
       "NLD           1.666647  1.664623  1.666758   NaN   NaN  \n",
       "\n",
       "[3 rows x 50 columns]"
      ]
     },
     "execution_count": 31,
     "metadata": {},
     "output_type": "execute_result"
    }
   ],
   "source": [
    "import scipy.stats #you need to import scipy.stats\n"
   ]
  }
 ],
 "metadata": {
  "anaconda-cloud": {},
  "kernelspec": {
   "display_name": "Python [default]",
   "language": "python",
   "name": "python3"
  },
  "language_info": {
   "codemirror_mode": {
    "name": "ipython",
    "version": 3
   },
   "file_extension": ".py",
   "mimetype": "text/x-python",
   "name": "python",
   "nbconvert_exporter": "python",
   "pygments_lexer": "ipython3",
   "version": "3.5.2"
  }
 },
 "nbformat": 4,
 "nbformat_minor": 1
}
