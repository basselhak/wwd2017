{
 "cells": [
  {
   "cell_type": "markdown",
   "metadata": {},
   "source": [
    "# Working with data 2017. Class 3\n",
    "## Contact\n",
    "Javier Garcia-Bernardo\n",
    "garcia@uva.nl\n",
    "\n",
    "## 0. Structure\n",
    "1. Error debugging\n",
    "2. Data visualization theory\n",
    "    - Scatter\n",
    "    - Histograms, violinplots and two histograms (jointplot)\n",
    "    - Line plots with distributions (factorplot)\n",
    "    - Paralell coordinates    \n",
    "3. Dealing with missing data\n",
    "4. In-class exercises to melt, pivot, concat and merge\n",
    "5. Groupby and in-class exercises\n",
    "7. Stats\n",
    "    - What's a p-value?\n",
    "    - One-tailed test vs two-tailed test\n",
    "    - Count vs expected count (binomial test)\n",
    "    - Independence between factors: ($\\chi^2$ test)     "
   ]
  },
  {
   "cell_type": "code",
   "execution_count": 2,
   "metadata": {
    "collapsed": false
   },
   "outputs": [],
   "source": [
    "\n",
    "import pandas as pd\n",
    "import numpy as np\n",
    "import pylab as plt\n",
    "from scipy.stats import chi2_contingency,ttest_ind\n",
    "\n",
    "#This allows us to use R\n",
    "%load_ext rpy2.ipython\n",
    "\n",
    "#Visualize in line\n",
    "%matplotlib inline\n",
    "\n",
    "from IPython.display import Image\n"
   ]
  },
  {
   "cell_type": "markdown",
   "metadata": {},
   "source": [
    "# 6 Statistics I\n",
    "To learn about statistics *well*, I recommend this course: https://www.coursera.org/specializations/social-science\n",
    "\n",
    "\n",
    "\n",
    "## 6.0 Definitions\n",
    "### 6.0.1 Population vs sample\n",
    "- Population: The entire set of possible observations (all people in a country in a country-level survey)\n",
    "- Sample: The observations we actually have\n",
    "\n",
    "    \n",
    "### 6.0.2 Parameter vs statistic\n",
    "- Parameter: The true values that define the population ($\\sigma$ and $\\mu$ for a normal distribution)\n",
    "- Statistic: The values that we calculate using our sample (STD and MEAN for a normal distribution)\n",
    "    \n",
    "    \n",
    "### 6.0.3 Probability\n",
    "- Probability: The proportion of times where the measured event occurs in the long run. For instance, the probability of 1/2 of in a coin toss means that if you toss a coin 1 million times you will more or less get 500k heads and 500k tails)\n",
    "\n",
    "\n",
    "### 6.0.4 Null hypothesis:\n",
    "- The hypothesis that our value is not significant.\n",
    "- For instance our value can be the difference between two groups, or the difference between one group and zero.\n",
    "- It is assumed to be true and we try to disprove it.\n",
    "- It \"is\" disproved if the chances to dismiss it by chance are lower than 5%.\n",
    "\n",
    "\n",
    "### 6.0.5 Alternative hypothesis:\n",
    "- The hypothesis that our value is significant.\n",
    "- Accepted after dismissing the null hypothesis.\n",
    "    \n",
    "    \n",
    "### 6.0.6 Types of error:\n",
    "- Type I ($\\alpha$): Rejecting the null hypothesis when it was actually True (saying we have something we don't have). As a rule we set it to 0.05 and if the p-value is below it we accept the alternative hypothesis.\n",
    "- Type II ($\\beta$): Accepting the null hypothesis when it was actually False (saying we don't have something we actually have). This is a less important error.\n",
    "    \n",
    "    \n",
    "### 6.0.7 p-value\n",
    "- The p-value is defined as the probability of obtaining a result equal to or \"more extreme\" than what was actually observed, **when the null hypothesis is true.**\n",
    "- \"commonly misused and misinterpreted.\" --> a p-value of 0.01 does not mean that there is 1% chances that you are wrong!\n",
    "- Low p-value can be for two reasons:\n",
    "    - The null is true but your sample was unusual.\n",
    "    - The null is false.\n",
    "- with a p-value of 0.05 the probability of incorrectly rejecting a true null hypothesis is 23% (mainly for other bias).\n",
    "    \n",
    "    \n",
    "### 6.0.8 Effect size:\n",
    "- Difference between the difference of the two groups (of the one group with zero) divided by the standard deviation -> Cohen's d. 1 = the difference is equal to the std, not so great.\n",
    "- Good summary: https://www.leeds.ac.uk/educol/documents/00002182.htm\n",
    "- \"For example, an AIDS vaccine study in Thailand obtained a P value of 0.039. Great! This was the first time that an AIDS vaccine had positive results. However, the confidence interval for effectiveness ranged from 1% to 52%. That’s not so impressive...the vaccine may work virtually none of the time up to half the time. The effectiveness is both low and imprecisely estimated.\" quote: http://blog.minitab.com/blog/adventures-in-statistics-2/five-guidelines-for-using-p-values\n",
    "    \n",
    "    \n",
    "### 6.0.9 In general:\n",
    "- Larger population: We can detect smaller differences.\n",
    "- Smaller variability within groups: We can detect smaller differences.\n",
    "- Large differences between groups (effect size): Unlikely that it is due to noise.\n",
    "\n",
    "\n",
    "### 6.0.10 Correlation\n",
    "- Dependence or association is any statistical relationship, whether causal or not, between two random variables or two sets of data. Correlation is any of a broad class of statistical relationships involving dependence, though in common usage it most often refers to the extent to which two variables have a linear relationship with each other.\"\n"
   ]
  },
  {
   "cell_type": "markdown",
   "metadata": {
    "collapsed": true
   },
   "source": [
    "## 6.1 Biases \n",
    "### 6.1.1 Cherry-picking\n",
    "- Using individual cases or data that seem to confirm a particular position, while ignoring a significant portion of related cases or data that may contradict that position.\n",
    "- Cherry picking may be committed intentionally or unintentionally. \n",
    "\n",
    "### 6.1.2 Look-elsewhere effect\n",
    "- If you try many things, one will be significant.\n",
    "- With a sample size large enough, any outrageous thing is likely to happen (Persi Diaconis and Frederick Mosteller) \n",
    "\n",
    "### 6.1.3 Optional stopping\n",
    "It is a well-known fact of null-hypothesis significance testing (NHST) that when there is \"optional stopping\" of data collection with testing at every new datum (a procedure also called \"sequential testing\" or \"data peeking\"), then the null hypothesis will eventually be rejected even when it is true. With enough random sampling from the null hypothesis, eventually there will be some accidental coincidence of outlying values so that p < .05 (conditionalizing on the current sample size). Anscombe (1954) called this phenomenon, \"sampling to reach a foregone conclusion.\""
   ]
  },
  {
   "cell_type": "code",
   "execution_count": 6,
   "metadata": {
    "collapsed": false
   },
   "outputs": [
    {
     "name": "stdout",
     "output_type": "stream",
     "text": [
      "look-elsewhere effect\n"
     ]
    },
    {
     "data": {
      "text/html": [
       "<img src=\"http://www.tylervigen.com/chart-pngs/13.png\"/>"
      ],
      "text/plain": [
       "<IPython.core.display.Image object>"
      ]
     },
     "execution_count": 6,
     "metadata": {},
     "output_type": "execute_result"
    }
   ],
   "source": [
    "print(\"look-elsewhere effect\")\n",
    "Image(url=\"http://www.tylervigen.com/chart-pngs/13.png\")"
   ]
  },
  {
   "cell_type": "code",
   "execution_count": 24,
   "metadata": {
    "collapsed": false
   },
   "outputs": [
    {
     "name": "stdout",
     "output_type": "stream",
     "text": [
      "['x0', 'x1', 'x2', 'x3', 'x4', 'x5', 'x6', 'x7', 'x8', 'x9', 'x10', 'x11', 'x12', 'x13', 'x14', 'x15', 'x16', 'x17', 'x18', 'x19', 'x20', 'x21', 'x22', 'x23', 'x24', 'x25', 'x26', 'x27', 'x28', 'x29', 'x30', 'x31', 'x32', 'x33', 'x34', 'x35', 'x36', 'x37', 'x38', 'x39', 'x40', 'x41', 'x42', 'x43', 'x44', 'x45', 'x46', 'x47', 'x48', 'x49']\n"
     ]
    },
    {
     "data": {
      "text/html": [
       "<div>\n",
       "<table border=\"1\" class=\"dataframe\">\n",
       "  <thead>\n",
       "    <tr style=\"text-align: right;\">\n",
       "      <th></th>\n",
       "      <th>y</th>\n",
       "      <th>x0</th>\n",
       "      <th>x1</th>\n",
       "      <th>x2</th>\n",
       "      <th>x3</th>\n",
       "      <th>x4</th>\n",
       "      <th>x5</th>\n",
       "      <th>x6</th>\n",
       "      <th>x7</th>\n",
       "      <th>x8</th>\n",
       "      <th>...</th>\n",
       "      <th>x40</th>\n",
       "      <th>x41</th>\n",
       "      <th>x42</th>\n",
       "      <th>x43</th>\n",
       "      <th>x44</th>\n",
       "      <th>x45</th>\n",
       "      <th>x46</th>\n",
       "      <th>x47</th>\n",
       "      <th>x48</th>\n",
       "      <th>x49</th>\n",
       "    </tr>\n",
       "  </thead>\n",
       "  <tbody>\n",
       "    <tr>\n",
       "      <th>0</th>\n",
       "      <td>0.928690</td>\n",
       "      <td>0.255509</td>\n",
       "      <td>0.213519</td>\n",
       "      <td>0.604636</td>\n",
       "      <td>0.557485</td>\n",
       "      <td>0.660304</td>\n",
       "      <td>0.358648</td>\n",
       "      <td>0.069766</td>\n",
       "      <td>0.433608</td>\n",
       "      <td>0.579703</td>\n",
       "      <td>...</td>\n",
       "      <td>0.188299</td>\n",
       "      <td>0.081772</td>\n",
       "      <td>0.341063</td>\n",
       "      <td>0.791800</td>\n",
       "      <td>0.023923</td>\n",
       "      <td>0.893788</td>\n",
       "      <td>0.401774</td>\n",
       "      <td>0.668835</td>\n",
       "      <td>0.726455</td>\n",
       "      <td>0.200460</td>\n",
       "    </tr>\n",
       "    <tr>\n",
       "      <th>1</th>\n",
       "      <td>0.822767</td>\n",
       "      <td>0.289356</td>\n",
       "      <td>0.220321</td>\n",
       "      <td>0.529772</td>\n",
       "      <td>0.840539</td>\n",
       "      <td>0.876171</td>\n",
       "      <td>0.714545</td>\n",
       "      <td>0.695461</td>\n",
       "      <td>0.663959</td>\n",
       "      <td>0.210418</td>\n",
       "      <td>...</td>\n",
       "      <td>0.722217</td>\n",
       "      <td>0.419368</td>\n",
       "      <td>0.576303</td>\n",
       "      <td>0.262180</td>\n",
       "      <td>0.455202</td>\n",
       "      <td>0.424282</td>\n",
       "      <td>0.705010</td>\n",
       "      <td>0.819927</td>\n",
       "      <td>0.903822</td>\n",
       "      <td>0.560340</td>\n",
       "    </tr>\n",
       "    <tr>\n",
       "      <th>2</th>\n",
       "      <td>0.274214</td>\n",
       "      <td>0.606242</td>\n",
       "      <td>0.600238</td>\n",
       "      <td>0.852054</td>\n",
       "      <td>0.377320</td>\n",
       "      <td>0.172691</td>\n",
       "      <td>0.014046</td>\n",
       "      <td>0.292649</td>\n",
       "      <td>0.155640</td>\n",
       "      <td>0.358941</td>\n",
       "      <td>...</td>\n",
       "      <td>0.888569</td>\n",
       "      <td>0.233686</td>\n",
       "      <td>0.230570</td>\n",
       "      <td>0.208530</td>\n",
       "      <td>0.309724</td>\n",
       "      <td>0.127418</td>\n",
       "      <td>0.395420</td>\n",
       "      <td>0.373611</td>\n",
       "      <td>0.160764</td>\n",
       "      <td>0.046482</td>\n",
       "    </tr>\n",
       "    <tr>\n",
       "      <th>3</th>\n",
       "      <td>0.637722</td>\n",
       "      <td>0.142530</td>\n",
       "      <td>0.976267</td>\n",
       "      <td>0.977798</td>\n",
       "      <td>0.418531</td>\n",
       "      <td>0.430132</td>\n",
       "      <td>0.011873</td>\n",
       "      <td>0.779923</td>\n",
       "      <td>0.790259</td>\n",
       "      <td>0.674271</td>\n",
       "      <td>...</td>\n",
       "      <td>0.590867</td>\n",
       "      <td>0.305651</td>\n",
       "      <td>0.221711</td>\n",
       "      <td>0.137461</td>\n",
       "      <td>0.537322</td>\n",
       "      <td>0.609165</td>\n",
       "      <td>0.663237</td>\n",
       "      <td>0.739323</td>\n",
       "      <td>0.087537</td>\n",
       "      <td>0.963805</td>\n",
       "    </tr>\n",
       "    <tr>\n",
       "      <th>4</th>\n",
       "      <td>0.298234</td>\n",
       "      <td>0.591699</td>\n",
       "      <td>0.851438</td>\n",
       "      <td>0.416493</td>\n",
       "      <td>0.583647</td>\n",
       "      <td>0.533030</td>\n",
       "      <td>0.780314</td>\n",
       "      <td>0.940887</td>\n",
       "      <td>0.834632</td>\n",
       "      <td>0.605428</td>\n",
       "      <td>...</td>\n",
       "      <td>0.438967</td>\n",
       "      <td>0.277071</td>\n",
       "      <td>0.027791</td>\n",
       "      <td>0.159416</td>\n",
       "      <td>0.855521</td>\n",
       "      <td>0.220556</td>\n",
       "      <td>0.016178</td>\n",
       "      <td>0.007323</td>\n",
       "      <td>0.144029</td>\n",
       "      <td>0.429188</td>\n",
       "    </tr>\n",
       "  </tbody>\n",
       "</table>\n",
       "<p>5 rows × 51 columns</p>\n",
       "</div>"
      ],
      "text/plain": [
       "          y        x0        x1        x2        x3        x4        x5  \\\n",
       "0  0.928690  0.255509  0.213519  0.604636  0.557485  0.660304  0.358648   \n",
       "1  0.822767  0.289356  0.220321  0.529772  0.840539  0.876171  0.714545   \n",
       "2  0.274214  0.606242  0.600238  0.852054  0.377320  0.172691  0.014046   \n",
       "3  0.637722  0.142530  0.976267  0.977798  0.418531  0.430132  0.011873   \n",
       "4  0.298234  0.591699  0.851438  0.416493  0.583647  0.533030  0.780314   \n",
       "\n",
       "         x6        x7        x8    ...          x40       x41       x42  \\\n",
       "0  0.069766  0.433608  0.579703    ...     0.188299  0.081772  0.341063   \n",
       "1  0.695461  0.663959  0.210418    ...     0.722217  0.419368  0.576303   \n",
       "2  0.292649  0.155640  0.358941    ...     0.888569  0.233686  0.230570   \n",
       "3  0.779923  0.790259  0.674271    ...     0.590867  0.305651  0.221711   \n",
       "4  0.940887  0.834632  0.605428    ...     0.438967  0.277071  0.027791   \n",
       "\n",
       "        x43       x44       x45       x46       x47       x48       x49  \n",
       "0  0.791800  0.023923  0.893788  0.401774  0.668835  0.726455  0.200460  \n",
       "1  0.262180  0.455202  0.424282  0.705010  0.819927  0.903822  0.560340  \n",
       "2  0.208530  0.309724  0.127418  0.395420  0.373611  0.160764  0.046482  \n",
       "3  0.137461  0.537322  0.609165  0.663237  0.739323  0.087537  0.963805  \n",
       "4  0.159416  0.855521  0.220556  0.016178  0.007323  0.144029  0.429188  \n",
       "\n",
       "[5 rows x 51 columns]"
      ]
     },
     "execution_count": 24,
     "metadata": {},
     "output_type": "execute_result"
    }
   ],
   "source": [
    "#Create some totally random data\n",
    "import numpy as np\n",
    "df = pd.DataFrame(np.random.random((100,51)))\n",
    "\n",
    "cols_x = []\n",
    "for i in range(50):\n",
    "    cols_x.append(\"x\"+str(i))\n",
    "df.columns = [\"y\"] + cols_x\n",
    "print(cols_x)\n",
    "df.head()"
   ]
  },
  {
   "cell_type": "code",
   "execution_count": 25,
   "metadata": {
    "collapsed": false
   },
   "outputs": [
    {
     "name": "stdout",
     "output_type": "stream",
     "text": [
      "                            OLS Regression Results                            \n",
      "==============================================================================\n",
      "Dep. Variable:                      y   R-squared:                       0.496\n",
      "Model:                            OLS   Adj. R-squared:                 -0.019\n",
      "Method:                 Least Squares   F-statistic:                    0.9632\n",
      "Date:                Tue, 17 Jan 2017   Prob (F-statistic):              0.553\n",
      "Time:                        01:00:39   Log-Likelihood:                 14.159\n",
      "No. Observations:                 100   AIC:                             73.68\n",
      "Df Residuals:                      49   BIC:                             206.5\n",
      "Df Model:                          50                                         \n",
      "Covariance Type:            nonrobust                                         \n",
      "==============================================================================\n",
      "                 coef    std err          t      P>|t|      [95.0% Conf. Int.]\n",
      "------------------------------------------------------------------------------\n",
      "Intercept      0.6568      0.475      1.384      0.173        -0.297     1.611\n",
      "x0             0.0152      0.151      0.101      0.920        -0.288     0.318\n",
      "x1            -0.1894      0.149     -1.275      0.208        -0.488     0.109\n",
      "x2             0.0167      0.155      0.108      0.915        -0.295     0.329\n",
      "x3             0.0710      0.161      0.440      0.662        -0.253     0.395\n",
      "x4             0.3532      0.150      2.352      0.023         0.051     0.655\n",
      "x5            -0.2030      0.146     -1.392      0.170        -0.496     0.090\n",
      "x6            -0.0986      0.155     -0.636      0.528        -0.410     0.213\n",
      "x7            -0.1003      0.160     -0.626      0.535        -0.422     0.222\n",
      "x8             0.0442      0.157      0.281      0.780        -0.272     0.360\n",
      "x9             0.0993      0.150      0.661      0.512        -0.203     0.401\n",
      "x10            0.0698      0.143      0.486      0.629        -0.218     0.358\n",
      "x11           -0.1216      0.144     -0.843      0.403        -0.411     0.168\n",
      "x12            0.0984      0.157      0.625      0.535        -0.218     0.415\n",
      "x13           -0.0540      0.145     -0.372      0.712        -0.346     0.238\n",
      "x14            0.0264      0.163      0.162      0.872        -0.301     0.354\n",
      "x15           -0.1666      0.152     -1.099      0.277        -0.471     0.138\n",
      "x16           -0.0965      0.144     -0.672      0.505        -0.385     0.192\n",
      "x17           -0.0080      0.155     -0.052      0.959        -0.319     0.303\n",
      "x18            0.0969      0.149      0.649      0.520        -0.203     0.397\n",
      "x19           -0.0929      0.145     -0.642      0.524        -0.383     0.198\n",
      "x20           -0.1465      0.149     -0.983      0.331        -0.446     0.153\n",
      "x21            0.0017      0.153      0.011      0.991        -0.305     0.309\n",
      "x22           -0.0147      0.130     -0.113      0.910        -0.277     0.247\n",
      "x23           -0.1435      0.148     -0.972      0.336        -0.440     0.153\n",
      "x24           -0.0734      0.140     -0.525      0.602        -0.354     0.207\n",
      "x25            0.2486      0.160      1.556      0.126        -0.072     0.570\n",
      "x26            0.1970      0.136      1.446      0.155        -0.077     0.471\n",
      "x27           -0.0637      0.154     -0.413      0.682        -0.374     0.247\n",
      "x28            0.2557      0.159      1.612      0.113        -0.063     0.574\n",
      "x29            0.0054      0.135      0.040      0.968        -0.266     0.277\n",
      "x30            0.0441      0.148      0.297      0.767        -0.254     0.342\n",
      "x31           -0.0984      0.142     -0.695      0.490        -0.383     0.186\n",
      "x32            0.0430      0.165      0.261      0.795        -0.288     0.374\n",
      "x33            0.1588      0.157      1.011      0.317        -0.157     0.475\n",
      "x34           -0.0486      0.136     -0.356      0.723        -0.323     0.225\n",
      "x35           -0.0351      0.157     -0.223      0.824        -0.351     0.281\n",
      "x36            0.1809      0.164      1.100      0.277        -0.150     0.511\n",
      "x37            0.1175      0.149      0.787      0.435        -0.182     0.417\n",
      "x38            0.2299      0.158      1.456      0.152        -0.087     0.547\n",
      "x39            0.0479      0.156      0.307      0.760        -0.265     0.361\n",
      "x40           -0.4083      0.144     -2.835      0.007        -0.698    -0.119\n",
      "x41           -0.2252      0.156     -1.443      0.155        -0.539     0.088\n",
      "x42           -0.0747      0.127     -0.586      0.560        -0.331     0.181\n",
      "x43           -0.0911      0.146     -0.622      0.537        -0.385     0.203\n",
      "x44           -0.0863      0.149     -0.578      0.566        -0.386     0.214\n",
      "x45           -0.0061      0.147     -0.042      0.967        -0.302     0.290\n",
      "x46           -0.1922      0.152     -1.267      0.211        -0.497     0.113\n",
      "x47           -0.1151      0.155     -0.744      0.460        -0.426     0.196\n",
      "x48            0.0550      0.183      0.301      0.765        -0.313     0.423\n",
      "x49            0.2096      0.149      1.405      0.166        -0.090     0.509\n",
      "==============================================================================\n",
      "Omnibus:                        2.085   Durbin-Watson:                   2.185\n",
      "Prob(Omnibus):                  0.353   Jarque-Bera (JB):                2.104\n",
      "Skew:                          -0.331   Prob(JB):                        0.349\n",
      "Kurtosis:                       2.744   Cond. No.                         62.7\n",
      "==============================================================================\n",
      "\n",
      "Warnings:\n",
      "[1] Standard Errors assume that the covariance matrix of the errors is correctly specified.\n"
     ]
    }
   ],
   "source": [
    "#Fit a regression\n",
    "import statsmodels.formula.api as smf\n",
    "\n",
    "mod = smf.ols(formula='y ~ {}'.format(\"+\".join(cols_x)), data=df)\n",
    "res = mod.fit()\n",
    "print(res.summary())"
   ]
  },
  {
   "cell_type": "markdown",
   "metadata": {},
   "source": [
    "## 6.3 Don't do bad science\n",
    "**We're in a replication crisis.**\n",
    "- ALWAYS give all the information needed to replicate your results (including all the parameters of your models and your data unless restricted by licenses).\n",
    "- Be aware of the biases and try to correct for them.\n",
    "- Do not try many things until something work without adjusting your p-value (Bonferroni correction: if you try 10 things, your p-value should be lower than 0.05/10 to be significant)"
   ]
  },
  {
   "cell_type": "markdown",
   "metadata": {},
   "source": [
    "**Number of failed replications**: `of another author (your own papers)`\n",
    "\n",
    "`\n",
    "\n",
    "    chemistry: 90% (60%),\n",
    "    biology: 80% (60%),\n",
    "    physics and engineering: 70% (50%),\n",
    "    medicine: 70% (60%),\n",
    "    Earth and environment science: 60% (40%).\n",
    "    \n",
    "`    \n",
    "\n",
    "http://www.nature.com/news/1-500-scientists-lift-the-lid-on-reproducibility-1.19970?WT.mc_id=SFB_NNEWS_1508_RHBox\n",
    "\n"
   ]
  },
  {
   "cell_type": "code",
   "execution_count": 4,
   "metadata": {
    "collapsed": false
   },
   "outputs": [
    {
     "data": {
      "text/html": [
       "<img src=\"http://cdn.app.compendium.com/uploads/user/458939f4-fe08-4dbc-b271-efca0f5a2682/742d7708-efd3-492c-abff-6044d78e3bbd/Image/01bec95ec63634b9062de57edde1ecf7/replicationbypvalue.png\"/>"
      ],
      "text/plain": [
       "<IPython.core.display.Image object>"
      ]
     },
     "execution_count": 4,
     "metadata": {},
     "output_type": "execute_result"
    }
   ],
   "source": [
    "Image(url=\"http://cdn.app.compendium.com/uploads/user/458939f4-fe08-4dbc-b271-efca0f5a2682/742d7708-efd3-492c-abff-6044d78e3bbd/Image/01bec95ec63634b9062de57edde1ecf7/replicationbypvalue.png\")"
   ]
  },
  {
   "cell_type": "markdown",
   "metadata": {
    "collapsed": true
   },
   "source": [
    "## 6.4 Binomial test\n",
    "In probability theory and statistics, the binomial distribution with parameters x, n and p is the discrete probability distribution of `x` number of successes in a sequence of `n` independent yes/no experiments, each of which yields success with probability `p`\n"
   ]
  },
  {
   "cell_type": "markdown",
   "metadata": {},
   "source": [
    "**What's the probability to get 40 heads out of 100 tosses given that a coin is fair?** (p-value)"
   ]
  },
  {
   "cell_type": "code",
   "execution_count": 46,
   "metadata": {
    "collapsed": false
   },
   "outputs": [
    {
     "data": {
      "text/plain": [
       "0.056887933640980777"
      ]
     },
     "execution_count": 46,
     "metadata": {},
     "output_type": "execute_result"
    }
   ],
   "source": [
    "import scipy\n",
    "scipy.stats.binom_test(40, n=100, p=0.5)"
   ]
  },
  {
   "cell_type": "markdown",
   "metadata": {},
   "source": [
    "## In class exercise: \n",
    "**What's the probability that 100 journalists out of 10 million people get killed if the chances of getting killed are 1 in 1 million?** (p-value)\n",
    "\n",
    "- How much often do journalists get killed?\n",
    "- What's the null hypothesis?\n",
    "- What's the p-value associated?\n",
    "- What can we say?"
   ]
  },
  {
   "cell_type": "markdown",
   "metadata": {},
   "source": [
    "### How does it actually work?\n",
    "- You have these fail/success trials and they are independent.\n",
    "- The probability of sucess is p.\n",
    "- The probability of getting at least x successes out of n trials is given by a binomial distribution. Which means we can calculate the probability of getting a more extreme result than x out of n trials."
   ]
  },
  {
   "cell_type": "code",
   "execution_count": 72,
   "metadata": {
    "collapsed": false
   },
   "outputs": [
    {
     "data": {
      "text/plain": [
       "<matplotlib.text.Text at 0x7f49375d3518>"
      ]
     },
     "execution_count": 72,
     "metadata": {},
     "output_type": "execute_result"
    },
    {
     "data": {
      "image/png": "[encoded data removed]",
      "text/plain": [
       "<matplotlib.figure.Figure at 0x7f49378f7160>"
      ]
     },
     "metadata": {},
     "output_type": "display_data"
    }
   ],
   "source": [
    "#just plotting a binomial distribution, no worries\n",
    "x = np.linspace(0,10,11)\n",
    "pmf = scipy.stats.binom.pmf(x,10,0.2)\n",
    "plt.plot(x,pmf,\".-\")\n",
    "plt.xlabel(\"Number of successes (out of 10)\")\n",
    "plt.ylabel(\"Frequency\")"
   ]
  },
  {
   "cell_type": "markdown",
   "metadata": {},
   "source": [
    "## 6.5 $\\chi^2$ (chi-square) test \n",
    "### 6.2.1 Independence between variables using contingency tables:\n",
    "`In statistics, a contingency table (also known as a cross tabulation or crosstab) is a type of table in a matrix format that displays the (multivariate) frequency distribution of the variables. They are heavily used in survey research, business intelligence, engineering and scientific research. They provide a basic picture of the interrelation between two variables and can help find interactions between them.` (wikipedia)\n",
    "- Visualize interaction between **categorical data**\n",
    "- We can use the $\\chi^2$ (chi-square) test to see if the interactions are significant."
   ]
  },
  {
   "cell_type": "markdown",
   "metadata": {},
   "source": [
    "**Example 1:** We will use this class as a sample\n",
    "\n",
    "    `Is the probability of having dark eyes independent of the gender?`\n",
    "\n",
    "- Why should it not?\n",
    "- Why could it?"
   ]
  },
  {
   "cell_type": "code",
   "execution_count": 39,
   "metadata": {
    "collapsed": false
   },
   "outputs": [
    {
     "data": {
      "text/html": [
       "<div>\n",
       "<table border=\"1\" class=\"dataframe\">\n",
       "  <thead>\n",
       "    <tr style=\"text-align: right;\">\n",
       "      <th></th>\n",
       "      <th>Dark</th>\n",
       "      <th>Clear</th>\n",
       "    </tr>\n",
       "  </thead>\n",
       "  <tbody>\n",
       "    <tr>\n",
       "      <th>Male</th>\n",
       "      <td>5</td>\n",
       "      <td>5</td>\n",
       "    </tr>\n",
       "    <tr>\n",
       "      <th>Female</th>\n",
       "      <td>10</td>\n",
       "      <td>10</td>\n",
       "    </tr>\n",
       "  </tbody>\n",
       "</table>\n",
       "</div>"
      ],
      "text/plain": [
       "        Dark  Clear\n",
       "Male       5      5\n",
       "Female    10     10"
      ]
     },
     "execution_count": 39,
     "metadata": {},
     "output_type": "execute_result"
    }
   ],
   "source": [
    "df_eyes = pd.DataFrame(\n",
    "    [\n",
    "        [5,5],\n",
    "        [10,10]\n",
    "    ],columns=[\"Dark\",\"Clear\"],index=[\"Male\",\"Female\"])\n",
    "\n",
    "df_eyes"
   ]
  },
  {
   "cell_type": "code",
   "execution_count": 40,
   "metadata": {
    "collapsed": false
   },
   "outputs": [
    {
     "data": {
      "text/plain": [
       "(0.0, 1.0, 1, array([[  5.,   5.],\n",
       "        [ 10.,  10.]]))"
      ]
     },
     "execution_count": 40,
     "metadata": {},
     "output_type": "execute_result"
    }
   ],
   "source": [
    "scipy.stats.chi2_contingency(df_eyes)"
   ]
  },
  {
   "cell_type": "code",
   "execution_count": 50,
   "metadata": {
    "collapsed": true
   },
   "outputs": [],
   "source": [
    "chi2_contingency?"
   ]
  },
  {
   "cell_type": "code",
   "execution_count": 6,
   "metadata": {
    "collapsed": false
   },
   "outputs": [
    {
     "name": "stdout",
     "output_type": "stream",
     "text": [
      "1.0\n"
     ]
    },
    {
     "data": {
      "text/plain": [
       "array([[  5.,   5.],\n",
       "       [ 10.,  10.]])"
      ]
     },
     "execution_count": 6,
     "metadata": {},
     "output_type": "execute_result"
    }
   ],
   "source": [
    "chi,p,dof,expected = chi2_contingency(df_eyes)\n",
    "print(p)\n",
    "expected"
   ]
  },
  {
   "cell_type": "markdown",
   "metadata": {},
   "source": [
    "### How does it actually work?\n",
    "- The program calculates for each cell $\\chi^2 = (Observed^2-Expected^2)/(Expected^2)$.\n",
    "- The degrees of freedom (a parameter) is $(\\#rows-1)\\cdot(\\#columns-1)$.\n",
    "- The probability of getting a value higher than chi_stat is given by a $\\chi^2$ distribution. Which means we can calculate the probability of getting a more extreme result than x out of n trials."
   ]
  },
  {
   "cell_type": "code",
   "execution_count": 73,
   "metadata": {
    "collapsed": false
   },
   "outputs": [
    {
     "data": {
      "text/plain": [
       "<matplotlib.text.Text at 0x7f49375ba400>"
      ]
     },
     "execution_count": 73,
     "metadata": {},
     "output_type": "execute_result"
    },
    {
     "data": {
      "image/png": "[encoded data removed]",
      "text/plain": [
       "<matplotlib.figure.Figure at 0x7f49375db0f0>"
      ]
     },
     "metadata": {},
     "output_type": "display_data"
    }
   ],
   "source": [
    "#just plotting a chi-square distribution, no worries\n",
    "x = np.linspace(0,10,11)\n",
    "pmf = scipy.stats.chi2.pdf(x,df=1)\n",
    "plt.plot(x,pmf,\".-\")\n",
    "plt.xlabel(\"Chi-2 value\")\n",
    "plt.ylabel(\"Frequency\")"
   ]
  }
 ],
 "metadata": {
  "anaconda-cloud": {},
  "kernelspec": {
   "display_name": "Python [default]",
   "language": "python",
   "name": "python3"
  },
  "language_info": {
   "codemirror_mode": {
    "name": "ipython",
    "version": 3
   },
   "file_extension": ".py",
   "mimetype": "text/x-python",
   "name": "python",
   "nbconvert_exporter": "python",
   "pygments_lexer": "ipython3",
   "version": "3.5.2"
  }
 },
 "nbformat": 4,
 "nbformat_minor": 0
}
