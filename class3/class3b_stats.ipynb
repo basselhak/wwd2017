{
 "cells": [
  {
   "cell_type": "code",
   "execution_count": 2,
   "metadata": {
    "collapsed": false
   },
   "outputs": [],
   "source": [
    "\n",
    "import pandas as pd\n",
    "import numpy as np\n",
    "import pylab as plt\n",
    "from scipy.stats import chi2_contingency,ttest_ind\n",
    "\n",
    "#This allows us to use R\n",
    "%load_ext rpy2.ipython\n",
    "\n",
    "#Visualize in line\n",
    "%matplotlib inline\n",
    "\n",
    "from IPython.display import Image\n"
   ]
  },
  {
   "cell_type": "code",
   "execution_count": null,
   "metadata": {
    "collapsed": true
   },
   "outputs": [],
   "source": [
    "#When to use log scale"
   ]
  },
  {
   "cell_type": "code",
   "execution_count": null,
   "metadata": {
    "collapsed": true
   },
   "outputs": [],
   "source": []
  },
  {
   "cell_type": "code",
   "execution_count": null,
   "metadata": {
    "collapsed": true
   },
   "outputs": [],
   "source": []
  },
  {
   "cell_type": "code",
   "execution_count": null,
   "metadata": {
    "collapsed": true
   },
   "outputs": [],
   "source": [
    "## 2. Is count \n",
    "In probability theory and statistics, the binomial distribution with parameters n and p is the discrete probability distribution of the number of successes in a sequence of n independent yes/no experiments, each of which yields success with probability p"
   ]
  },
  {
   "cell_type": "code",
   "execution_count": null,
   "metadata": {
    "collapsed": true
   },
   "outputs": [],
   "source": [
    "For instance, how many"
   ]
  },
  {
   "cell_type": "markdown",
   "metadata": {},
   "source": [
    "## 1. Independence between variables using contingency tables:\n",
    "`In statistics, a contingency table (also known as a cross tabulation or crosstab) is a type of table in a matrix format that displays the (multivariate) frequency distribution of the variables. They are heavily used in survey research, business intelligence, engineering and scientific research. They provide a basic picture of the interrelation between two variables and can help find interactions between them.`\n",
    "- Visualize interaction between **categorical data**\n",
    "- We can use the $\\chi^2$ (chi-square) test to see if the interactions are significant."
   ]
  },
  {
   "cell_type": "markdown",
   "metadata": {},
   "source": [
    "**Example 1:** We will use this class as a sample\n",
    "\n",
    "    `Is the probability of having dark eyes independent of the gender?`\n",
    "\n",
    "- What type of variables are \"eye color\" and \"gender\"?\n",
    "- Why should it not?\n",
    "- Why could it?"
   ]
  },
  {
   "cell_type": "code",
   "execution_count": 3,
   "metadata": {
    "collapsed": false
   },
   "outputs": [
    {
     "data": {
      "text/html": [
       "<div>\n",
       "<table border=\"1\" class=\"dataframe\">\n",
       "  <thead>\n",
       "    <tr style=\"text-align: right;\">\n",
       "      <th></th>\n",
       "      <th>Dark</th>\n",
       "      <th>Clear</th>\n",
       "    </tr>\n",
       "  </thead>\n",
       "  <tbody>\n",
       "    <tr>\n",
       "      <th>Male</th>\n",
       "      <td>5</td>\n",
       "      <td>5</td>\n",
       "    </tr>\n",
       "    <tr>\n",
       "      <th>Female</th>\n",
       "      <td>10</td>\n",
       "      <td>10</td>\n",
       "    </tr>\n",
       "  </tbody>\n",
       "</table>\n",
       "</div>"
      ],
      "text/plain": [
       "        Dark  Clear\n",
       "Male       5      5\n",
       "Female    10     10"
      ]
     },
     "execution_count": 3,
     "metadata": {},
     "output_type": "execute_result"
    }
   ],
   "source": [
    "df_eyes = pd.DataFrame(\n",
    "    [\n",
    "        [5,5],\n",
    "        [10,10]\n",
    "    ],columns=[\"Dark\",\"Clear\"],index=[\"Male\",\"Female\"])\n",
    "\n",
    "df_eyes"
   ]
  },
  {
   "cell_type": "code",
   "execution_count": 4,
   "metadata": {
    "collapsed": false
   },
   "outputs": [
    {
     "data": {
      "text/plain": [
       "(0.0, 1.0, 1, array([[  5.,   5.],\n",
       "        [ 10.,  10.]]))"
      ]
     },
     "execution_count": 4,
     "metadata": {},
     "output_type": "execute_result"
    }
   ],
   "source": [
    "chi2_contingency(df_eyes)"
   ]
  },
  {
   "cell_type": "code",
   "execution_count": 50,
   "metadata": {
    "collapsed": true
   },
   "outputs": [],
   "source": [
    "chi2_contingency?"
   ]
  },
  {
   "cell_type": "code",
   "execution_count": 6,
   "metadata": {
    "collapsed": false
   },
   "outputs": [
    {
     "name": "stdout",
     "output_type": "stream",
     "text": [
      "1.0\n"
     ]
    },
    {
     "data": {
      "text/plain": [
       "array([[  5.,   5.],\n",
       "       [ 10.,  10.]])"
      ]
     },
     "execution_count": 6,
     "metadata": {},
     "output_type": "execute_result"
    }
   ],
   "source": [
    "chi,p,dof,expected = chi2_contingency(df_eyes)\n",
    "print(p)\n",
    "expected"
   ]
  },
  {
   "cell_type": "markdown",
   "metadata": {
    "collapsed": false
   },
   "source": [
    "**How does the test actually work**\n",
    "\n",
    "$$\\chi^2_{statistic} =  \\frac{\\sum{(Obs - Exp)^2}}{Exp}$$\n",
    "$$dof = (\\#Rows - 1) \\cdot (\\#Columns -1)$$"
   ]
  },
  {
   "cell_type": "code",
   "execution_count": 58,
   "metadata": {
    "collapsed": false
   },
   "outputs": [
    {
     "data": {
      "image/jpeg": "[encoded data removed]",
      "text/plain": [
       "<IPython.core.display.Image object>"
      ]
     },
     "execution_count": 58,
     "metadata": {},
     "output_type": "execute_result"
    }
   ],
   "source": [
    "Image(\"https://learn.bu.edu/bbcswebdav/pid-826908-dt-content-rid-2073693_1/courses/13sprgmetcj702_ol/course_images/metcj702_W06S02T03e_chi.jpg\")"
   ]
  },
  {
   "cell_type": "code",
   "execution_count": 8,
   "metadata": {
    "collapsed": false
   },
   "outputs": [],
   "source": [
    "df = pd.read_stata(\"./data/colombia.dta\")"
   ]
  },
  {
   "cell_type": "code",
   "execution_count": 9,
   "metadata": {
    "collapsed": false
   },
   "outputs": [
    {
     "data": {
      "text/html": [
       "<div>\n",
       "<table border=\"1\" class=\"dataframe\">\n",
       "  <thead>\n",
       "    <tr style=\"text-align: right;\">\n",
       "      <th></th>\n",
       "      <th>pais</th>\n",
       "      <th>idnum</th>\n",
       "      <th>uniq_id</th>\n",
       "      <th>estratopri</th>\n",
       "      <th>estratosec</th>\n",
       "      <th>upm</th>\n",
       "      <th>prov</th>\n",
       "      <th>municipio</th>\n",
       "      <th>cluster</th>\n",
       "      <th>ur</th>\n",
       "      <th>...</th>\n",
       "      <th>r16</th>\n",
       "      <th>r26</th>\n",
       "      <th>colorr</th>\n",
       "      <th>conocim</th>\n",
       "      <th>sexi</th>\n",
       "      <th>colori</th>\n",
       "      <th>nationality</th>\n",
       "      <th>formatq</th>\n",
       "      <th>sex</th>\n",
       "      <th>gi7r</th>\n",
       "    </tr>\n",
       "  </thead>\n",
       "  <tbody>\n",
       "    <tr>\n",
       "      <th>0</th>\n",
       "      <td>Colombia</td>\n",
       "      <td>f4f311fe-034e-4e6b-b964-858809632c74-f707c42a1...</td>\n",
       "      <td>COL14_14081447</td>\n",
       "      <td>Oriental</td>\n",
       "      <td>Pequeña: Menos de 25.000</td>\n",
       "      <td>50577.0</td>\n",
       "      <td>Meta</td>\n",
       "      <td>Puerto Lleras</td>\n",
       "      <td>184</td>\n",
       "      <td>Rural</td>\n",
       "      <td>...</td>\n",
       "      <td>NaN</td>\n",
       "      <td>No</td>\n",
       "      <td>4</td>\n",
       "      <td>Muy bajo</td>\n",
       "      <td>Mujer</td>\n",
       "      <td>3</td>\n",
       "      <td>Colombiano</td>\n",
       "      <td>Android</td>\n",
       "      <td>Hombre</td>\n",
       "      <td>NaN</td>\n",
       "    </tr>\n",
       "    <tr>\n",
       "      <th>1</th>\n",
       "      <td>Colombia</td>\n",
       "      <td>f9edf32f-e79e-47fa-ae43-358c05fda719-86d76c1d6...</td>\n",
       "      <td>COL14_14081504</td>\n",
       "      <td>Oriental</td>\n",
       "      <td>Pequeña: Menos de 25.000</td>\n",
       "      <td>15469.0</td>\n",
       "      <td>Boyacá</td>\n",
       "      <td>Moniquirá</td>\n",
       "      <td>160</td>\n",
       "      <td>Rural</td>\n",
       "      <td>...</td>\n",
       "      <td>NaN</td>\n",
       "      <td>No</td>\n",
       "      <td>2</td>\n",
       "      <td>Muy bajo</td>\n",
       "      <td>Hombre</td>\n",
       "      <td>4</td>\n",
       "      <td>Colombiano</td>\n",
       "      <td>Android</td>\n",
       "      <td>Hombre</td>\n",
       "      <td>NaN</td>\n",
       "    </tr>\n",
       "    <tr>\n",
       "      <th>2</th>\n",
       "      <td>Colombia</td>\n",
       "      <td>d7e365ab-03b5-4b9e-b1b1-2341cbd57e27-901527f52...</td>\n",
       "      <td>COL14_14081274</td>\n",
       "      <td>Atlántica</td>\n",
       "      <td>Pequeña: Menos de 25.000</td>\n",
       "      <td>8436.0</td>\n",
       "      <td>Atlántico</td>\n",
       "      <td>Manatí</td>\n",
       "      <td>11</td>\n",
       "      <td>Rural</td>\n",
       "      <td>...</td>\n",
       "      <td>NaN</td>\n",
       "      <td>No</td>\n",
       "      <td>8</td>\n",
       "      <td>Muy bajo</td>\n",
       "      <td>Mujer</td>\n",
       "      <td>3</td>\n",
       "      <td>Colombiano</td>\n",
       "      <td>Android</td>\n",
       "      <td>Hombre</td>\n",
       "      <td>NaN</td>\n",
       "    </tr>\n",
       "    <tr>\n",
       "      <th>3</th>\n",
       "      <td>Colombia</td>\n",
       "      <td>84848bcd-b1a0-4a2c-a938-3d82bfc36d20-f707c42a1...</td>\n",
       "      <td>COL14_14080774</td>\n",
       "      <td>Oriental</td>\n",
       "      <td>Pequeña: Menos de 25.000</td>\n",
       "      <td>25489.0</td>\n",
       "      <td>Cundinamarca</td>\n",
       "      <td>Nimaima</td>\n",
       "      <td>170</td>\n",
       "      <td>Rural</td>\n",
       "      <td>...</td>\n",
       "      <td>NaN</td>\n",
       "      <td>No</td>\n",
       "      <td>4</td>\n",
       "      <td>Bajo</td>\n",
       "      <td>Mujer</td>\n",
       "      <td>3</td>\n",
       "      <td>Colombiano</td>\n",
       "      <td>Android</td>\n",
       "      <td>Mujer</td>\n",
       "      <td>NaN</td>\n",
       "    </tr>\n",
       "    <tr>\n",
       "      <th>4</th>\n",
       "      <td>Colombia</td>\n",
       "      <td>7b7059b6-68bf-4d99-a425-6089f0b85aa1-219eaad88...</td>\n",
       "      <td>COL14_14080711</td>\n",
       "      <td>Central</td>\n",
       "      <td>Mediana: Entre 25.000 y 100.000</td>\n",
       "      <td>5665.0</td>\n",
       "      <td>Antioquia</td>\n",
       "      <td>Urabá</td>\n",
       "      <td>123</td>\n",
       "      <td>Rural</td>\n",
       "      <td>...</td>\n",
       "      <td>NaN</td>\n",
       "      <td>No</td>\n",
       "      <td>3</td>\n",
       "      <td>Ni alto ni bajo</td>\n",
       "      <td>Mujer</td>\n",
       "      <td>5</td>\n",
       "      <td>Colombiano</td>\n",
       "      <td>Android</td>\n",
       "      <td>Hombre</td>\n",
       "      <td>Incorrecto</td>\n",
       "    </tr>\n",
       "  </tbody>\n",
       "</table>\n",
       "<p>5 rows × 314 columns</p>\n",
       "</div>"
      ],
      "text/plain": [
       "       pais                                              idnum  \\\n",
       "0  Colombia  f4f311fe-034e-4e6b-b964-858809632c74-f707c42a1...   \n",
       "1  Colombia  f9edf32f-e79e-47fa-ae43-358c05fda719-86d76c1d6...   \n",
       "2  Colombia  d7e365ab-03b5-4b9e-b1b1-2341cbd57e27-901527f52...   \n",
       "3  Colombia  84848bcd-b1a0-4a2c-a938-3d82bfc36d20-f707c42a1...   \n",
       "4  Colombia  7b7059b6-68bf-4d99-a425-6089f0b85aa1-219eaad88...   \n",
       "\n",
       "          uniq_id estratopri                       estratosec      upm  \\\n",
       "0  COL14_14081447   Oriental         Pequeña: Menos de 25.000  50577.0   \n",
       "1  COL14_14081504   Oriental         Pequeña: Menos de 25.000  15469.0   \n",
       "2  COL14_14081274  Atlántica         Pequeña: Menos de 25.000   8436.0   \n",
       "3  COL14_14080774   Oriental         Pequeña: Menos de 25.000  25489.0   \n",
       "4  COL14_14080711    Central  Mediana: Entre 25.000 y 100.000   5665.0   \n",
       "\n",
       "           prov      municipio cluster     ur     ...      r16 r26 colorr  \\\n",
       "0          Meta  Puerto Lleras     184  Rural     ...      NaN  No      4   \n",
       "1        Boyacá      Moniquirá     160  Rural     ...      NaN  No      2   \n",
       "2     Atlántico         Manatí      11  Rural     ...      NaN  No      8   \n",
       "3  Cundinamarca        Nimaima     170  Rural     ...      NaN  No      4   \n",
       "4     Antioquia          Urabá     123  Rural     ...      NaN  No      3   \n",
       "\n",
       "           conocim    sexi colori nationality  formatq     sex        gi7r  \n",
       "0         Muy bajo   Mujer      3  Colombiano  Android  Hombre         NaN  \n",
       "1         Muy bajo  Hombre      4  Colombiano  Android  Hombre         NaN  \n",
       "2         Muy bajo   Mujer      3  Colombiano  Android  Hombre         NaN  \n",
       "3             Bajo   Mujer      3  Colombiano  Android   Mujer         NaN  \n",
       "4  Ni alto ni bajo   Mujer      5  Colombiano  Android  Hombre  Incorrecto  \n",
       "\n",
       "[5 rows x 314 columns]"
      ]
     },
     "execution_count": 9,
     "metadata": {},
     "output_type": "execute_result"
    }
   ],
   "source": [
    "df.head()"
   ]
  },
  {
   "cell_type": "code",
   "execution_count": 10,
   "metadata": {
    "collapsed": false
   },
   "outputs": [
    {
     "data": {
      "text/html": [
       "<div>\n",
       "<table border=\"1\" class=\"dataframe\">\n",
       "  <thead>\n",
       "    <tr>\n",
       "      <th>q1</th>\n",
       "      <th colspan=\"4\" halign=\"left\">Hombre</th>\n",
       "      <th colspan=\"4\" halign=\"left\">Mujer</th>\n",
       "    </tr>\n",
       "    <tr>\n",
       "      <th>colpaz2a</th>\n",
       "      <th>Muy posible</th>\n",
       "      <th>Posible</th>\n",
       "      <th>Poco posible</th>\n",
       "      <th>Nada posible</th>\n",
       "      <th>Muy posible</th>\n",
       "      <th>Posible</th>\n",
       "      <th>Poco posible</th>\n",
       "      <th>Nada posible</th>\n",
       "    </tr>\n",
       "    <tr>\n",
       "      <th>colpaz1a</th>\n",
       "      <th></th>\n",
       "      <th></th>\n",
       "      <th></th>\n",
       "      <th></th>\n",
       "      <th></th>\n",
       "      <th></th>\n",
       "      <th></th>\n",
       "      <th></th>\n",
       "    </tr>\n",
       "  </thead>\n",
       "  <tbody>\n",
       "    <tr>\n",
       "      <th>Negociación</th>\n",
       "      <td>32</td>\n",
       "      <td>121</td>\n",
       "      <td>169</td>\n",
       "      <td>71</td>\n",
       "      <td>26</td>\n",
       "      <td>118</td>\n",
       "      <td>189</td>\n",
       "      <td>94</td>\n",
       "    </tr>\n",
       "    <tr>\n",
       "      <th>Uso de la fuerza militar</th>\n",
       "      <td>3</td>\n",
       "      <td>22</td>\n",
       "      <td>74</td>\n",
       "      <td>186</td>\n",
       "      <td>3</td>\n",
       "      <td>10</td>\n",
       "      <td>70</td>\n",
       "      <td>141</td>\n",
       "    </tr>\n",
       "    <tr>\n",
       "      <th>[No leer] Ambas</th>\n",
       "      <td>0</td>\n",
       "      <td>4</td>\n",
       "      <td>17</td>\n",
       "      <td>22</td>\n",
       "      <td>2</td>\n",
       "      <td>9</td>\n",
       "      <td>17</td>\n",
       "      <td>18</td>\n",
       "    </tr>\n",
       "  </tbody>\n",
       "</table>\n",
       "</div>"
      ],
      "text/plain": [
       "q1                            Hombre                                    \\\n",
       "colpaz2a                 Muy posible Posible Poco posible Nada posible   \n",
       "colpaz1a                                                                 \n",
       "Negociación                       32     121          169           71   \n",
       "Uso de la fuerza militar           3      22           74          186   \n",
       "[No leer] Ambas                    0       4           17           22   \n",
       "\n",
       "q1                             Mujer                                    \n",
       "colpaz2a                 Muy posible Posible Poco posible Nada posible  \n",
       "colpaz1a                                                                \n",
       "Negociación                       26     118          189           94  \n",
       "Uso de la fuerza militar           3      10           70          141  \n",
       "[No leer] Ambas                    2       9           17           18  "
      ]
     },
     "execution_count": 10,
     "metadata": {},
     "output_type": "execute_result"
    }
   ],
   "source": [
    "x_variable = df[\"colpaz1a\"]\n",
    "other_variables =[df[\"q1\"],df[\"colpaz2a\"]]\n",
    "a = pd.crosstab(x_variable,other_variables)\n",
    "a"
   ]
  },
  {
   "cell_type": "code",
   "execution_count": 11,
   "metadata": {
    "collapsed": false
   },
   "outputs": [
    {
     "data": {
      "text/html": [
       "<div>\n",
       "<table border=\"1\" class=\"dataframe\">\n",
       "  <thead>\n",
       "    <tr style=\"text-align: right;\">\n",
       "      <th></th>\n",
       "      <th>0</th>\n",
       "      <th>1</th>\n",
       "      <th>2</th>\n",
       "      <th>3</th>\n",
       "      <th>4</th>\n",
       "      <th>5</th>\n",
       "      <th>6</th>\n",
       "      <th>7</th>\n",
       "    </tr>\n",
       "  </thead>\n",
       "  <tbody>\n",
       "    <tr>\n",
       "      <th>0</th>\n",
       "      <td>20.239774</td>\n",
       "      <td>85.007052</td>\n",
       "      <td>150.352609</td>\n",
       "      <td>161.339915</td>\n",
       "      <td>17.926657</td>\n",
       "      <td>79.224260</td>\n",
       "      <td>159.605078</td>\n",
       "      <td>146.304654</td>\n",
       "    </tr>\n",
       "    <tr>\n",
       "      <th>1</th>\n",
       "      <td>12.563470</td>\n",
       "      <td>52.766573</td>\n",
       "      <td>93.328632</td>\n",
       "      <td>100.148801</td>\n",
       "      <td>11.127645</td>\n",
       "      <td>49.177010</td>\n",
       "      <td>99.071932</td>\n",
       "      <td>90.815938</td>\n",
       "    </tr>\n",
       "    <tr>\n",
       "      <th>2</th>\n",
       "      <td>2.196756</td>\n",
       "      <td>9.226375</td>\n",
       "      <td>16.318759</td>\n",
       "      <td>17.511283</td>\n",
       "      <td>1.945698</td>\n",
       "      <td>8.598731</td>\n",
       "      <td>17.322990</td>\n",
       "      <td>15.879408</td>\n",
       "    </tr>\n",
       "  </tbody>\n",
       "</table>\n",
       "</div>"
      ],
      "text/plain": [
       "           0          1           2           3          4          5  \\\n",
       "0  20.239774  85.007052  150.352609  161.339915  17.926657  79.224260   \n",
       "1  12.563470  52.766573   93.328632  100.148801  11.127645  49.177010   \n",
       "2   2.196756   9.226375   16.318759   17.511283   1.945698   8.598731   \n",
       "\n",
       "            6           7  \n",
       "0  159.605078  146.304654  \n",
       "1   99.071932   90.815938  \n",
       "2   17.322990   15.879408  "
      ]
     },
     "execution_count": 11,
     "metadata": {},
     "output_type": "execute_result"
    }
   ],
   "source": [
    "#chi2,p,dof,expected \n",
    "pd.DataFrame(chi2_contingency(a)[3])"
   ]
  },
  {
   "cell_type": "code",
   "execution_count": 22,
   "metadata": {
    "collapsed": false
   },
   "outputs": [
    {
     "data": {
      "text/plain": [
       "\n",
       "\tFisher's Exact Test for Count Data with simulated p-value (based on\n",
       "\t1e+06 replicates)\n",
       "\n",
       "data:  a\n",
       "p-value = 0.1665\n",
       "alternative hypothesis: two.sided\n",
       "\n"
      ]
     },
     "metadata": {},
     "output_type": "display_data"
    }
   ],
   "source": [
    "%%R -i a\n",
    "fisher.test(a,simulate.p.value=TRUE,B=1e6)"
   ]
  },
  {
   "cell_type": "code",
   "execution_count": null,
   "metadata": {
    "collapsed": true
   },
   "outputs": [],
   "source": []
  },
  {
   "cell_type": "code",
   "execution_count": null,
   "metadata": {
    "collapsed": true
   },
   "outputs": [],
   "source": [
    "http://datasets.americasbarometer.org/database-login/usersearch.php?year=2014"
   ]
  },
  {
   "cell_type": "code",
   "execution_count": 66,
   "metadata": {
    "collapsed": false
   },
   "outputs": [],
   "source": [
    "a = pd.crosstab(df[\"colpaz1a\"],df[\"q10new\"])\n"
   ]
  },
  {
   "cell_type": "code",
   "execution_count": 80,
   "metadata": {
    "collapsed": false
   },
   "outputs": [
    {
     "data": {
      "text/html": [
       "<div>\n",
       "<table border=\"1\" class=\"dataframe\">\n",
       "  <thead>\n",
       "    <tr style=\"text-align: right;\">\n",
       "      <th>q10new</th>\n",
       "      <th>Ningún ingreso</th>\n",
       "      <th>Menos de 160.000</th>\n",
       "      <th>Entre 160.000  250.000</th>\n",
       "      <th>Entre 250.001  340.000</th>\n",
       "      <th>Entre 340.001  420.000</th>\n",
       "      <th>Entre 420.001  480.000</th>\n",
       "      <th>Entre 480.001  540.000</th>\n",
       "      <th>Entre 540.001  590.000</th>\n",
       "      <th>Entre 590.001  650.000</th>\n",
       "      <th>Entre 650.001  720.000</th>\n",
       "      <th>Entre 720.001  810.000</th>\n",
       "      <th>Entre 810.001  960.000</th>\n",
       "      <th>Entre 960.001  1.100.000</th>\n",
       "      <th>Entre 1.100.001  1.400.000</th>\n",
       "      <th>Entre 1.400.001  1.900.000</th>\n",
       "      <th>Entre 1.900.001  3.200.000</th>\n",
       "      <th>Más de 3.200.000</th>\n",
       "    </tr>\n",
       "    <tr>\n",
       "      <th>colpaz1a</th>\n",
       "      <th></th>\n",
       "      <th></th>\n",
       "      <th></th>\n",
       "      <th></th>\n",
       "      <th></th>\n",
       "      <th></th>\n",
       "      <th></th>\n",
       "      <th></th>\n",
       "      <th></th>\n",
       "      <th></th>\n",
       "      <th></th>\n",
       "      <th></th>\n",
       "      <th></th>\n",
       "      <th></th>\n",
       "      <th></th>\n",
       "      <th></th>\n",
       "      <th></th>\n",
       "    </tr>\n",
       "  </thead>\n",
       "  <tbody>\n",
       "    <tr>\n",
       "      <th>Negociación</th>\n",
       "      <td>5</td>\n",
       "      <td>25</td>\n",
       "      <td>63</td>\n",
       "      <td>51</td>\n",
       "      <td>44</td>\n",
       "      <td>23</td>\n",
       "      <td>38</td>\n",
       "      <td>44</td>\n",
       "      <td>88</td>\n",
       "      <td>59</td>\n",
       "      <td>50</td>\n",
       "      <td>47</td>\n",
       "      <td>52</td>\n",
       "      <td>61</td>\n",
       "      <td>54</td>\n",
       "      <td>48</td>\n",
       "      <td>37</td>\n",
       "    </tr>\n",
       "    <tr>\n",
       "      <th>Uso de la fuerza militar</th>\n",
       "      <td>3</td>\n",
       "      <td>10</td>\n",
       "      <td>21</td>\n",
       "      <td>21</td>\n",
       "      <td>23</td>\n",
       "      <td>11</td>\n",
       "      <td>18</td>\n",
       "      <td>28</td>\n",
       "      <td>50</td>\n",
       "      <td>42</td>\n",
       "      <td>32</td>\n",
       "      <td>29</td>\n",
       "      <td>46</td>\n",
       "      <td>35</td>\n",
       "      <td>45</td>\n",
       "      <td>34</td>\n",
       "      <td>29</td>\n",
       "    </tr>\n",
       "    <tr>\n",
       "      <th>[No leer] Ambas</th>\n",
       "      <td>1</td>\n",
       "      <td>1</td>\n",
       "      <td>2</td>\n",
       "      <td>4</td>\n",
       "      <td>7</td>\n",
       "      <td>2</td>\n",
       "      <td>4</td>\n",
       "      <td>5</td>\n",
       "      <td>8</td>\n",
       "      <td>8</td>\n",
       "      <td>5</td>\n",
       "      <td>2</td>\n",
       "      <td>6</td>\n",
       "      <td>7</td>\n",
       "      <td>11</td>\n",
       "      <td>6</td>\n",
       "      <td>7</td>\n",
       "    </tr>\n",
       "  </tbody>\n",
       "</table>\n",
       "</div>"
      ],
      "text/plain": [
       "q10new                    Ningún ingreso  Menos de 160.000  \\\n",
       "colpaz1a                                                     \n",
       "Negociación                            5                25   \n",
       "Uso de la fuerza militar               3                10   \n",
       "[No leer] Ambas                        1                 1   \n",
       "\n",
       "q10new                    Entre 160.000  250.000  Entre 250.001  340.000  \\\n",
       "colpaz1a                                                                     \n",
       "Negociación                                    63                       51   \n",
       "Uso de la fuerza militar                       21                       21   \n",
       "[No leer] Ambas                                 2                        4   \n",
       "\n",
       "q10new                    Entre 340.001  420.000  Entre 420.001  480.000  \\\n",
       "colpaz1a                                                                     \n",
       "Negociación                                    44                       23   \n",
       "Uso de la fuerza militar                       23                       11   \n",
       "[No leer] Ambas                                 7                        2   \n",
       "\n",
       "q10new                    Entre 480.001  540.000  Entre 540.001  590.000  \\\n",
       "colpaz1a                                                                     \n",
       "Negociación                                    38                       44   \n",
       "Uso de la fuerza militar                       18                       28   \n",
       "[No leer] Ambas                                 4                        5   \n",
       "\n",
       "q10new                    Entre 590.001  650.000  Entre 650.001  720.000  \\\n",
       "colpaz1a                                                                     \n",
       "Negociación                                    88                       59   \n",
       "Uso de la fuerza militar                       50                       42   \n",
       "[No leer] Ambas                                 8                        8   \n",
       "\n",
       "q10new                    Entre 720.001  810.000  Entre 810.001  960.000  \\\n",
       "colpaz1a                                                                     \n",
       "Negociación                                    50                       47   \n",
       "Uso de la fuerza militar                       32                       29   \n",
       "[No leer] Ambas                                 5                        2   \n",
       "\n",
       "q10new                    Entre 960.001  1.100.000  \\\n",
       "colpaz1a                                              \n",
       "Negociación                                      52   \n",
       "Uso de la fuerza militar                         46   \n",
       "[No leer] Ambas                                   6   \n",
       "\n",
       "q10new                    Entre 1.100.001  1.400.000  \\\n",
       "colpaz1a                                                \n",
       "Negociación                                        61   \n",
       "Uso de la fuerza militar                           35   \n",
       "[No leer] Ambas                                     7   \n",
       "\n",
       "q10new                    Entre 1.400.001  1.900.000  \\\n",
       "colpaz1a                                                \n",
       "Negociación                                        54   \n",
       "Uso de la fuerza militar                           45   \n",
       "[No leer] Ambas                                    11   \n",
       "\n",
       "q10new                    Entre 1.900.001  3.200.000  Más de 3.200.000  \n",
       "colpaz1a                                                                 \n",
       "Negociación                                        48                37  \n",
       "Uso de la fuerza militar                           34                29  \n",
       "[No leer] Ambas                                     6                 7  "
      ]
     },
     "execution_count": 80,
     "metadata": {},
     "output_type": "execute_result"
    }
   ],
   "source": [
    "a"
   ]
  },
  {
   "cell_type": "code",
   "execution_count": 79,
   "metadata": {
    "collapsed": false
   },
   "outputs": [],
   "source": [
    "df[\"q10new\"] = df[\"q10new\"].apply(d_cat2salary.get)"
   ]
  },
  {
   "cell_type": "code",
   "execution_count": 87,
   "metadata": {
    "collapsed": true
   },
   "outputs": [],
   "source": [
    "neg = df.loc[df[\"colpaz1a\"]==\"Negociación\",\"q10new\"].values\n",
    "mil = df.loc[df[\"colpaz1a\"]==\"Uso de la fuerza militar\",\"q10new\"].values"
   ]
  },
  {
   "cell_type": "code",
   "execution_count": 75,
   "metadata": {
    "collapsed": false
   },
   "outputs": [],
   "source": [
    "d_cat2salary = {\"nan\": np.NaN,\n",
    " 'Entre 420.001 \\x96 480.000':420,\n",
    " 'Entre 540.001 \\x96 590.000': 540,\n",
    " 'Más de 3.200.000':3200,\n",
    " 'Entre 250.001 \\x96 340.000':250,\n",
    " 'Entre 1.100.001 \\x96 1.400.000':1100,\n",
    " 'Entre 720.001 \\x96 810.000':720,\n",
    " 'Entre 160.000 \\x96 250.000':160,\n",
    " 'Entre 1.900.001 \\x96 3.200.000':1900,\n",
    " 'Entre 960.001 \\x96 1.100.000':960,\n",
    " 'Entre 480.001 \\x96 540.000':480,\n",
    " 'Entre 810.001 \\x96 960.000':810,\n",
    " 'Entre 340.001 \\x96 420.000':340,\n",
    " 'Menos de 160.000':80,\n",
    " 'Entre 590.001 \\x96 650.000':590,\n",
    " 'Entre 650.001 \\x96 720.000':650,\n",
    " 'Entre 1.400.001 \\x96 1.900.000':1400,\n",
    " 'Ningún ingreso':0}"
   ]
  },
  {
   "cell_type": "code",
   "execution_count": 88,
   "metadata": {
    "collapsed": false
   },
   "outputs": [
    {
     "data": {
      "text/plain": [
       "Ttest_indResult(statistic=-2.7682290747882634, pvalue=0.0057184953536886891)"
      ]
     },
     "execution_count": 88,
     "metadata": {},
     "output_type": "execute_result"
    }
   ],
   "source": [
    "ttest_ind(neg[np.isfinite(neg)],mil[np.isfinite(mil)])"
   ]
  },
  {
   "cell_type": "code",
   "execution_count": 111,
   "metadata": {
    "collapsed": true
   },
   "outputs": [],
   "source": [
    "n = np.log10(neg[np.isfinite(neg)])\n",
    "m = np.log10(mil[np.isfinite(mil)])"
   ]
  },
  {
   "cell_type": "code",
   "execution_count": 90,
   "metadata": {
    "collapsed": false
   },
   "outputs": [
    {
     "data": {
      "text/plain": [
       "(833.97972116603296, 947.58909853249475)"
      ]
     },
     "execution_count": 90,
     "metadata": {},
     "output_type": "execute_result"
    }
   ],
   "source": [
    "np.mean(neg[np.isfinite(neg)]),np.mean(mil[np.isfinite(mil)])"
   ]
  },
  {
   "cell_type": "code",
   "execution_count": 113,
   "metadata": {
    "collapsed": false
   },
   "outputs": [
    {
     "data": {
      "text/plain": [
       "(array([ 25,  63,   0,  95,  61, 241,  99, 115,  48,  37]),\n",
       " array([ 1.90308999,  2.06329599,  2.22350199,  2.38370798,  2.54391398,\n",
       "         2.70411998,  2.86432598,  3.02453198,  3.18473798,  3.34494398,\n",
       "         3.50514998]))"
      ]
     },
     "execution_count": 113,
     "metadata": {},
     "output_type": "execute_result"
    }
   ],
   "source": [
    "plt.histogram(n[np.isfinite(n)])\n"
   ]
  },
  {
   "cell_type": "code",
   "execution_count": 114,
   "metadata": {
    "collapsed": false
   },
   "outputs": [
    {
     "data": {
      "text/plain": [
       "(array([ 10,  21,   0,  44,  29, 152,  75,  80,  34,  29]),\n",
       " array([ 1.90308999,  2.06329599,  2.22350199,  2.38370798,  2.54391398,\n",
       "         2.70411998,  2.86432598,  3.02453198,  3.18473798,  3.34494398,\n",
       "         3.50514998]))"
      ]
     },
     "execution_count": 114,
     "metadata": {},
     "output_type": "execute_result"
    }
   ],
   "source": [
    "plt.histogram(m[np.isfinite(m)])"
   ]
  },
  {
   "cell_type": "code",
   "execution_count": 116,
   "metadata": {
    "collapsed": false
   },
   "outputs": [
    {
     "data": {
      "text/plain": [
       "Ttest_indResult(statistic=-3.6502846192410963, pvalue=0.00027270720849463873)"
      ]
     },
     "execution_count": 116,
     "metadata": {},
     "output_type": "execute_result"
    }
   ],
   "source": [
    "ttest_ind(n[np.isfinite(n)],m[np.isfinite(m)])"
   ]
  },
  {
   "cell_type": "code",
   "execution_count": null,
   "metadata": {
    "collapsed": true
   },
   "outputs": [],
   "source": []
  },
  {
   "cell_type": "code",
   "execution_count": null,
   "metadata": {
    "collapsed": true
   },
   "outputs": [],
   "source": [
    "## 1. Independence between variables using contingency tables:\n",
    "`In statistics, a contingency table (also known as a cross tabulation or crosstab) is a type of table in a matrix format that displays the (multivariate) frequency distribution of the variables. They are heavily used in survey research, business intelligence, engineering and scientific research. They provide a basic picture of the interrelation between two variables and can help find interactions between them.`\n",
    "- Visualize interaction between **categorical data**\n",
    "- We can use the $\\chi^2$ (chi-square) test to see if the interactions are significant."
   ]
  },
  {
   "cell_type": "code",
   "execution_count": 6,
   "metadata": {
    "collapsed": false,
    "scrolled": true
   },
   "outputs": [
    {
     "ename": "NameError",
     "evalue": "name 'chi2_contingency' is not defined",
     "output_type": "error",
     "traceback": [
      "\u001b[1;31m---------------------------------------------------------------------------\u001b[0m",
      "\u001b[1;31mNameError\u001b[0m                                 Traceback (most recent call last)",
      "\u001b[1;32m<ipython-input-6-6731c5f389f4>\u001b[0m in \u001b[0;36m<module>\u001b[1;34m()\u001b[0m\n\u001b[0;32m      1\u001b[0m \u001b[1;31m#chi2,p,dof,expected\u001b[0m\u001b[1;33m\u001b[0m\u001b[1;33m\u001b[0m\u001b[0m\n\u001b[1;32m----> 2\u001b[1;33m \u001b[0md\u001b[0m \u001b[1;33m=\u001b[0m \u001b[0mchi2_contingency\u001b[0m\u001b[1;33m(\u001b[0m\u001b[0mdf\u001b[0m\u001b[1;33m)\u001b[0m\u001b[1;33m\u001b[0m\u001b[0m\n\u001b[0m",
      "\u001b[1;31mNameError\u001b[0m: name 'chi2_contingency' is not defined"
     ]
    }
   ],
   "source": [
    "#chi2,p,dof,expected \n",
    "d = chi2_contingency(df)"
   ]
  },
  {
   "cell_type": "code",
   "execution_count": 2,
   "metadata": {
    "collapsed": true
   },
   "outputs": [],
   "source": [
    "import rpy2"
   ]
  },
  {
   "cell_type": "code",
   "execution_count": 4,
   "metadata": {
    "collapsed": false
   },
   "outputs": [
    {
     "name": "stderr",
     "output_type": "stream",
     "text": [
      "/home/javiergb/Programs/anaconda3/lib/python3.5/site-packages/IPython/extensions/rmagic.py:11: UserWarning: The rmagic extension in IPython has moved to `rpy2.ipython`, please see `rpy2` documentation.\n",
      "  warnings.warn(\"The rmagic extension in IPython has moved to \"\n"
     ]
    }
   ],
   "source": [
    "%load_ext rpy2.ipython"
   ]
  },
  {
   "cell_type": "code",
   "execution_count": 5,
   "metadata": {
    "collapsed": false
   },
   "outputs": [
    {
     "name": "stderr",
     "output_type": "stream",
     "text": [
      "ERROR: Line magic function `%R` not found.\n"
     ]
    }
   ],
   "source": [
    "%load_ext rpy2.ipython\n",
    "%%R -i df \n",
    "fisher.test(df)"
   ]
  },
  {
   "cell_type": "code",
   "execution_count": null,
   "metadata": {
    "collapsed": true
   },
   "outputs": [],
   "source": []
  },
  {
   "cell_type": "code",
   "execution_count": null,
   "metadata": {
    "collapsed": true
   },
   "outputs": [],
   "source": [
    "\n",
    "Compare 2 independent samples\n",
    "Each observation of the dependent variable is independent of the other observations of the dependent variable (its probability distribution isn't affected by their values). Exception: For the paired t-test, we only require that the pair-differences (Ai - Bi) be independent from each other (across i). [Note: \"independent\" and \"dependent\" are used in two different senses here. Just think of a \"dependent variable\" as one thing, and \"observations that are dependent\" as another thing.]\n",
    "Dependent variable has a normal distribution, with the same variance, σ2, in each group (as though the distribution for group A were merely shifted over to become the distribution for group B, without changing shape):"
   ]
  },
  {
   "cell_type": "code",
   "execution_count": null,
   "metadata": {
    "collapsed": true
   },
   "outputs": [],
   "source": [
    "\n",
    "\n",
    "    x = [np.random.randn() for _ in range(200)]\n",
    "    y = [np.random.randn()+0.6 for _ in range(200)]\n",
    "    ax = plt.subplot(1,1,1)\n",
    "    ax.hist(x,bins=np.linspace(np.min(x+y),np.max(x+y),25),alpha=0.3,histtype='stepfilled')\n",
    "    ax.hist(y,bins=np.linspace(np.min(x+y),np.max(x+y),25),alpha=0.3,histtype='stepfilled')\n",
    "    ax.set_xlabel('Value',size=20)\n",
    "    ax.set_ylabel('Freq',size=20)\n",
    "    customaxis(ax, c_left='k', c_bottom='k', c_right='none', c_top='none', lw=2, size=20, pad=8)\n",
    "    plt.show()\n",
    "    \n",
    "\n"
   ]
  },
  {
   "cell_type": "code",
   "execution_count": null,
   "metadata": {
    "collapsed": true
   },
   "outputs": [],
   "source": [
    "Compare many groups"
   ]
  },
  {
   "cell_type": "code",
   "execution_count": null,
   "metadata": {
    "collapsed": true
   },
   "outputs": [],
   "source": [
    "Limited dependent variable"
   ]
  },
  {
   "cell_type": "code",
   "execution_count": null,
   "metadata": {
    "collapsed": true
   },
   "outputs": [],
   "source": [
    "Fitting distributions"
   ]
  },
  {
   "cell_type": "code",
   "execution_count": null,
   "metadata": {
    "collapsed": true
   },
   "outputs": [],
   "source": []
  },
  {
   "cell_type": "code",
   "execution_count": null,
   "metadata": {
    "collapsed": true
   },
   "outputs": [],
   "source": [
    "* Stats recap I: Normality assumptions / t-test / Correlations / Anova / Non-parametric methods / Regression / Mixed models: 2 hours"
   ]
  },
  {
   "cell_type": "code",
   "execution_count": null,
   "metadata": {
    "collapsed": true
   },
   "outputs": [],
   "source": []
  },
  {
   "cell_type": "code",
   "execution_count": null,
   "metadata": {
    "collapsed": true
   },
   "outputs": [],
   "source": [
    "Network analysus"
   ]
  },
  {
   "cell_type": "code",
   "execution_count": null,
   "metadata": {
    "collapsed": true
   },
   "outputs": [],
   "source": []
  },
  {
   "cell_type": "code",
   "execution_count": null,
   "metadata": {
    "collapsed": true
   },
   "outputs": [],
   "source": [
    "Network analysis overview: 10 minutes"
   ]
  },
  {
   "cell_type": "code",
   "execution_count": null,
   "metadata": {
    "collapsed": true
   },
   "outputs": [],
   "source": []
  },
  {
   "cell_type": "code",
   "execution_count": null,
   "metadata": {
    "collapsed": true
   },
   "outputs": [],
   "source": [
    "* Correlation plots, heatmaps and autocorrelation: 0.5 hours"
   ]
  }
 ],
 "metadata": {
  "anaconda-cloud": {},
  "kernelspec": {
   "display_name": "Python [default]",
   "language": "python",
   "name": "python3"
  },
  "language_info": {
   "codemirror_mode": {
    "name": "ipython",
    "version": 3
   },
   "file_extension": ".py",
   "mimetype": "text/x-python",
   "name": "python",
   "nbconvert_exporter": "python",
   "pygments_lexer": "ipython3",
   "version": "3.5.2"
  }
 },
 "nbformat": 4,
 "nbformat_minor": 0
}
